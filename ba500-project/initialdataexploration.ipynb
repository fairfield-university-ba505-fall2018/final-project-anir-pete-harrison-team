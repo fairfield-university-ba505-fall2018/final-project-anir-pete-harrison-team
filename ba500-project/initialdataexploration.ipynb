{
 "cells": [
  {
   "cell_type": "markdown",
   "metadata": {},
   "source": [
    "<img align=\"left\" width=\"300\" height=\"300\" src=\"img/dolan.png\">\n",
    "\n",
    "# Exploratory Data Analysis (EDA) using Python\n",
    "\n",
    "#### Project Summary/Introduction\n",
    "<span style=\"color:darkblue\">This Jupyter notebook is submitted by Anir Chakraborty, Peter Groglio, and Harrison Buzzi on Dec-04-2018 as the final project in partial fulfillment of the requirements for **BA 505, Python for Analytics** at the Dolan School of Business at Fairfield University. \n",
    "\n",
    "<span style=\"color:darkblue\">The project objectives are threefold, as outlined in the course agenda:\n",
    "Apply Python skills to a student-selected analytical project of moderate (but nontrivial) scope and complexity, demonstrate mastery of Python, NumPy, Pandas, Matplolib, Jupyter, GitHub and finally to work in teams, with professional-quality tools and standards.\n",
    "\n",
    "<span style=\"color:darkblue\">Additionally, the Jupyter notebook here shares the data source, tries to preprocess the data to do basic exploratory data analysis(EDA), highlights probable research questions, the challenges anticipated and finally visualizes the results through Matplotlib and Seaborn libraries, all pieces tying together to tell a story."
   ]
  },
  {
   "cell_type": "markdown",
   "metadata": {},
   "source": [
    "\n",
    "#### Data Source \n",
    "https://catalog.data.gov/dataset/traffic-violations-56dda <span style=\"color:darkblue\">The dataset found on data.gov, contains traffic violation information from all electronic traffic violations issued in the Montgomery County of Maryland. Any information that can be used to uniquely identify the vehicle, the vehicle owner or the officer issuing the violation is not published. This dataset is intended for public access and use. "
   ]
  },
  {
   "cell_type": "code",
   "execution_count": 1,
   "metadata": {},
   "outputs": [],
   "source": [
    "#Import The NumPy, Pandas, Matplotlib, Seaborn Libraries With Aliases\n",
    "import pandas as pd\n",
    "import numpy as np\n",
    "import matplotlib.pyplot as plt\n",
    "import seaborn as sns\n",
    "\n",
    "#Enable Intellisense\n",
    "%config IPCompleter.greedy=True\n",
    "\n",
    "#Renders the Plot Within Jupyter\n",
    "%matplotlib inline"
   ]
  },
  {
   "cell_type": "markdown",
   "metadata": {},
   "source": [
    "<span style=\"color:darkblue\">A folder/dir *ba500package* is created as part of the project reproducibility feature, that includes a __init__.py file (to let Python know that ba505 is a package, and the data.py module containing the data retrieval function. The function downloads the huge data file only once, in the event it is not present in the data folder. (See Ref [2]). A quick preview of the first 5 rows of the data is given below with the head() method."
   ]
  },
  {
   "cell_type": "markdown",
   "metadata": {},
   "source": [
    "#### Load Dataset\n",
    "<span style=\"color:darkblue\"> The first download takes a bit of a time partly because there are 1.5 million rows in the dataset, and also due to the fact that it's parsing the date_of_stop and time_of_stop columns as datetimes row by row. There were examples in the Ref[2] article that said converting to datetime later after creating the index as is, considerably speeded the process."
   ]
  },
  {
   "cell_type": "code",
   "execution_count": 3,
   "metadata": {},
   "outputs": [
    {
     "data": {
      "text/html": [
       "<div>\n",
       "<style scoped>\n",
       "    .dataframe tbody tr th:only-of-type {\n",
       "        vertical-align: middle;\n",
       "    }\n",
       "\n",
       "    .dataframe tbody tr th {\n",
       "        vertical-align: top;\n",
       "    }\n",
       "\n",
       "    .dataframe thead th {\n",
       "        text-align: right;\n",
       "    }\n",
       "</style>\n",
       "<table border=\"1\" class=\"dataframe\">\n",
       "  <thead>\n",
       "    <tr style=\"text-align: right;\">\n",
       "      <th></th>\n",
       "      <th>Agency</th>\n",
       "      <th>SubAgency</th>\n",
       "      <th>Description</th>\n",
       "      <th>Location</th>\n",
       "      <th>Latitude</th>\n",
       "      <th>Longitude</th>\n",
       "      <th>Accident</th>\n",
       "      <th>Belts</th>\n",
       "      <th>Personal Injury</th>\n",
       "      <th>Property Damage</th>\n",
       "      <th>...</th>\n",
       "      <th>Charge</th>\n",
       "      <th>Article</th>\n",
       "      <th>Contributed To Accident</th>\n",
       "      <th>Race</th>\n",
       "      <th>Gender</th>\n",
       "      <th>Driver City</th>\n",
       "      <th>Driver State</th>\n",
       "      <th>DL State</th>\n",
       "      <th>Arrest Type</th>\n",
       "      <th>Geolocation</th>\n",
       "    </tr>\n",
       "    <tr>\n",
       "      <th>Date Of Stop_Time Of Stop</th>\n",
       "      <th></th>\n",
       "      <th></th>\n",
       "      <th></th>\n",
       "      <th></th>\n",
       "      <th></th>\n",
       "      <th></th>\n",
       "      <th></th>\n",
       "      <th></th>\n",
       "      <th></th>\n",
       "      <th></th>\n",
       "      <th></th>\n",
       "      <th></th>\n",
       "      <th></th>\n",
       "      <th></th>\n",
       "      <th></th>\n",
       "      <th></th>\n",
       "      <th></th>\n",
       "      <th></th>\n",
       "      <th></th>\n",
       "      <th></th>\n",
       "      <th></th>\n",
       "    </tr>\n",
       "  </thead>\n",
       "  <tbody>\n",
       "    <tr>\n",
       "      <th>2013-09-24 17:11:00</th>\n",
       "      <td>MCP</td>\n",
       "      <td>3rd district, Silver Spring</td>\n",
       "      <td>DRIVING VEHICLE ON HIGHWAY WITH SUSPENDED REGI...</td>\n",
       "      <td>8804 FLOWER AVE</td>\n",
       "      <td>NaN</td>\n",
       "      <td>NaN</td>\n",
       "      <td>No</td>\n",
       "      <td>No</td>\n",
       "      <td>No</td>\n",
       "      <td>No</td>\n",
       "      <td>...</td>\n",
       "      <td>13-401(h)</td>\n",
       "      <td>Transportation Article</td>\n",
       "      <td>No</td>\n",
       "      <td>BLACK</td>\n",
       "      <td>M</td>\n",
       "      <td>TAKOMA PARK</td>\n",
       "      <td>MD</td>\n",
       "      <td>MD</td>\n",
       "      <td>A - Marked Patrol</td>\n",
       "      <td>NaN</td>\n",
       "    </tr>\n",
       "    <tr>\n",
       "      <th>2017-08-29 10:19:00</th>\n",
       "      <td>MCP</td>\n",
       "      <td>2nd district, Bethesda</td>\n",
       "      <td>DRIVER FAILURE TO OBEY PROPERLY PLACED TRAFFIC...</td>\n",
       "      <td>WISCONSIN AVE@ ELM ST</td>\n",
       "      <td>38.981725</td>\n",
       "      <td>-77.092757</td>\n",
       "      <td>No</td>\n",
       "      <td>No</td>\n",
       "      <td>No</td>\n",
       "      <td>No</td>\n",
       "      <td>...</td>\n",
       "      <td>21-201(a1)</td>\n",
       "      <td>Transportation Article</td>\n",
       "      <td>No</td>\n",
       "      <td>WHITE</td>\n",
       "      <td>F</td>\n",
       "      <td>FAIRFAX STATION</td>\n",
       "      <td>VA</td>\n",
       "      <td>VA</td>\n",
       "      <td>A - Marked Patrol</td>\n",
       "      <td>(38.981725, -77.0927566666667)</td>\n",
       "    </tr>\n",
       "    <tr>\n",
       "      <th>2014-12-01 12:52:00</th>\n",
       "      <td>MCP</td>\n",
       "      <td>6th district, Gaithersburg / Montgomery Village</td>\n",
       "      <td>FAILURE STOP AND YIELD AT THRU HWY</td>\n",
       "      <td>CHRISTOPHER AVE/MONTGOMERY VILLAGE AVE</td>\n",
       "      <td>39.162888</td>\n",
       "      <td>-77.229088</td>\n",
       "      <td>No</td>\n",
       "      <td>No</td>\n",
       "      <td>No</td>\n",
       "      <td>Yes</td>\n",
       "      <td>...</td>\n",
       "      <td>21-403(b)</td>\n",
       "      <td>Transportation Article</td>\n",
       "      <td>No</td>\n",
       "      <td>BLACK</td>\n",
       "      <td>F</td>\n",
       "      <td>UPPER MARLBORO</td>\n",
       "      <td>MD</td>\n",
       "      <td>MD</td>\n",
       "      <td>A - Marked Patrol</td>\n",
       "      <td>(39.1628883333333, -77.2290883333333)</td>\n",
       "    </tr>\n",
       "    <tr>\n",
       "      <th>2017-08-29 09:22:00</th>\n",
       "      <td>MCP</td>\n",
       "      <td>3rd district, Silver Spring</td>\n",
       "      <td>FAILURE YIELD RIGHT OF WAY ON U TURN</td>\n",
       "      <td>CHERRY HILL RD./CALVERTON BLVD.</td>\n",
       "      <td>39.056975</td>\n",
       "      <td>-76.954633</td>\n",
       "      <td>No</td>\n",
       "      <td>No</td>\n",
       "      <td>No</td>\n",
       "      <td>Yes</td>\n",
       "      <td>...</td>\n",
       "      <td>21-402(b)</td>\n",
       "      <td>Transportation Article</td>\n",
       "      <td>No</td>\n",
       "      <td>BLACK</td>\n",
       "      <td>M</td>\n",
       "      <td>FORT WASHINGTON</td>\n",
       "      <td>MD</td>\n",
       "      <td>MD</td>\n",
       "      <td>A - Marked Patrol</td>\n",
       "      <td>(39.056975, -76.9546333333333)</td>\n",
       "    </tr>\n",
       "    <tr>\n",
       "      <th>2017-08-28 23:41:00</th>\n",
       "      <td>MCP</td>\n",
       "      <td>6th district, Gaithersburg / Montgomery Village</td>\n",
       "      <td>FAILURE OF DR. TO MAKE LANE CHANGE TO AVAIL. L...</td>\n",
       "      <td>355 @ SOUTH WESTLAND DRIVE</td>\n",
       "      <td>NaN</td>\n",
       "      <td>NaN</td>\n",
       "      <td>No</td>\n",
       "      <td>No</td>\n",
       "      <td>No</td>\n",
       "      <td>No</td>\n",
       "      <td>...</td>\n",
       "      <td>21-405(e1)</td>\n",
       "      <td>Transportation Article</td>\n",
       "      <td>No</td>\n",
       "      <td>WHITE</td>\n",
       "      <td>M</td>\n",
       "      <td>GAITHERSBURG</td>\n",
       "      <td>MD</td>\n",
       "      <td>MD</td>\n",
       "      <td>A - Marked Patrol</td>\n",
       "      <td>NaN</td>\n",
       "    </tr>\n",
       "  </tbody>\n",
       "</table>\n",
       "<p>5 rows × 33 columns</p>\n",
       "</div>"
      ],
      "text/plain": [
       "                          Agency  \\\n",
       "Date Of Stop_Time Of Stop          \n",
       "2013-09-24 17:11:00          MCP   \n",
       "2017-08-29 10:19:00          MCP   \n",
       "2014-12-01 12:52:00          MCP   \n",
       "2017-08-29 09:22:00          MCP   \n",
       "2017-08-28 23:41:00          MCP   \n",
       "\n",
       "                                                                 SubAgency  \\\n",
       "Date Of Stop_Time Of Stop                                                    \n",
       "2013-09-24 17:11:00                            3rd district, Silver Spring   \n",
       "2017-08-29 10:19:00                                 2nd district, Bethesda   \n",
       "2014-12-01 12:52:00        6th district, Gaithersburg / Montgomery Village   \n",
       "2017-08-29 09:22:00                            3rd district, Silver Spring   \n",
       "2017-08-28 23:41:00        6th district, Gaithersburg / Montgomery Village   \n",
       "\n",
       "                                                                 Description  \\\n",
       "Date Of Stop_Time Of Stop                                                      \n",
       "2013-09-24 17:11:00        DRIVING VEHICLE ON HIGHWAY WITH SUSPENDED REGI...   \n",
       "2017-08-29 10:19:00        DRIVER FAILURE TO OBEY PROPERLY PLACED TRAFFIC...   \n",
       "2014-12-01 12:52:00                       FAILURE STOP AND YIELD AT THRU HWY   \n",
       "2017-08-29 09:22:00                     FAILURE YIELD RIGHT OF WAY ON U TURN   \n",
       "2017-08-28 23:41:00        FAILURE OF DR. TO MAKE LANE CHANGE TO AVAIL. L...   \n",
       "\n",
       "                                                         Location   Latitude  \\\n",
       "Date Of Stop_Time Of Stop                                                      \n",
       "2013-09-24 17:11:00                               8804 FLOWER AVE        NaN   \n",
       "2017-08-29 10:19:00                         WISCONSIN AVE@ ELM ST  38.981725   \n",
       "2014-12-01 12:52:00        CHRISTOPHER AVE/MONTGOMERY VILLAGE AVE  39.162888   \n",
       "2017-08-29 09:22:00               CHERRY HILL RD./CALVERTON BLVD.  39.056975   \n",
       "2017-08-28 23:41:00                    355 @ SOUTH WESTLAND DRIVE        NaN   \n",
       "\n",
       "                           Longitude Accident Belts Personal Injury  \\\n",
       "Date Of Stop_Time Of Stop                                             \n",
       "2013-09-24 17:11:00              NaN       No    No              No   \n",
       "2017-08-29 10:19:00       -77.092757       No    No              No   \n",
       "2014-12-01 12:52:00       -77.229088       No    No              No   \n",
       "2017-08-29 09:22:00       -76.954633       No    No              No   \n",
       "2017-08-28 23:41:00              NaN       No    No              No   \n",
       "\n",
       "                          Property Damage  \\\n",
       "Date Of Stop_Time Of Stop                   \n",
       "2013-09-24 17:11:00                    No   \n",
       "2017-08-29 10:19:00                    No   \n",
       "2014-12-01 12:52:00                   Yes   \n",
       "2017-08-29 09:22:00                   Yes   \n",
       "2017-08-28 23:41:00                    No   \n",
       "\n",
       "                                           ...                        Charge  \\\n",
       "Date Of Stop_Time Of Stop                  ...                                 \n",
       "2013-09-24 17:11:00                        ...                     13-401(h)   \n",
       "2017-08-29 10:19:00                        ...                    21-201(a1)   \n",
       "2014-12-01 12:52:00                        ...                     21-403(b)   \n",
       "2017-08-29 09:22:00                        ...                     21-402(b)   \n",
       "2017-08-28 23:41:00                        ...                    21-405(e1)   \n",
       "\n",
       "                                          Article Contributed To Accident  \\\n",
       "Date Of Stop_Time Of Stop                                                   \n",
       "2013-09-24 17:11:00        Transportation Article                      No   \n",
       "2017-08-29 10:19:00        Transportation Article                      No   \n",
       "2014-12-01 12:52:00        Transportation Article                      No   \n",
       "2017-08-29 09:22:00        Transportation Article                      No   \n",
       "2017-08-28 23:41:00        Transportation Article                      No   \n",
       "\n",
       "                            Race Gender      Driver City Driver State  \\\n",
       "Date Of Stop_Time Of Stop                                               \n",
       "2013-09-24 17:11:00        BLACK      M      TAKOMA PARK           MD   \n",
       "2017-08-29 10:19:00        WHITE      F  FAIRFAX STATION           VA   \n",
       "2014-12-01 12:52:00        BLACK      F   UPPER MARLBORO           MD   \n",
       "2017-08-29 09:22:00        BLACK      M  FORT WASHINGTON           MD   \n",
       "2017-08-28 23:41:00        WHITE      M     GAITHERSBURG           MD   \n",
       "\n",
       "                          DL State        Arrest Type  \\\n",
       "Date Of Stop_Time Of Stop                               \n",
       "2013-09-24 17:11:00             MD  A - Marked Patrol   \n",
       "2017-08-29 10:19:00             VA  A - Marked Patrol   \n",
       "2014-12-01 12:52:00             MD  A - Marked Patrol   \n",
       "2017-08-29 09:22:00             MD  A - Marked Patrol   \n",
       "2017-08-28 23:41:00             MD  A - Marked Patrol   \n",
       "\n",
       "                                                     Geolocation  \n",
       "Date Of Stop_Time Of Stop                                         \n",
       "2013-09-24 17:11:00                                          NaN  \n",
       "2017-08-29 10:19:00               (38.981725, -77.0927566666667)  \n",
       "2014-12-01 12:52:00        (39.1628883333333, -77.2290883333333)  \n",
       "2017-08-29 09:22:00               (39.056975, -76.9546333333333)  \n",
       "2017-08-28 23:41:00                                          NaN  \n",
       "\n",
       "[5 rows x 33 columns]"
      ]
     },
     "execution_count": 3,
     "metadata": {},
     "output_type": "execute_result"
    }
   ],
   "source": [
    "from ba500package.data import get_county_data\n",
    "\n",
    "data = get_county_data()\n",
    "\n",
    "#Preview The First Few Lines\n",
    "data.head()"
   ]
  },
  {
   "cell_type": "markdown",
   "metadata": {},
   "source": [
    "#### Explore Data"
   ]
  },
  {
   "cell_type": "code",
   "execution_count": 4,
   "metadata": {},
   "outputs": [
    {
     "data": {
      "text/plain": [
       "Index(['Agency', 'SubAgency', 'Description', 'Location', 'Latitude',\n",
       "       'Longitude', 'Accident', 'Belts', 'Personal Injury', 'Property Damage',\n",
       "       'Fatal', 'Commercial License', 'HAZMAT', 'Commercial Vehicle',\n",
       "       'Alcohol', 'Work Zone', 'State', 'VehicleType', 'Year', 'Make', 'Model',\n",
       "       'Color', 'Violation Type', 'Charge', 'Article',\n",
       "       'Contributed To Accident', 'Race', 'Gender', 'Driver City',\n",
       "       'Driver State', 'DL State', 'Arrest Type', 'Geolocation'],\n",
       "      dtype='object')"
      ]
     },
     "execution_count": 4,
     "metadata": {},
     "output_type": "execute_result"
    }
   ],
   "source": [
    "#List the Available Fields\n",
    "data.columns"
   ]
  },
  {
   "cell_type": "markdown",
   "metadata": {},
   "source": [
    "#### Clean Data\n",
    "<span style=\"color:darkblue\">Look at what kind of data is used and how consistently populated the data is."
   ]
  },
  {
   "cell_type": "code",
   "execution_count": 5,
   "metadata": {},
   "outputs": [
    {
     "name": "stdout",
     "output_type": "stream",
     "text": [
      "<class 'pandas.core.frame.DataFrame'>\n",
      "DatetimeIndex: 1418223 entries, 2013-09-24 17:11:00 to 2018-11-26 11:33:00\n",
      "Data columns (total 33 columns):\n",
      "Agency                     1418223 non-null object\n",
      "SubAgency                  1418213 non-null object\n",
      "Description                1418214 non-null object\n",
      "Location                   1418221 non-null object\n",
      "Latitude                   1314870 non-null float64\n",
      "Longitude                  1314870 non-null float64\n",
      "Accident                   1418223 non-null object\n",
      "Belts                      1418223 non-null object\n",
      "Personal Injury            1418223 non-null object\n",
      "Property Damage            1418223 non-null object\n",
      "Fatal                      1418223 non-null object\n",
      "Commercial License         1418223 non-null object\n",
      "HAZMAT                     1418223 non-null object\n",
      "Commercial Vehicle         1418223 non-null object\n",
      "Alcohol                    1418223 non-null object\n",
      "Work Zone                  1418223 non-null object\n",
      "State                      1418164 non-null object\n",
      "VehicleType                1418223 non-null object\n",
      "Year                       1409560 non-null float64\n",
      "Make                       1418164 non-null object\n",
      "Model                      1418027 non-null object\n",
      "Color                      1401158 non-null object\n",
      "Violation Type             1418223 non-null object\n",
      "Charge                     1418223 non-null object\n",
      "Article                    1347604 non-null object\n",
      "Contributed To Accident    1418223 non-null object\n",
      "Race                       1418223 non-null object\n",
      "Gender                     1418223 non-null object\n",
      "Driver City                1417918 non-null object\n",
      "Driver State               1418212 non-null object\n",
      "DL State                   1417294 non-null object\n",
      "Arrest Type                1418223 non-null object\n",
      "Geolocation                1314870 non-null object\n",
      "dtypes: float64(3), object(30)\n",
      "memory usage: 367.9+ MB\n"
     ]
    }
   ],
   "source": [
    "#Return a Count and Datatype For Each Column\n",
    "data.info()"
   ]
  },
  {
   "cell_type": "markdown",
   "metadata": {},
   "source": [
    "<span style=\"color:darkblue\">The above *info* command tells you the missing rows, the **isnull()** function below determines if there is any null data for each of the columns. The return value of \"True\" would mean data there is null data in the column."
   ]
  },
  {
   "cell_type": "code",
   "execution_count": 6,
   "metadata": {},
   "outputs": [
    {
     "data": {
      "text/plain": [
       "Agency                     False\n",
       "SubAgency                   True\n",
       "Description                 True\n",
       "Location                    True\n",
       "Latitude                    True\n",
       "Longitude                   True\n",
       "Accident                   False\n",
       "Belts                      False\n",
       "Personal Injury            False\n",
       "Property Damage            False\n",
       "Fatal                      False\n",
       "Commercial License         False\n",
       "HAZMAT                     False\n",
       "Commercial Vehicle         False\n",
       "Alcohol                    False\n",
       "Work Zone                  False\n",
       "State                       True\n",
       "VehicleType                False\n",
       "Year                        True\n",
       "Make                        True\n",
       "Model                       True\n",
       "Color                       True\n",
       "Violation Type             False\n",
       "Charge                     False\n",
       "Article                     True\n",
       "Contributed To Accident    False\n",
       "Race                       False\n",
       "Gender                     False\n",
       "Driver City                 True\n",
       "Driver State                True\n",
       "DL State                    True\n",
       "Arrest Type                False\n",
       "Geolocation                 True\n",
       "dtype: bool"
      ]
     },
     "execution_count": 6,
     "metadata": {},
     "output_type": "execute_result"
    }
   ],
   "source": [
    "#Look For Any Null Data\n",
    "pd.isnull(data).any()"
   ]
  },
  {
   "cell_type": "code",
   "execution_count": 7,
   "metadata": {},
   "outputs": [
    {
     "data": {
      "text/html": [
       "<div>\n",
       "<style scoped>\n",
       "    .dataframe tbody tr th:only-of-type {\n",
       "        vertical-align: middle;\n",
       "    }\n",
       "\n",
       "    .dataframe tbody tr th {\n",
       "        vertical-align: top;\n",
       "    }\n",
       "\n",
       "    .dataframe thead th {\n",
       "        text-align: right;\n",
       "    }\n",
       "</style>\n",
       "<table border=\"1\" class=\"dataframe\">\n",
       "  <thead>\n",
       "    <tr style=\"text-align: right;\">\n",
       "      <th></th>\n",
       "      <th>Agency</th>\n",
       "      <th>SubAgency</th>\n",
       "      <th>Description</th>\n",
       "      <th>Location</th>\n",
       "      <th>Latitude</th>\n",
       "      <th>Longitude</th>\n",
       "      <th>Accident</th>\n",
       "      <th>Belts</th>\n",
       "      <th>Personal Injury</th>\n",
       "      <th>Geolocation</th>\n",
       "    </tr>\n",
       "    <tr>\n",
       "      <th>Date Of Stop_Time Of Stop</th>\n",
       "      <th></th>\n",
       "      <th></th>\n",
       "      <th></th>\n",
       "      <th></th>\n",
       "      <th></th>\n",
       "      <th></th>\n",
       "      <th></th>\n",
       "      <th></th>\n",
       "      <th></th>\n",
       "      <th></th>\n",
       "    </tr>\n",
       "  </thead>\n",
       "  <tbody>\n",
       "    <tr>\n",
       "      <th>2013-09-24 17:11:00</th>\n",
       "      <td>MCP</td>\n",
       "      <td>3rd district, Silver Spring</td>\n",
       "      <td>DRIVING VEHICLE ON HIGHWAY WITH SUSPENDED REGI...</td>\n",
       "      <td>8804 FLOWER AVE</td>\n",
       "      <td>NaN</td>\n",
       "      <td>NaN</td>\n",
       "      <td>No</td>\n",
       "      <td>No</td>\n",
       "      <td>No</td>\n",
       "      <td>NaN</td>\n",
       "    </tr>\n",
       "    <tr>\n",
       "      <th>2017-08-29 10:19:00</th>\n",
       "      <td>MCP</td>\n",
       "      <td>2nd district, Bethesda</td>\n",
       "      <td>DRIVER FAILURE TO OBEY PROPERLY PLACED TRAFFIC...</td>\n",
       "      <td>WISCONSIN AVE@ ELM ST</td>\n",
       "      <td>38.981725</td>\n",
       "      <td>-77.092757</td>\n",
       "      <td>No</td>\n",
       "      <td>No</td>\n",
       "      <td>No</td>\n",
       "      <td>(38.981725, -77.0927566666667)</td>\n",
       "    </tr>\n",
       "    <tr>\n",
       "      <th>2014-12-01 12:52:00</th>\n",
       "      <td>MCP</td>\n",
       "      <td>6th district, Gaithersburg / Montgomery Village</td>\n",
       "      <td>FAILURE STOP AND YIELD AT THRU HWY</td>\n",
       "      <td>CHRISTOPHER AVE/MONTGOMERY VILLAGE AVE</td>\n",
       "      <td>39.162888</td>\n",
       "      <td>-77.229088</td>\n",
       "      <td>No</td>\n",
       "      <td>No</td>\n",
       "      <td>No</td>\n",
       "      <td>(39.1628883333333, -77.2290883333333)</td>\n",
       "    </tr>\n",
       "    <tr>\n",
       "      <th>2017-08-29 09:22:00</th>\n",
       "      <td>MCP</td>\n",
       "      <td>3rd district, Silver Spring</td>\n",
       "      <td>FAILURE YIELD RIGHT OF WAY ON U TURN</td>\n",
       "      <td>CHERRY HILL RD./CALVERTON BLVD.</td>\n",
       "      <td>39.056975</td>\n",
       "      <td>-76.954633</td>\n",
       "      <td>No</td>\n",
       "      <td>No</td>\n",
       "      <td>No</td>\n",
       "      <td>(39.056975, -76.9546333333333)</td>\n",
       "    </tr>\n",
       "    <tr>\n",
       "      <th>2017-08-28 23:41:00</th>\n",
       "      <td>MCP</td>\n",
       "      <td>6th district, Gaithersburg / Montgomery Village</td>\n",
       "      <td>FAILURE OF DR. TO MAKE LANE CHANGE TO AVAIL. L...</td>\n",
       "      <td>355 @ SOUTH WESTLAND DRIVE</td>\n",
       "      <td>NaN</td>\n",
       "      <td>NaN</td>\n",
       "      <td>No</td>\n",
       "      <td>No</td>\n",
       "      <td>No</td>\n",
       "      <td>NaN</td>\n",
       "    </tr>\n",
       "  </tbody>\n",
       "</table>\n",
       "</div>"
      ],
      "text/plain": [
       "                          Agency  \\\n",
       "Date Of Stop_Time Of Stop          \n",
       "2013-09-24 17:11:00          MCP   \n",
       "2017-08-29 10:19:00          MCP   \n",
       "2014-12-01 12:52:00          MCP   \n",
       "2017-08-29 09:22:00          MCP   \n",
       "2017-08-28 23:41:00          MCP   \n",
       "\n",
       "                                                                 SubAgency  \\\n",
       "Date Of Stop_Time Of Stop                                                    \n",
       "2013-09-24 17:11:00                            3rd district, Silver Spring   \n",
       "2017-08-29 10:19:00                                 2nd district, Bethesda   \n",
       "2014-12-01 12:52:00        6th district, Gaithersburg / Montgomery Village   \n",
       "2017-08-29 09:22:00                            3rd district, Silver Spring   \n",
       "2017-08-28 23:41:00        6th district, Gaithersburg / Montgomery Village   \n",
       "\n",
       "                                                                 Description  \\\n",
       "Date Of Stop_Time Of Stop                                                      \n",
       "2013-09-24 17:11:00        DRIVING VEHICLE ON HIGHWAY WITH SUSPENDED REGI...   \n",
       "2017-08-29 10:19:00        DRIVER FAILURE TO OBEY PROPERLY PLACED TRAFFIC...   \n",
       "2014-12-01 12:52:00                       FAILURE STOP AND YIELD AT THRU HWY   \n",
       "2017-08-29 09:22:00                     FAILURE YIELD RIGHT OF WAY ON U TURN   \n",
       "2017-08-28 23:41:00        FAILURE OF DR. TO MAKE LANE CHANGE TO AVAIL. L...   \n",
       "\n",
       "                                                         Location   Latitude  \\\n",
       "Date Of Stop_Time Of Stop                                                      \n",
       "2013-09-24 17:11:00                               8804 FLOWER AVE        NaN   \n",
       "2017-08-29 10:19:00                         WISCONSIN AVE@ ELM ST  38.981725   \n",
       "2014-12-01 12:52:00        CHRISTOPHER AVE/MONTGOMERY VILLAGE AVE  39.162888   \n",
       "2017-08-29 09:22:00               CHERRY HILL RD./CALVERTON BLVD.  39.056975   \n",
       "2017-08-28 23:41:00                    355 @ SOUTH WESTLAND DRIVE        NaN   \n",
       "\n",
       "                           Longitude Accident Belts Personal Injury  \\\n",
       "Date Of Stop_Time Of Stop                                             \n",
       "2013-09-24 17:11:00              NaN       No    No              No   \n",
       "2017-08-29 10:19:00       -77.092757       No    No              No   \n",
       "2014-12-01 12:52:00       -77.229088       No    No              No   \n",
       "2017-08-29 09:22:00       -76.954633       No    No              No   \n",
       "2017-08-28 23:41:00              NaN       No    No              No   \n",
       "\n",
       "                                                     Geolocation  \n",
       "Date Of Stop_Time Of Stop                                         \n",
       "2013-09-24 17:11:00                                          NaN  \n",
       "2017-08-29 10:19:00               (38.981725, -77.0927566666667)  \n",
       "2014-12-01 12:52:00        (39.1628883333333, -77.2290883333333)  \n",
       "2017-08-29 09:22:00               (39.056975, -76.9546333333333)  \n",
       "2017-08-28 23:41:00                                          NaN  "
      ]
     },
     "execution_count": 7,
     "metadata": {},
     "output_type": "execute_result"
    }
   ],
   "source": [
    "#Look at Specific Data Set\n",
    "data.iloc[:, list(range(9)) + [-1]].head()"
   ]
  },
  {
   "cell_type": "markdown",
   "metadata": {},
   "source": [
    "<span style=\"color:darkblue\">Drop rows with missing values. We can see that most columns have similar numbers of values besides Latitude, Longitude and Geolocation (A combination of latitude and longitude). We need to make a determination if we fill in the blanks with dummy values or drop those rows altogether. We should be careful that we are not dropping important data points that might be needed for our analysis later on. But to keep things simple and due to the fact that we have almost 1.5 million rows, it will be best to have the exact same number of values for each field. We'll go ahead and make sure that every single cell has a value by doing a bulk dropna() function call."
   ]
  },
  {
   "cell_type": "code",
   "execution_count": 8,
   "metadata": {},
   "outputs": [],
   "source": [
    "#Drop Row with Missing Data\n",
    "data_clean= data.dropna()"
   ]
  },
  {
   "cell_type": "markdown",
   "metadata": {},
   "source": [
    "<span style=\"color:darkblue\"> Using **iloc** function look for the fields/columns not showing up through  head()"
   ]
  },
  {
   "cell_type": "code",
   "execution_count": 9,
   "metadata": {},
   "outputs": [
    {
     "data": {
      "text/html": [
       "<div>\n",
       "<style scoped>\n",
       "    .dataframe tbody tr th:only-of-type {\n",
       "        vertical-align: middle;\n",
       "    }\n",
       "\n",
       "    .dataframe tbody tr th {\n",
       "        vertical-align: top;\n",
       "    }\n",
       "\n",
       "    .dataframe thead th {\n",
       "        text-align: right;\n",
       "    }\n",
       "</style>\n",
       "<table border=\"1\" class=\"dataframe\">\n",
       "  <thead>\n",
       "    <tr style=\"text-align: right;\">\n",
       "      <th></th>\n",
       "      <th>Fatal</th>\n",
       "      <th>Commercial License</th>\n",
       "      <th>HAZMAT</th>\n",
       "      <th>Commercial Vehicle</th>\n",
       "      <th>Alcohol</th>\n",
       "      <th>Work Zone</th>\n",
       "      <th>State</th>\n",
       "      <th>VehicleType</th>\n",
       "      <th>Year</th>\n",
       "      <th>Make</th>\n",
       "      <th>Model</th>\n",
       "      <th>Color</th>\n",
       "      <th>Violation Type</th>\n",
       "    </tr>\n",
       "    <tr>\n",
       "      <th>Date Of Stop_Time Of Stop</th>\n",
       "      <th></th>\n",
       "      <th></th>\n",
       "      <th></th>\n",
       "      <th></th>\n",
       "      <th></th>\n",
       "      <th></th>\n",
       "      <th></th>\n",
       "      <th></th>\n",
       "      <th></th>\n",
       "      <th></th>\n",
       "      <th></th>\n",
       "      <th></th>\n",
       "      <th></th>\n",
       "    </tr>\n",
       "  </thead>\n",
       "  <tbody>\n",
       "    <tr>\n",
       "      <th>2013-09-24 17:11:00</th>\n",
       "      <td>No</td>\n",
       "      <td>No</td>\n",
       "      <td>No</td>\n",
       "      <td>No</td>\n",
       "      <td>No</td>\n",
       "      <td>No</td>\n",
       "      <td>MD</td>\n",
       "      <td>02 - Automobile</td>\n",
       "      <td>2008.0</td>\n",
       "      <td>FORD</td>\n",
       "      <td>4S</td>\n",
       "      <td>BLACK</td>\n",
       "      <td>Citation</td>\n",
       "    </tr>\n",
       "    <tr>\n",
       "      <th>2017-08-29 10:19:00</th>\n",
       "      <td>No</td>\n",
       "      <td>No</td>\n",
       "      <td>No</td>\n",
       "      <td>No</td>\n",
       "      <td>No</td>\n",
       "      <td>No</td>\n",
       "      <td>VA</td>\n",
       "      <td>02 - Automobile</td>\n",
       "      <td>2001.0</td>\n",
       "      <td>TOYOTA</td>\n",
       "      <td>COROLLA</td>\n",
       "      <td>GREEN</td>\n",
       "      <td>Citation</td>\n",
       "    </tr>\n",
       "    <tr>\n",
       "      <th>2014-12-01 12:52:00</th>\n",
       "      <td>No</td>\n",
       "      <td>No</td>\n",
       "      <td>No</td>\n",
       "      <td>No</td>\n",
       "      <td>No</td>\n",
       "      <td>No</td>\n",
       "      <td>MD</td>\n",
       "      <td>02 - Automobile</td>\n",
       "      <td>2001.0</td>\n",
       "      <td>HONDA</td>\n",
       "      <td>ACCORD</td>\n",
       "      <td>SILVER</td>\n",
       "      <td>Citation</td>\n",
       "    </tr>\n",
       "    <tr>\n",
       "      <th>2017-08-29 09:22:00</th>\n",
       "      <td>No</td>\n",
       "      <td>No</td>\n",
       "      <td>No</td>\n",
       "      <td>No</td>\n",
       "      <td>No</td>\n",
       "      <td>No</td>\n",
       "      <td>MD</td>\n",
       "      <td>02 - Automobile</td>\n",
       "      <td>1998.0</td>\n",
       "      <td>DODG</td>\n",
       "      <td>DAKOTA</td>\n",
       "      <td>WHITE</td>\n",
       "      <td>Citation</td>\n",
       "    </tr>\n",
       "    <tr>\n",
       "      <th>2017-08-28 23:41:00</th>\n",
       "      <td>No</td>\n",
       "      <td>No</td>\n",
       "      <td>No</td>\n",
       "      <td>No</td>\n",
       "      <td>No</td>\n",
       "      <td>No</td>\n",
       "      <td>MD</td>\n",
       "      <td>02 - Automobile</td>\n",
       "      <td>2015.0</td>\n",
       "      <td>MINI COOPER</td>\n",
       "      <td>2S</td>\n",
       "      <td>WHITE</td>\n",
       "      <td>Citation</td>\n",
       "    </tr>\n",
       "  </tbody>\n",
       "</table>\n",
       "</div>"
      ],
      "text/plain": [
       "                          Fatal Commercial License HAZMAT Commercial Vehicle  \\\n",
       "Date Of Stop_Time Of Stop                                                      \n",
       "2013-09-24 17:11:00          No                 No     No                 No   \n",
       "2017-08-29 10:19:00          No                 No     No                 No   \n",
       "2014-12-01 12:52:00          No                 No     No                 No   \n",
       "2017-08-29 09:22:00          No                 No     No                 No   \n",
       "2017-08-28 23:41:00          No                 No     No                 No   \n",
       "\n",
       "                          Alcohol Work Zone State      VehicleType    Year  \\\n",
       "Date Of Stop_Time Of Stop                                                    \n",
       "2013-09-24 17:11:00            No        No    MD  02 - Automobile  2008.0   \n",
       "2017-08-29 10:19:00            No        No    VA  02 - Automobile  2001.0   \n",
       "2014-12-01 12:52:00            No        No    MD  02 - Automobile  2001.0   \n",
       "2017-08-29 09:22:00            No        No    MD  02 - Automobile  1998.0   \n",
       "2017-08-28 23:41:00            No        No    MD  02 - Automobile  2015.0   \n",
       "\n",
       "                                  Make    Model   Color Violation Type  \n",
       "Date Of Stop_Time Of Stop                                               \n",
       "2013-09-24 17:11:00               FORD       4S   BLACK       Citation  \n",
       "2017-08-29 10:19:00             TOYOTA  COROLLA   GREEN       Citation  \n",
       "2014-12-01 12:52:00              HONDA   ACCORD  SILVER       Citation  \n",
       "2017-08-29 09:22:00               DODG   DAKOTA   WHITE       Citation  \n",
       "2017-08-28 23:41:00        MINI COOPER       2S   WHITE       Citation  "
      ]
     },
     "execution_count": 9,
     "metadata": {},
     "output_type": "execute_result"
    }
   ],
   "source": [
    "#Look At Specific Columns\n",
    "data.iloc[:,10:23].head()"
   ]
  },
  {
   "cell_type": "code",
   "execution_count": 10,
   "metadata": {},
   "outputs": [
    {
     "data": {
      "text/html": [
       "<div>\n",
       "<style scoped>\n",
       "    .dataframe tbody tr th:only-of-type {\n",
       "        vertical-align: middle;\n",
       "    }\n",
       "\n",
       "    .dataframe tbody tr th {\n",
       "        vertical-align: top;\n",
       "    }\n",
       "\n",
       "    .dataframe thead th {\n",
       "        text-align: right;\n",
       "    }\n",
       "</style>\n",
       "<table border=\"1\" class=\"dataframe\">\n",
       "  <thead>\n",
       "    <tr style=\"text-align: right;\">\n",
       "      <th></th>\n",
       "      <th>Article</th>\n",
       "      <th>Contributed To Accident</th>\n",
       "      <th>Race</th>\n",
       "      <th>Gender</th>\n",
       "      <th>Driver City</th>\n",
       "      <th>Driver State</th>\n",
       "      <th>DL State</th>\n",
       "      <th>Arrest Type</th>\n",
       "      <th>Geolocation</th>\n",
       "    </tr>\n",
       "    <tr>\n",
       "      <th>Date Of Stop_Time Of Stop</th>\n",
       "      <th></th>\n",
       "      <th></th>\n",
       "      <th></th>\n",
       "      <th></th>\n",
       "      <th></th>\n",
       "      <th></th>\n",
       "      <th></th>\n",
       "      <th></th>\n",
       "      <th></th>\n",
       "    </tr>\n",
       "  </thead>\n",
       "  <tbody>\n",
       "    <tr>\n",
       "      <th>2013-09-24 17:11:00</th>\n",
       "      <td>Transportation Article</td>\n",
       "      <td>No</td>\n",
       "      <td>BLACK</td>\n",
       "      <td>M</td>\n",
       "      <td>TAKOMA PARK</td>\n",
       "      <td>MD</td>\n",
       "      <td>MD</td>\n",
       "      <td>A - Marked Patrol</td>\n",
       "      <td>NaN</td>\n",
       "    </tr>\n",
       "    <tr>\n",
       "      <th>2017-08-29 10:19:00</th>\n",
       "      <td>Transportation Article</td>\n",
       "      <td>No</td>\n",
       "      <td>WHITE</td>\n",
       "      <td>F</td>\n",
       "      <td>FAIRFAX STATION</td>\n",
       "      <td>VA</td>\n",
       "      <td>VA</td>\n",
       "      <td>A - Marked Patrol</td>\n",
       "      <td>(38.981725, -77.0927566666667)</td>\n",
       "    </tr>\n",
       "    <tr>\n",
       "      <th>2014-12-01 12:52:00</th>\n",
       "      <td>Transportation Article</td>\n",
       "      <td>No</td>\n",
       "      <td>BLACK</td>\n",
       "      <td>F</td>\n",
       "      <td>UPPER MARLBORO</td>\n",
       "      <td>MD</td>\n",
       "      <td>MD</td>\n",
       "      <td>A - Marked Patrol</td>\n",
       "      <td>(39.1628883333333, -77.2290883333333)</td>\n",
       "    </tr>\n",
       "    <tr>\n",
       "      <th>2017-08-29 09:22:00</th>\n",
       "      <td>Transportation Article</td>\n",
       "      <td>No</td>\n",
       "      <td>BLACK</td>\n",
       "      <td>M</td>\n",
       "      <td>FORT WASHINGTON</td>\n",
       "      <td>MD</td>\n",
       "      <td>MD</td>\n",
       "      <td>A - Marked Patrol</td>\n",
       "      <td>(39.056975, -76.9546333333333)</td>\n",
       "    </tr>\n",
       "    <tr>\n",
       "      <th>2017-08-28 23:41:00</th>\n",
       "      <td>Transportation Article</td>\n",
       "      <td>No</td>\n",
       "      <td>WHITE</td>\n",
       "      <td>M</td>\n",
       "      <td>GAITHERSBURG</td>\n",
       "      <td>MD</td>\n",
       "      <td>MD</td>\n",
       "      <td>A - Marked Patrol</td>\n",
       "      <td>NaN</td>\n",
       "    </tr>\n",
       "  </tbody>\n",
       "</table>\n",
       "</div>"
      ],
      "text/plain": [
       "                                          Article Contributed To Accident  \\\n",
       "Date Of Stop_Time Of Stop                                                   \n",
       "2013-09-24 17:11:00        Transportation Article                      No   \n",
       "2017-08-29 10:19:00        Transportation Article                      No   \n",
       "2014-12-01 12:52:00        Transportation Article                      No   \n",
       "2017-08-29 09:22:00        Transportation Article                      No   \n",
       "2017-08-28 23:41:00        Transportation Article                      No   \n",
       "\n",
       "                            Race Gender      Driver City Driver State  \\\n",
       "Date Of Stop_Time Of Stop                                               \n",
       "2013-09-24 17:11:00        BLACK      M      TAKOMA PARK           MD   \n",
       "2017-08-29 10:19:00        WHITE      F  FAIRFAX STATION           VA   \n",
       "2014-12-01 12:52:00        BLACK      F   UPPER MARLBORO           MD   \n",
       "2017-08-29 09:22:00        BLACK      M  FORT WASHINGTON           MD   \n",
       "2017-08-28 23:41:00        WHITE      M     GAITHERSBURG           MD   \n",
       "\n",
       "                          DL State        Arrest Type  \\\n",
       "Date Of Stop_Time Of Stop                               \n",
       "2013-09-24 17:11:00             MD  A - Marked Patrol   \n",
       "2017-08-29 10:19:00             VA  A - Marked Patrol   \n",
       "2014-12-01 12:52:00             MD  A - Marked Patrol   \n",
       "2017-08-29 09:22:00             MD  A - Marked Patrol   \n",
       "2017-08-28 23:41:00             MD  A - Marked Patrol   \n",
       "\n",
       "                                                     Geolocation  \n",
       "Date Of Stop_Time Of Stop                                         \n",
       "2013-09-24 17:11:00                                          NaN  \n",
       "2017-08-29 10:19:00               (38.981725, -77.0927566666667)  \n",
       "2014-12-01 12:52:00        (39.1628883333333, -77.2290883333333)  \n",
       "2017-08-29 09:22:00               (39.056975, -76.9546333333333)  \n",
       "2017-08-28 23:41:00                                          NaN  "
      ]
     },
     "execution_count": 10,
     "metadata": {},
     "output_type": "execute_result"
    }
   ],
   "source": [
    "#Look At Specific Columns\n",
    "data.iloc[:,24:33].head()"
   ]
  },
  {
   "cell_type": "markdown",
   "metadata": {},
   "source": [
    "<span style=\"color:darkblue\">Rerun the info and isnull functions on the clean dataset to see that there are no nulls"
   ]
  },
  {
   "cell_type": "code",
   "execution_count": 11,
   "metadata": {},
   "outputs": [
    {
     "name": "stdout",
     "output_type": "stream",
     "text": [
      "<class 'pandas.core.frame.DataFrame'>\n",
      "DatetimeIndex: 1232104 entries, 2017-08-29 10:19:00 to 2018-11-25 15:14:00\n",
      "Data columns (total 33 columns):\n",
      "Agency                     1232104 non-null object\n",
      "SubAgency                  1232104 non-null object\n",
      "Description                1232104 non-null object\n",
      "Location                   1232104 non-null object\n",
      "Latitude                   1232104 non-null float64\n",
      "Longitude                  1232104 non-null float64\n",
      "Accident                   1232104 non-null object\n",
      "Belts                      1232104 non-null object\n",
      "Personal Injury            1232104 non-null object\n",
      "Property Damage            1232104 non-null object\n",
      "Fatal                      1232104 non-null object\n",
      "Commercial License         1232104 non-null object\n",
      "HAZMAT                     1232104 non-null object\n",
      "Commercial Vehicle         1232104 non-null object\n",
      "Alcohol                    1232104 non-null object\n",
      "Work Zone                  1232104 non-null object\n",
      "State                      1232104 non-null object\n",
      "VehicleType                1232104 non-null object\n",
      "Year                       1232104 non-null float64\n",
      "Make                       1232104 non-null object\n",
      "Model                      1232104 non-null object\n",
      "Color                      1232104 non-null object\n",
      "Violation Type             1232104 non-null object\n",
      "Charge                     1232104 non-null object\n",
      "Article                    1232104 non-null object\n",
      "Contributed To Accident    1232104 non-null object\n",
      "Race                       1232104 non-null object\n",
      "Gender                     1232104 non-null object\n",
      "Driver City                1232104 non-null object\n",
      "Driver State               1232104 non-null object\n",
      "DL State                   1232104 non-null object\n",
      "Arrest Type                1232104 non-null object\n",
      "Geolocation                1232104 non-null object\n",
      "dtypes: float64(3), object(30)\n",
      "memory usage: 319.6+ MB\n"
     ]
    }
   ],
   "source": [
    "#Check For Any Null Values After They Have Been Removed\n",
    "data_clean.info()"
   ]
  },
  {
   "cell_type": "markdown",
   "metadata": {},
   "source": [
    "#### Maps of Location Used By Data Set"
   ]
  },
  {
   "cell_type": "code",
   "execution_count": 26,
   "metadata": {},
   "outputs": [],
   "source": [
    "import cartopy.crs as ccrs"
   ]
  },
  {
   "cell_type": "code",
   "execution_count": 60,
   "metadata": {},
   "outputs": [
    {
     "data": {
      "image/png": "[encoded data removed]",
      "text/plain": [
       "<Figure size 576x396 with 1 Axes>"
      ]
     },
     "metadata": {},
     "output_type": "display_data"
    }
   ],
   "source": [
    "#Set Projection\n",
    "ax = plt.axes(projection=ccrs.Robinson(central_longitude=150))\n",
    "\n",
    "#Plot Coastlines & Gridlines\n",
    "ax.coastlines()\n",
    "ax.gridlines(linestyle='--')\n",
    "#Show Figure\n",
    "plt.show()"
   ]
  },
  {
   "cell_type": "markdown",
   "metadata": {},
   "source": [
    "##### View United States, Callout Where State of Maryland Is"
   ]
  },
  {
   "cell_type": "markdown",
   "metadata": {},
   "source": [
    "<img align=\"left\" width=\"300\" height=\"300\" src=\"img/Maryland.png\">"
   ]
  },
  {
   "cell_type": "markdown",
   "metadata": {},
   "source": [
    "##### View The State, Where County of Montgomery Is"
   ]
  },
  {
   "cell_type": "markdown",
   "metadata": {},
   "source": [
    "<img align=\"left\" width=\"300\" height=\"300\" src=\"img/MontgomeryCounty.png\">"
   ]
  },
  {
   "cell_type": "markdown",
   "metadata": {},
   "source": [
    "#### Which SubAgency Made The Most Traffic Stops"
   ]
  },
  {
   "cell_type": "code",
   "execution_count": 25,
   "metadata": {},
   "outputs": [
    {
     "data": {
      "text/plain": [
       "array(['3rd district, Silver Spring', '2nd district, Bethesda',\n",
       "       '6th district, Gaithersburg / Montgomery Village',\n",
       "       '4th district, Wheaton', '1st district, Rockville',\n",
       "       '5th district, Germantown', 'Headquarters and Special Operations',\n",
       "       nan], dtype=object)"
      ]
     },
     "execution_count": 25,
     "metadata": {},
     "output_type": "execute_result"
    }
   ],
   "source": [
    "#List The Unique Values In The SubAgency Column To See All Possible Values\n",
    "data.SubAgency.unique()"
   ]
  },
  {
   "cell_type": "code",
   "execution_count": 24,
   "metadata": {},
   "outputs": [
    {
     "data": {
      "text/plain": [
       "4th district, Wheaton                              352681\n",
       "3rd district, Silver Spring                        281981\n",
       "2nd district, Bethesda                             221801\n",
       "6th district, Gaithersburg / Montgomery Village    183352\n",
       "1st district, Rockville                            169210\n",
       "5th district, Germantown                           162277\n",
       "Headquarters and Special Operations                 46911\n",
       "Name: SubAgency, dtype: int64"
      ]
     },
     "execution_count": 24,
     "metadata": {},
     "output_type": "execute_result"
    }
   ],
   "source": [
    "data['SubAgency'].value_counts()"
   ]
  },
  {
   "cell_type": "markdown",
   "metadata": {},
   "source": [
    "<span style=\"color:darkblue\">The **4th district, Wheaton** sub-agency was responsible for the  most stops in the Montgomery County during those years in study. While the Headquarters and Special Ops SubAgency only stopped about 13% (47 k/352 k) of what the 4th district, Wheaton was able to stop for the time period. We were not sure what to expect in term of which district would be responsible for the most stops, but when viewing the districts sizes, Wheaton appears to be the largest. We can see below snapshots of each of the districts in the county."
   ]
  },
  {
   "cell_type": "markdown",
   "metadata": {},
   "source": [
    "<img align=\"left\" width=\"300\" height=\"300\" src=\"img/1stDistrict.jpg\">\n",
    "<img align=\"left\" width=\"300\" height=\"300\" src=\"img/2ndDistrict.jpg\">\n",
    "<img align=\"left\" width=\"300\" height=\"300\" src=\"img/3rdDistrict.jpg\">\n",
    "<img align=\"left\" width=\"300\" height=\"300\" src=\"img/4thDistrict.jpg\">\n",
    "<img align=\"left\" width=\"300\" height=\"300\" src=\"img/5thDistrict.jpg\">\n",
    "<img align=\"left\" width=\"300\" height=\"300\" src=\"img/6thDistrict.jpg\">"
   ]
  },
  {
   "cell_type": "markdown",
   "metadata": {},
   "source": [
    "#### Most Frequent Date Of Stop"
   ]
  },
  {
   "cell_type": "code",
   "execution_count": 13,
   "metadata": {},
   "outputs": [
    {
     "data": {
      "text/html": [
       "<div>\n",
       "<style scoped>\n",
       "    .dataframe tbody tr th:only-of-type {\n",
       "        vertical-align: middle;\n",
       "    }\n",
       "\n",
       "    .dataframe tbody tr th {\n",
       "        vertical-align: top;\n",
       "    }\n",
       "\n",
       "    .dataframe thead th {\n",
       "        text-align: right;\n",
       "    }\n",
       "</style>\n",
       "<table border=\"1\" class=\"dataframe\">\n",
       "  <thead>\n",
       "    <tr style=\"text-align: right;\">\n",
       "      <th></th>\n",
       "      <th>DateOfStop</th>\n",
       "      <th>TimeOfStop</th>\n",
       "    </tr>\n",
       "    <tr>\n",
       "      <th>Date</th>\n",
       "      <th></th>\n",
       "      <th></th>\n",
       "    </tr>\n",
       "  </thead>\n",
       "  <tbody>\n",
       "    <tr>\n",
       "      <th>2013-09-24</th>\n",
       "      <td>2013-09-24</td>\n",
       "      <td>17:11:00</td>\n",
       "    </tr>\n",
       "    <tr>\n",
       "      <th>2017-08-29</th>\n",
       "      <td>2017-08-29</td>\n",
       "      <td>10:19:00</td>\n",
       "    </tr>\n",
       "    <tr>\n",
       "      <th>2014-12-01</th>\n",
       "      <td>2014-12-01</td>\n",
       "      <td>12:52:00</td>\n",
       "    </tr>\n",
       "    <tr>\n",
       "      <th>2017-08-29</th>\n",
       "      <td>2017-08-29</td>\n",
       "      <td>09:22:00</td>\n",
       "    </tr>\n",
       "    <tr>\n",
       "      <th>2017-08-28</th>\n",
       "      <td>2017-08-28</td>\n",
       "      <td>23:41:00</td>\n",
       "    </tr>\n",
       "  </tbody>\n",
       "</table>\n",
       "</div>"
      ],
      "text/plain": [
       "            DateOfStop TimeOfStop\n",
       "Date                             \n",
       "2013-09-24  2013-09-24   17:11:00\n",
       "2017-08-29  2017-08-29   10:19:00\n",
       "2014-12-01  2014-12-01   12:52:00\n",
       "2017-08-29  2017-08-29   09:22:00\n",
       "2017-08-28  2017-08-28   23:41:00"
      ]
     },
     "execution_count": 13,
     "metadata": {},
     "output_type": "execute_result"
    }
   ],
   "source": [
    "#Create DataFrame With Two Columns, One for Stop Date and One for Stop Time\n",
    "df = pd.DataFrame({'DateOfStop' : [],'TimeOfStop':[]})\n",
    "df['DateOfStop'] = [d.date() for d in data.index]\n",
    "df['TimeOfStop'] = [d.time() for d in data.index]\n",
    "df.set_index(pd.to_datetime(df['DateOfStop']),drop=False,inplace=True)\n",
    "df.index.name = 'Date'\n",
    "df.head()"
   ]
  },
  {
   "cell_type": "code",
   "execution_count": 14,
   "metadata": {},
   "outputs": [
    {
     "data": {
      "text/plain": [
       "2015-03-17    1281\n",
       "2018-04-10    1277\n",
       "2014-05-20    1222\n",
       "2018-04-18    1184\n",
       "2015-11-24    1169\n",
       "Name: DateOfStop, dtype: int64"
      ]
     },
     "execution_count": 14,
     "metadata": {},
     "output_type": "execute_result"
    }
   ],
   "source": [
    "#Find Which Dates Had The Most Stops\n",
    "df['DateOfStop'].value_counts().head()"
   ]
  },
  {
   "cell_type": "code",
   "execution_count": 16,
   "metadata": {},
   "outputs": [
    {
     "data": {
      "text/plain": [
       "<matplotlib.axes._subplots.AxesSubplot at 0x1a0b80a208>"
      ]
     },
     "execution_count": 16,
     "metadata": {},
     "output_type": "execute_result"
    },
    {
     "data": {
      "image/png": "[encoded data removed]",
      "text/plain": [
       "<Figure size 576x396 with 1 Axes>"
      ]
     },
     "metadata": {},
     "output_type": "display_data"
    }
   ],
   "source": [
    "#Plot Counts of Stops Per Day As a Line Graph\n",
    "plt.style.use('seaborn')\n",
    "plt.ylabel('Count Of Stops')\n",
    "df1 = df.groupby(['Date']).size()\n",
    "df1.resample('M').max().plot()"
   ]
  },
  {
   "cell_type": "markdown",
   "metadata": {},
   "source": [
    "<span style=\"color:darkblue\">This shows that March 17, 2015 was the date that the most stops occured. We hypothesized that maybe Thanksgiving or Christmas Eve would be the day with the most violations due to drinking from holliday parties and an increase in traveling. This result does still meet our hypothesis however in a way since this was the date of St.Patrick's Day in 2015."
   ]
  },
  {
   "cell_type": "code",
   "execution_count": 65,
   "metadata": {},
   "outputs": [
    {
     "name": "stdout",
     "output_type": "stream",
     "text": [
      "     March 2015\n",
      "Su Mo Tu We Th Fr Sa\n",
      " 1  2  3  4  5  6  7\n",
      " 8  9 10 11 12 13 14\n",
      "15 16 17 18 19 20 21\n",
      "22 23 24 25 26 27 28\n",
      "29 30 31\n",
      "\n",
      "     April 2018\n",
      "Su Mo Tu We Th Fr Sa\n",
      " 1  2  3  4  5  6  7\n",
      " 8  9 10 11 12 13 14\n",
      "15 16 17 18 19 20 21\n",
      "22 23 24 25 26 27 28\n",
      "29 30\n",
      "\n",
      "      May 2014\n",
      "Su Mo Tu We Th Fr Sa\n",
      "             1  2  3\n",
      " 4  5  6  7  8  9 10\n",
      "11 12 13 14 15 16 17\n",
      "18 19 20 21 22 23 24\n",
      "25 26 27 28 29 30 31\n",
      "\n",
      "   November 2015\n",
      "Su Mo Tu We Th Fr Sa\n",
      " 1  2  3  4  5  6  7\n",
      " 8  9 10 11 12 13 14\n",
      "15 16 17 18 19 20 21\n",
      "22 23 24 25 26 27 28\n",
      "29 30\n",
      "\n"
     ]
    }
   ],
   "source": [
    "#View The Month Of March In 2015 Visually To See What Day Of The Week 17th Falls On\n",
    "import calendar\n",
    "c=calendar.TextCalendar(calendar.SUNDAY)\n",
    "str=c.formatmonth(2015,3)\n",
    "print(str)\n",
    "\n",
    "#View The Month Of April In 2018 Visually To See What Day Of The Week 10th Falls On\n",
    "import calendar\n",
    "c=calendar.TextCalendar(calendar.SUNDAY)\n",
    "str=c.formatmonth(2018,4)\n",
    "print(str)\n",
    "\n",
    "#View The Month Of May In 2014 Visually To See What Day Of The Week 20th Falls On\n",
    "import calendar\n",
    "c=calendar.TextCalendar(calendar.SUNDAY)\n",
    "str=c.formatmonth(2014,5)\n",
    "print(str)\n",
    "\n",
    "#View The Month Of November In 2015 Visually To See What Day Of The Week 24th Falls On\n",
    "import calendar\n",
    "c=calendar.TextCalendar(calendar.SUNDAY)\n",
    "str=c.formatmonth(2015,11)\n",
    "print(str)"
   ]
  },
  {
   "cell_type": "markdown",
   "metadata": {},
   "source": [
    "St.Patricks Day in 2015 happen to fall on a Tuesday. Also the 2nd highest stopped day (April 10th, 2018) fell on a Tuesday. May 20th, 2014 and November 24th, 2015 (Other highly stopped days) also Tuesdays. **Conclusion** *It's clear, if you need to travel through Montgomery County, try to avoid doing so on a Tuesday.*"
   ]
  },
  {
   "cell_type": "markdown",
   "metadata": {},
   "source": [
    "#### Most Frequent Time of Stop"
   ]
  },
  {
   "cell_type": "code",
   "execution_count": 20,
   "metadata": {},
   "outputs": [
    {
     "data": {
      "text/plain": [
       "23:30:00    2126\n",
       "22:53:00    2115\n",
       "23:00:00    2106\n",
       "23:20:00    2091\n",
       "22:57:00    2087\n",
       "Name: TimeOfStop, dtype: int64"
      ]
     },
     "execution_count": 20,
     "metadata": {},
     "output_type": "execute_result"
    }
   ],
   "source": [
    "#Find the Specific Time in The Day When Most Stops Occured\n",
    "df['TimeOfStop'].value_counts().head()"
   ]
  },
  {
   "cell_type": "code",
   "execution_count": 22,
   "metadata": {},
   "outputs": [
    {
     "data": {
      "text/plain": [
       "[<matplotlib.lines.Line2D at 0x1a159cbcf8>]"
      ]
     },
     "execution_count": 22,
     "metadata": {},
     "output_type": "execute_result"
    },
    {
     "data": {
      "image/png": "[encoded data removed]",
      "text/plain": [
       "<Figure size 576x396 with 1 Axes>"
      ]
     },
     "metadata": {},
     "output_type": "display_data"
    }
   ],
   "source": [
    "#Plot Time of Stops\n",
    "df.index.drop\n",
    "df.set_index(pd.to_datetime(df['TimeOfStop'],format='%H:%M:%S').dt.time,drop=False,inplace=True)\n",
    "df.index.name = 'Time'\n",
    "df['GroupbyTime'] = df['TimeOfStop'].value_counts()\n",
    "df.head()\n",
    "plt.style.use('seaborn')\n",
    "plt.ylabel('Count Of Stops')\n",
    "plt.xlabel('Time Of The Day')\n",
    "plt.plot_date(df['TimeOfStop'],df['GroupbyTime'])"
   ]
  },
  {
   "cell_type": "markdown",
   "metadata": {},
   "source": [
    "<span style=\"color:darkblue\">Our hypothesis that most violations might occur between the hours of 7 AM - 9 AM during people's morning work commutes, is not supported by the data. Based on the data it appears most stops occur late at night past the hour of 22:00 or 10 PM."
   ]
  },
  {
   "cell_type": "markdown",
   "metadata": {},
   "source": [
    "#### Violation Types"
   ]
  },
  {
   "cell_type": "markdown",
   "metadata": {},
   "source": [
    "<span style=\"color:darkblue\"> View traffic violation outcomes, if citation or warning were issued.\n",
    "The decision to give a warning or a citation is subjective and at the discretion of the police officer. This could lead us to analyze bias, but we're not sure if we have all the data captured for doing this (we do have the gender and race breakdown)."
   ]
  },
  {
   "cell_type": "code",
   "execution_count": 29,
   "metadata": {},
   "outputs": [
    {
     "data": {
      "text/plain": [
       "Warning     694073\n",
       "Citation    653582\n",
       "ESERO        69669\n",
       "SERO           899\n",
       "Name: Violation Type, dtype: int64"
      ]
     },
     "execution_count": 29,
     "metadata": {},
     "output_type": "execute_result"
    }
   ],
   "source": [
    "#Look at Violations\n",
    "data['Violation Type'].value_counts()"
   ]
  },
  {
   "cell_type": "code",
   "execution_count": 32,
   "metadata": {},
   "outputs": [
    {
     "data": {
      "text/plain": [
       "Text(0.5,0,'Count of Violations')"
      ]
     },
     "execution_count": 32,
     "metadata": {},
     "output_type": "execute_result"
    },
    {
     "data": {
      "image/png": "[encoded data removed]",
      "text/plain": [
       "<Figure size 576x396 with 1 Axes>"
      ]
     },
     "metadata": {},
     "output_type": "display_data"
    }
   ],
   "source": [
    "#Plot Bar Chart of Counts of Violation Types\n",
    "data['Violation Type'].value_counts().plot.barh()\n",
    "plt.ylabel('Violation Type')\n",
    "plt.xlabel('Count of Violations')"
   ]
  },
  {
   "cell_type": "markdown",
   "metadata": {},
   "source": [
    "<span style=\"color:darkblue\">You can see from the chart above more warnings than citations were issued. Obviously, a warning is better than a citation for a driver, so maybe the police force in Montgomery County are more friendly and lenient compared to elsewhere in the United States. Would be interested in a future analysis to do a comparison of multiple counties from two different areas in the United States. </br>    \n",
    "<font size=\"1\">SERO stands for Safety Equipment Repair Order while ESERO stands for Electronic Safety Equipment Repair Order</font>"
   ]
  },
  {
   "cell_type": "markdown",
   "metadata": {},
   "source": [
    "#### Arrest Types"
   ]
  },
  {
   "cell_type": "code",
   "execution_count": 34,
   "metadata": {},
   "outputs": [
    {
     "data": {
      "text/plain": [
       "A - Marked Patrol                         1172765\n",
       "Q - Marked Laser                           131137\n",
       "B - Unmarked Patrol                         45282\n",
       "S - License Plate Recognition               13764\n",
       "O - Foot Patrol                             13457\n",
       "L - Motorcycle                              12280\n",
       "E - Marked Stationary Radar                  8718\n",
       "G - Marked Moving Radar (Stationary)         6933\n",
       "R - Unmarked Laser                           5831\n",
       "I - Marked Moving Radar (Moving)             2230\n",
       "M - Marked (Off-Duty)                        2162\n",
       "H - Unmarked Moving Radar (Stationary)        992\n",
       "F - Unmarked Stationary Radar                 833\n",
       "J - Unmarked Moving Radar (Moving)            513\n",
       "C - Marked VASCAR                             463\n",
       "P - Mounted Patrol                            332\n",
       "D - Unmarked VASCAR                           285\n",
       "N - Unmarked (Off-Duty)                       191\n",
       "K - Aircraft Assist                            55\n",
       "Name: Arrest Type, dtype: int64"
      ]
     },
     "execution_count": 34,
     "metadata": {},
     "output_type": "execute_result"
    }
   ],
   "source": [
    "#Look at Count of Arrest Types\n",
    "data['Arrest Type'].value_counts()"
   ]
  },
  {
   "cell_type": "code",
   "execution_count": 35,
   "metadata": {},
   "outputs": [
    {
     "data": {
      "text/plain": [
       "Text(0.5,0,'Count of Arrest Type')"
      ]
     },
     "execution_count": 35,
     "metadata": {},
     "output_type": "execute_result"
    },
    {
     "data": {
      "image/png": "[encoded data removed]",
      "text/plain": [
       "<Figure size 576x396 with 1 Axes>"
      ]
     },
     "metadata": {},
     "output_type": "display_data"
    }
   ],
   "source": [
    "data['Arrest Type'].value_counts().plot.barh()\n",
    "plt.ylabel('Arrest Type')\n",
    "plt.xlabel('Count of Arrest Type')"
   ]
  },
  {
   "cell_type": "markdown",
   "metadata": {},
   "source": [
    "<span style=\"color:darkblue\">Marked Patrol policing were the ones who caught almost all the violations, followed by Marked Laser."
   ]
  },
  {
   "cell_type": "markdown",
   "metadata": {},
   "source": [
    "#### Gender Analysis"
   ]
  },
  {
   "cell_type": "code",
   "execution_count": 36,
   "metadata": {},
   "outputs": [
    {
     "data": {
      "text/plain": [
       "M    950447\n",
       "F    466096\n",
       "U      1680\n",
       "Name: Gender, dtype: int64"
      ]
     },
     "execution_count": 36,
     "metadata": {},
     "output_type": "execute_result"
    }
   ],
   "source": [
    "#Look at Counts by Gender to See Which Gender was Responsible For Most Violations\n",
    "data['Gender'].value_counts()"
   ]
  },
  {
   "cell_type": "code",
   "execution_count": 38,
   "metadata": {},
   "outputs": [
    {
     "data": {
      "text/plain": [
       "Text(0.5,0,'Count of Violations')"
      ]
     },
     "execution_count": 38,
     "metadata": {},
     "output_type": "execute_result"
    },
    {
     "data": {
      "image/png": "[encoded data removed]",
      "text/plain": [
       "<Figure size 576x396 with 1 Axes>"
      ]
     },
     "metadata": {},
     "output_type": "display_data"
    }
   ],
   "source": [
    "#Plot Gender as a Bar Chart\n",
    "data['Gender'].value_counts().plot.barh()\n",
    "plt.ylabel('Gender')\n",
    "plt.xlabel('Count of Violations')"
   ]
  },
  {
   "cell_type": "markdown",
   "metadata": {},
   "source": [
    "<span style=\"color:darkblue\"> Men offenders were more than double the number of women offenders as seen in the data above."
   ]
  },
  {
   "cell_type": "code",
   "execution_count": 84,
   "metadata": {},
   "outputs": [
    {
     "data": {
      "image/png": "[encoded data removed]",
      "text/plain": [
       "<Figure size 576x396 with 1 Axes>"
      ]
     },
     "metadata": {},
     "output_type": "display_data"
    }
   ],
   "source": [
    "#Aggregate Traffic Violations by Year by Gender\n",
    "data.groupby([data.index.year,'Gender'])['Gender'].size().unstack().plot(kind='bar',stacked=True)\n",
    "plt.show()"
   ]
  },
  {
   "cell_type": "code",
   "execution_count": 85,
   "metadata": {},
   "outputs": [
    {
     "data": {
      "image/png": "[encoded data removed]",
      "text/plain": [
       "<Figure size 576x396 with 1 Axes>"
      ]
     },
     "metadata": {},
     "output_type": "display_data"
    }
   ],
   "source": [
    "#Aggregate Traffic Violations by Time of Day and Gender\n",
    "data.groupby([data.index.hour,'Gender'])['Gender'].size().unstack().plot(kind='bar',stacked=True)\n",
    "plt.show()"
   ]
  },
  {
   "cell_type": "code",
   "execution_count": 87,
   "metadata": {},
   "outputs": [
    {
     "data": {
      "image/png": "[encoded data removed]",
      "text/plain": [
       "<Figure size 576x396 with 1 Axes>"
      ]
     },
     "metadata": {},
     "output_type": "display_data"
    }
   ],
   "source": [
    "#Aggregate Traffic Violations by Time of Day and Gender\n",
    "data.groupby([data.index.time,'Gender'])['Gender'].size().unstack().plot(kind='bar',stacked=True)\n",
    "plt.show()"
   ]
  },
  {
   "cell_type": "markdown",
   "metadata": {},
   "source": [
    "#### Race Analysis"
   ]
  },
  {
   "cell_type": "code",
   "execution_count": 39,
   "metadata": {},
   "outputs": [
    {
     "data": {
      "text/plain": [
       "WHITE              505611\n",
       "BLACK              448615\n",
       "HISPANIC           301413\n",
       "ASIAN               82957\n",
       "OTHER               76562\n",
       "NATIVE AMERICAN      3065\n",
       "Name: Race, dtype: int64"
      ]
     },
     "execution_count": 39,
     "metadata": {},
     "output_type": "execute_result"
    }
   ],
   "source": [
    "##Look at Counts by Race to See Which Race was Responsible For Most Violations\n",
    "data['Race'].value_counts()"
   ]
  },
  {
   "cell_type": "code",
   "execution_count": 40,
   "metadata": {},
   "outputs": [
    {
     "data": {
      "text/plain": [
       "Text(0.5,0,'Count of Violations')"
      ]
     },
     "execution_count": 40,
     "metadata": {},
     "output_type": "execute_result"
    },
    {
     "data": {
      "image/png": "[encoded data removed]",
      "text/plain": [
       "<Figure size 576x396 with 1 Axes>"
      ]
     },
     "metadata": {},
     "output_type": "display_data"
    }
   ],
   "source": [
    "#Plot Race as a Bar Chart\n",
    "data['Race'].value_counts().plot.barh()\n",
    "plt.ylabel('Race')\n",
    "plt.xlabel('Count of Violations')"
   ]
  },
  {
   "cell_type": "markdown",
   "metadata": {},
   "source": [
    "The White race had the most violations, followed by the Black race, the Hispanic race, and the Asian Race."
   ]
  },
  {
   "cell_type": "code",
   "execution_count": 88,
   "metadata": {},
   "outputs": [
    {
     "data": {
      "image/png": "[encoded data removed]",
      "text/plain": [
       "<Figure size 576x396 with 1 Axes>"
      ]
     },
     "metadata": {},
     "output_type": "display_data"
    }
   ],
   "source": [
    "#Aggregate Traffic Violations by Year by Race\n",
    "data.groupby([data.index.year,'Race'])['Race'].size().unstack().plot(kind='bar',stacked=True)\n",
    "plt.show()"
   ]
  },
  {
   "cell_type": "code",
   "execution_count": 90,
   "metadata": {},
   "outputs": [
    {
     "data": {
      "image/png": "[encoded data removed]",
      "text/plain": [
       "<Figure size 576x396 with 1 Axes>"
      ]
     },
     "metadata": {},
     "output_type": "display_data"
    }
   ],
   "source": [
    "#Aggregate Traffic Violations by Time of Day and Race\n",
    "data.groupby([data.index.hour,'Race'])['Race'].size().unstack().plot(kind='bar',stacked=True)\n",
    "plt.show()"
   ]
  },
  {
   "cell_type": "code",
   "execution_count": 41,
   "metadata": {},
   "outputs": [
    {
     "data": {
      "text/plain": [
       "Gender  Race           \n",
       "F       ASIAN               32069\n",
       "        BLACK              151228\n",
       "        HISPANIC            69271\n",
       "        NATIVE AMERICAN       979\n",
       "        OTHER               24513\n",
       "        WHITE              188036\n",
       "M       ASIAN               50879\n",
       "        BLACK              297370\n",
       "        HISPANIC           232103\n",
       "        NATIVE AMERICAN      2083\n",
       "        OTHER               50472\n",
       "        WHITE              317540\n",
       "U       ASIAN                   9\n",
       "        BLACK                  17\n",
       "        HISPANIC               39\n",
       "        NATIVE AMERICAN         3\n",
       "        OTHER                1577\n",
       "        WHITE                  35\n",
       "dtype: int64"
      ]
     },
     "execution_count": 41,
     "metadata": {},
     "output_type": "execute_result"
    }
   ],
   "source": [
    "#Look at Data Combined of Gender and Race\n",
    "data.groupby(['Gender','Race']).size()"
   ]
  },
  {
   "cell_type": "code",
   "execution_count": 43,
   "metadata": {},
   "outputs": [
    {
     "data": {
      "text/plain": [
       "Text(0.5,0,'Count of Violations')"
      ]
     },
     "execution_count": 43,
     "metadata": {},
     "output_type": "execute_result"
    },
    {
     "data": {
      "image/png": "[encoded data removed]",
      "text/plain": [
       "<Figure size 576x396 with 1 Axes>"
      ]
     },
     "metadata": {},
     "output_type": "display_data"
    }
   ],
   "source": [
    "#Plot Gender and Race Together on Bar Chart\n",
    "data.groupby(['Gender','Race']).size().plot.barh()\n",
    "plt.xlabel('Count of Violations')"
   ]
  },
  {
   "cell_type": "markdown",
   "metadata": {},
   "source": [
    "<span style=\"color:darkblue\">White Males recorded the highest number of violations, followed closely by Black Males."
   ]
  },
  {
   "cell_type": "code",
   "execution_count": 51,
   "metadata": {},
   "outputs": [
    {
     "data": {
      "text/plain": [
       "No     1417958\n",
       "Yes        265\n",
       "Name: Work Zone, dtype: int64"
      ]
     },
     "execution_count": 51,
     "metadata": {},
     "output_type": "execute_result"
    }
   ],
   "source": [
    "#See Counts of Other Columns\n",
    "data['Accident'].value_counts() #0\n",
    "data['Belts'].value_counts() #46394\n",
    "data['Personal Injury'].value_counts() #16498\n",
    "data['Property Damage'].value_counts() #27269\n",
    "data['Fatal'].value_counts() #311\n",
    "data['HAZMAT'].value_counts() #127\n",
    "data['Alcohol'].value_counts() #2242\n",
    "data['Work Zone'].value_counts() #265"
   ]
  },
  {
   "cell_type": "markdown",
   "metadata": {},
   "source": [
    "#### Citations Per Warning"
   ]
  },
  {
   "cell_type": "markdown",
   "metadata": {},
   "source": [
    "<span style=\"color:darkblue\">We now define \"Citations per Warning\", the ratio of citations to warnings. A higher number signifies a greater likelihood of getting a ticket instead of getting lucky and just escaping with a warning!"
   ]
  },
  {
   "cell_type": "code",
   "execution_count": 52,
   "metadata": {},
   "outputs": [],
   "source": [
    "from ba500package.helper import citations_per_warning"
   ]
  },
  {
   "cell_type": "code",
   "execution_count": 54,
   "metadata": {},
   "outputs": [
    {
     "data": {
      "text/html": [
       "<div>\n",
       "<style scoped>\n",
       "    .dataframe tbody tr th:only-of-type {\n",
       "        vertical-align: middle;\n",
       "    }\n",
       "\n",
       "    .dataframe tbody tr th {\n",
       "        vertical-align: top;\n",
       "    }\n",
       "\n",
       "    .dataframe thead th {\n",
       "        text-align: right;\n",
       "    }\n",
       "</style>\n",
       "<table border=\"1\" class=\"dataframe\">\n",
       "  <thead>\n",
       "    <tr style=\"text-align: right;\">\n",
       "      <th></th>\n",
       "      <th>citations_per_warning</th>\n",
       "    </tr>\n",
       "    <tr>\n",
       "      <th>Gender</th>\n",
       "      <th></th>\n",
       "    </tr>\n",
       "  </thead>\n",
       "  <tbody>\n",
       "    <tr>\n",
       "      <th>F</th>\n",
       "      <td>0.756356</td>\n",
       "    </tr>\n",
       "    <tr>\n",
       "      <th>M</th>\n",
       "      <td>1.050878</td>\n",
       "    </tr>\n",
       "    <tr>\n",
       "      <th>U</th>\n",
       "      <td>0.156293</td>\n",
       "    </tr>\n",
       "  </tbody>\n",
       "</table>\n",
       "</div>"
      ],
      "text/plain": [
       "        citations_per_warning\n",
       "Gender                       \n",
       "F                    0.756356\n",
       "M                    1.050878\n",
       "U                    0.156293"
      ]
     },
     "execution_count": 54,
     "metadata": {},
     "output_type": "execute_result"
    }
   ],
   "source": [
    "#Look at \"Citations Per Warning\" By Gender\n",
    "data.groupby('Gender').apply(citations_per_warning)"
   ]
  },
  {
   "cell_type": "code",
   "execution_count": 55,
   "metadata": {},
   "outputs": [
    {
     "data": {
      "text/html": [
       "<div>\n",
       "<style scoped>\n",
       "    .dataframe tbody tr th:only-of-type {\n",
       "        vertical-align: middle;\n",
       "    }\n",
       "\n",
       "    .dataframe tbody tr th {\n",
       "        vertical-align: top;\n",
       "    }\n",
       "\n",
       "    .dataframe thead th {\n",
       "        text-align: right;\n",
       "    }\n",
       "</style>\n",
       "<table border=\"1\" class=\"dataframe\">\n",
       "  <thead>\n",
       "    <tr style=\"text-align: right;\">\n",
       "      <th></th>\n",
       "      <th>citations_per_warning</th>\n",
       "    </tr>\n",
       "    <tr>\n",
       "      <th>Race</th>\n",
       "      <th></th>\n",
       "    </tr>\n",
       "  </thead>\n",
       "  <tbody>\n",
       "    <tr>\n",
       "      <th>ASIAN</th>\n",
       "      <td>0.686425</td>\n",
       "    </tr>\n",
       "    <tr>\n",
       "      <th>BLACK</th>\n",
       "      <td>0.993116</td>\n",
       "    </tr>\n",
       "    <tr>\n",
       "      <th>HISPANIC</th>\n",
       "      <td>1.280144</td>\n",
       "    </tr>\n",
       "    <tr>\n",
       "      <th>NATIVE AMERICAN</th>\n",
       "      <td>0.814086</td>\n",
       "    </tr>\n",
       "    <tr>\n",
       "      <th>OTHER</th>\n",
       "      <td>0.718496</td>\n",
       "    </tr>\n",
       "    <tr>\n",
       "      <th>WHITE</th>\n",
       "      <td>0.823772</td>\n",
       "    </tr>\n",
       "  </tbody>\n",
       "</table>\n",
       "</div>"
      ],
      "text/plain": [
       "                 citations_per_warning\n",
       "Race                                  \n",
       "ASIAN                         0.686425\n",
       "BLACK                         0.993116\n",
       "HISPANIC                      1.280144\n",
       "NATIVE AMERICAN               0.814086\n",
       "OTHER                         0.718496\n",
       "WHITE                         0.823772"
      ]
     },
     "execution_count": 55,
     "metadata": {},
     "output_type": "execute_result"
    }
   ],
   "source": [
    "#Look at \"Citations Per Warning\" By Race\n",
    "data.groupby('Race').apply(citations_per_warning)"
   ]
  },
  {
   "cell_type": "code",
   "execution_count": 56,
   "metadata": {},
   "outputs": [
    {
     "data": {
      "text/html": [
       "<div>\n",
       "<style scoped>\n",
       "    .dataframe tbody tr th:only-of-type {\n",
       "        vertical-align: middle;\n",
       "    }\n",
       "\n",
       "    .dataframe tbody tr th {\n",
       "        vertical-align: top;\n",
       "    }\n",
       "\n",
       "    .dataframe thead th {\n",
       "        text-align: right;\n",
       "    }\n",
       "</style>\n",
       "<table border=\"1\" class=\"dataframe\">\n",
       "  <thead>\n",
       "    <tr style=\"text-align: right;\">\n",
       "      <th></th>\n",
       "      <th></th>\n",
       "      <th>citations_per_warning</th>\n",
       "    </tr>\n",
       "    <tr>\n",
       "      <th>Gender</th>\n",
       "      <th>Race</th>\n",
       "      <th></th>\n",
       "    </tr>\n",
       "  </thead>\n",
       "  <tbody>\n",
       "    <tr>\n",
       "      <th rowspan=\"6\" valign=\"top\">F</th>\n",
       "      <th>ASIAN</th>\n",
       "      <td>0.599226</td>\n",
       "    </tr>\n",
       "    <tr>\n",
       "      <th>BLACK</th>\n",
       "      <td>0.823666</td>\n",
       "    </tr>\n",
       "    <tr>\n",
       "      <th>HISPANIC</th>\n",
       "      <td>0.888538</td>\n",
       "    </tr>\n",
       "    <tr>\n",
       "      <th>NATIVE AMERICAN</th>\n",
       "      <td>0.576592</td>\n",
       "    </tr>\n",
       "    <tr>\n",
       "      <th>OTHER</th>\n",
       "      <td>0.647204</td>\n",
       "    </tr>\n",
       "    <tr>\n",
       "      <th>WHITE</th>\n",
       "      <td>0.707282</td>\n",
       "    </tr>\n",
       "    <tr>\n",
       "      <th rowspan=\"6\" valign=\"top\">M</th>\n",
       "      <th>ASIAN</th>\n",
       "      <td>0.747067</td>\n",
       "    </tr>\n",
       "    <tr>\n",
       "      <th>BLACK</th>\n",
       "      <td>1.091476</td>\n",
       "    </tr>\n",
       "    <tr>\n",
       "      <th>HISPANIC</th>\n",
       "      <td>1.431702</td>\n",
       "    </tr>\n",
       "    <tr>\n",
       "      <th>NATIVE AMERICAN</th>\n",
       "      <td>0.952716</td>\n",
       "    </tr>\n",
       "    <tr>\n",
       "      <th>OTHER</th>\n",
       "      <td>0.787139</td>\n",
       "    </tr>\n",
       "    <tr>\n",
       "      <th>WHITE</th>\n",
       "      <td>0.901049</td>\n",
       "    </tr>\n",
       "    <tr>\n",
       "      <th rowspan=\"6\" valign=\"top\">U</th>\n",
       "      <th>ASIAN</th>\n",
       "      <td>1.666667</td>\n",
       "    </tr>\n",
       "    <tr>\n",
       "      <th>BLACK</th>\n",
       "      <td>2.400000</td>\n",
       "    </tr>\n",
       "    <tr>\n",
       "      <th>HISPANIC</th>\n",
       "      <td>1.466667</td>\n",
       "    </tr>\n",
       "    <tr>\n",
       "      <th>NATIVE AMERICAN</th>\n",
       "      <td>1.000000</td>\n",
       "    </tr>\n",
       "    <tr>\n",
       "      <th>OTHER</th>\n",
       "      <td>0.124375</td>\n",
       "    </tr>\n",
       "    <tr>\n",
       "      <th>WHITE</th>\n",
       "      <td>0.521739</td>\n",
       "    </tr>\n",
       "  </tbody>\n",
       "</table>\n",
       "</div>"
      ],
      "text/plain": [
       "                        citations_per_warning\n",
       "Gender Race                                  \n",
       "F      ASIAN                         0.599226\n",
       "       BLACK                         0.823666\n",
       "       HISPANIC                      0.888538\n",
       "       NATIVE AMERICAN               0.576592\n",
       "       OTHER                         0.647204\n",
       "       WHITE                         0.707282\n",
       "M      ASIAN                         0.747067\n",
       "       BLACK                         1.091476\n",
       "       HISPANIC                      1.431702\n",
       "       NATIVE AMERICAN               0.952716\n",
       "       OTHER                         0.787139\n",
       "       WHITE                         0.901049\n",
       "U      ASIAN                         1.666667\n",
       "       BLACK                         2.400000\n",
       "       HISPANIC                      1.466667\n",
       "       NATIVE AMERICAN               1.000000\n",
       "       OTHER                         0.124375\n",
       "       WHITE                         0.521739"
      ]
     },
     "execution_count": 56,
     "metadata": {},
     "output_type": "execute_result"
    }
   ],
   "source": [
    "#Look at \"Citations Per Warning\" By Gender & Race\n",
    "data.groupby(['Gender','Race']).apply(citations_per_warning)"
   ]
  },
  {
   "cell_type": "code",
   "execution_count": 57,
   "metadata": {},
   "outputs": [
    {
     "data": {
      "text/html": [
       "<div>\n",
       "<style scoped>\n",
       "    .dataframe tbody tr th:only-of-type {\n",
       "        vertical-align: middle;\n",
       "    }\n",
       "\n",
       "    .dataframe tbody tr th {\n",
       "        vertical-align: top;\n",
       "    }\n",
       "\n",
       "    .dataframe thead th {\n",
       "        text-align: right;\n",
       "    }\n",
       "</style>\n",
       "<table border=\"1\" class=\"dataframe\">\n",
       "  <thead>\n",
       "    <tr style=\"text-align: right;\">\n",
       "      <th></th>\n",
       "      <th>Agency</th>\n",
       "      <th>SubAgency</th>\n",
       "      <th>Description</th>\n",
       "      <th>Location</th>\n",
       "      <th>Latitude</th>\n",
       "      <th>Longitude</th>\n",
       "      <th>Accident</th>\n",
       "      <th>Belts</th>\n",
       "      <th>Personal Injury</th>\n",
       "      <th>Property Damage</th>\n",
       "      <th>...</th>\n",
       "      <th>Charge</th>\n",
       "      <th>Article</th>\n",
       "      <th>Contributed To Accident</th>\n",
       "      <th>Race</th>\n",
       "      <th>Gender</th>\n",
       "      <th>Driver City</th>\n",
       "      <th>Driver State</th>\n",
       "      <th>DL State</th>\n",
       "      <th>Arrest Type</th>\n",
       "      <th>Geolocation</th>\n",
       "    </tr>\n",
       "    <tr>\n",
       "      <th>Date Of Stop_Time Of Stop</th>\n",
       "      <th></th>\n",
       "      <th></th>\n",
       "      <th></th>\n",
       "      <th></th>\n",
       "      <th></th>\n",
       "      <th></th>\n",
       "      <th></th>\n",
       "      <th></th>\n",
       "      <th></th>\n",
       "      <th></th>\n",
       "      <th></th>\n",
       "      <th></th>\n",
       "      <th></th>\n",
       "      <th></th>\n",
       "      <th></th>\n",
       "      <th></th>\n",
       "      <th></th>\n",
       "      <th></th>\n",
       "      <th></th>\n",
       "      <th></th>\n",
       "      <th></th>\n",
       "    </tr>\n",
       "  </thead>\n",
       "  <tbody>\n",
       "    <tr>\n",
       "      <th>2017-08-30 19:55:00</th>\n",
       "      <td>MCP</td>\n",
       "      <td>4th district, Wheaton</td>\n",
       "      <td>FAILURE OF INDIVIDUAL DRIVING ON HIGHWAY TO DI...</td>\n",
       "      <td>SB GEORGIA AVE @ HEWITT AVE</td>\n",
       "      <td>39.078595</td>\n",
       "      <td>-77.069165</td>\n",
       "      <td>No</td>\n",
       "      <td>No</td>\n",
       "      <td>No</td>\n",
       "      <td>No</td>\n",
       "      <td>...</td>\n",
       "      <td>16-112(c)</td>\n",
       "      <td>Transportation Article</td>\n",
       "      <td>No</td>\n",
       "      <td>HISPANIC</td>\n",
       "      <td>M</td>\n",
       "      <td>SILVER SPRING</td>\n",
       "      <td>MD</td>\n",
       "      <td>MD</td>\n",
       "      <td>A - Marked Patrol</td>\n",
       "      <td>(39.078595, -77.069165)</td>\n",
       "    </tr>\n",
       "    <tr>\n",
       "      <th>2017-08-30 19:55:00</th>\n",
       "      <td>MCP</td>\n",
       "      <td>4th district, Wheaton</td>\n",
       "      <td>DRIVING MOTOR VEHICLE ON HIGHWAY WITHOUT REQUI...</td>\n",
       "      <td>SB GEORGIA AVE @ HEWITT AVE</td>\n",
       "      <td>39.078595</td>\n",
       "      <td>-77.069165</td>\n",
       "      <td>No</td>\n",
       "      <td>No</td>\n",
       "      <td>No</td>\n",
       "      <td>No</td>\n",
       "      <td>...</td>\n",
       "      <td>16-101(a)</td>\n",
       "      <td>Transportation Article</td>\n",
       "      <td>No</td>\n",
       "      <td>HISPANIC</td>\n",
       "      <td>M</td>\n",
       "      <td>SILVER SPRING</td>\n",
       "      <td>MD</td>\n",
       "      <td>MD</td>\n",
       "      <td>A - Marked Patrol</td>\n",
       "      <td>(39.078595, -77.069165)</td>\n",
       "    </tr>\n",
       "    <tr>\n",
       "      <th>2017-08-30 19:55:00</th>\n",
       "      <td>MCP</td>\n",
       "      <td>4th district, Wheaton</td>\n",
       "      <td>PERSON DRIVING MOTOR VEHICLE ON HIGHWAY OR PUB...</td>\n",
       "      <td>SB GEORGIA AVE @ HEWITT AVE</td>\n",
       "      <td>39.078595</td>\n",
       "      <td>-77.069165</td>\n",
       "      <td>No</td>\n",
       "      <td>No</td>\n",
       "      <td>No</td>\n",
       "      <td>No</td>\n",
       "      <td>...</td>\n",
       "      <td>16-303(c)</td>\n",
       "      <td>Transportation Article</td>\n",
       "      <td>No</td>\n",
       "      <td>HISPANIC</td>\n",
       "      <td>M</td>\n",
       "      <td>SILVER SPRING</td>\n",
       "      <td>MD</td>\n",
       "      <td>MD</td>\n",
       "      <td>A - Marked Patrol</td>\n",
       "      <td>(39.078595, -77.069165)</td>\n",
       "    </tr>\n",
       "    <tr>\n",
       "      <th>2017-08-30 19:55:00</th>\n",
       "      <td>MCP</td>\n",
       "      <td>4th district, Wheaton</td>\n",
       "      <td>PERSON DRIVING MOTOR VEHICLE WHILE LICENSE SUS...</td>\n",
       "      <td>SB GEORGIA AVE @ HEWITT AVE</td>\n",
       "      <td>39.078595</td>\n",
       "      <td>-77.069165</td>\n",
       "      <td>No</td>\n",
       "      <td>No</td>\n",
       "      <td>No</td>\n",
       "      <td>No</td>\n",
       "      <td>...</td>\n",
       "      <td>16-303(h)</td>\n",
       "      <td>Transportation Article</td>\n",
       "      <td>No</td>\n",
       "      <td>HISPANIC</td>\n",
       "      <td>M</td>\n",
       "      <td>SILVER SPRING</td>\n",
       "      <td>MD</td>\n",
       "      <td>MD</td>\n",
       "      <td>A - Marked Patrol</td>\n",
       "      <td>(39.078595, -77.069165)</td>\n",
       "    </tr>\n",
       "    <tr>\n",
       "      <th>2017-08-30 19:55:00</th>\n",
       "      <td>MCP</td>\n",
       "      <td>4th district, Wheaton</td>\n",
       "      <td>PERSON DRIVING MOTOR VEHICLE ON HIGHWAY OR PUB...</td>\n",
       "      <td>SB GEORGIA AVE @ HEWITT AVE</td>\n",
       "      <td>39.078595</td>\n",
       "      <td>-77.069165</td>\n",
       "      <td>No</td>\n",
       "      <td>No</td>\n",
       "      <td>No</td>\n",
       "      <td>No</td>\n",
       "      <td>...</td>\n",
       "      <td>16-303(d)</td>\n",
       "      <td>Transportation Article</td>\n",
       "      <td>No</td>\n",
       "      <td>HISPANIC</td>\n",
       "      <td>M</td>\n",
       "      <td>SILVER SPRING</td>\n",
       "      <td>MD</td>\n",
       "      <td>MD</td>\n",
       "      <td>A - Marked Patrol</td>\n",
       "      <td>(39.078595, -77.069165)</td>\n",
       "    </tr>\n",
       "  </tbody>\n",
       "</table>\n",
       "<p>5 rows × 33 columns</p>\n",
       "</div>"
      ],
      "text/plain": [
       "                          Agency              SubAgency  \\\n",
       "Date Of Stop_Time Of Stop                                 \n",
       "2017-08-30 19:55:00          MCP  4th district, Wheaton   \n",
       "2017-08-30 19:55:00          MCP  4th district, Wheaton   \n",
       "2017-08-30 19:55:00          MCP  4th district, Wheaton   \n",
       "2017-08-30 19:55:00          MCP  4th district, Wheaton   \n",
       "2017-08-30 19:55:00          MCP  4th district, Wheaton   \n",
       "\n",
       "                                                                 Description  \\\n",
       "Date Of Stop_Time Of Stop                                                      \n",
       "2017-08-30 19:55:00        FAILURE OF INDIVIDUAL DRIVING ON HIGHWAY TO DI...   \n",
       "2017-08-30 19:55:00        DRIVING MOTOR VEHICLE ON HIGHWAY WITHOUT REQUI...   \n",
       "2017-08-30 19:55:00        PERSON DRIVING MOTOR VEHICLE ON HIGHWAY OR PUB...   \n",
       "2017-08-30 19:55:00        PERSON DRIVING MOTOR VEHICLE WHILE LICENSE SUS...   \n",
       "2017-08-30 19:55:00        PERSON DRIVING MOTOR VEHICLE ON HIGHWAY OR PUB...   \n",
       "\n",
       "                                              Location   Latitude  Longitude  \\\n",
       "Date Of Stop_Time Of Stop                                                      \n",
       "2017-08-30 19:55:00        SB GEORGIA AVE @ HEWITT AVE  39.078595 -77.069165   \n",
       "2017-08-30 19:55:00        SB GEORGIA AVE @ HEWITT AVE  39.078595 -77.069165   \n",
       "2017-08-30 19:55:00        SB GEORGIA AVE @ HEWITT AVE  39.078595 -77.069165   \n",
       "2017-08-30 19:55:00        SB GEORGIA AVE @ HEWITT AVE  39.078595 -77.069165   \n",
       "2017-08-30 19:55:00        SB GEORGIA AVE @ HEWITT AVE  39.078595 -77.069165   \n",
       "\n",
       "                          Accident Belts Personal Injury Property Damage  \\\n",
       "Date Of Stop_Time Of Stop                                                  \n",
       "2017-08-30 19:55:00             No    No              No              No   \n",
       "2017-08-30 19:55:00             No    No              No              No   \n",
       "2017-08-30 19:55:00             No    No              No              No   \n",
       "2017-08-30 19:55:00             No    No              No              No   \n",
       "2017-08-30 19:55:00             No    No              No              No   \n",
       "\n",
       "                                    ...                Charge  \\\n",
       "Date Of Stop_Time Of Stop           ...                         \n",
       "2017-08-30 19:55:00                 ...             16-112(c)   \n",
       "2017-08-30 19:55:00                 ...             16-101(a)   \n",
       "2017-08-30 19:55:00                 ...             16-303(c)   \n",
       "2017-08-30 19:55:00                 ...             16-303(h)   \n",
       "2017-08-30 19:55:00                 ...             16-303(d)   \n",
       "\n",
       "                                          Article Contributed To Accident  \\\n",
       "Date Of Stop_Time Of Stop                                                   \n",
       "2017-08-30 19:55:00        Transportation Article                      No   \n",
       "2017-08-30 19:55:00        Transportation Article                      No   \n",
       "2017-08-30 19:55:00        Transportation Article                      No   \n",
       "2017-08-30 19:55:00        Transportation Article                      No   \n",
       "2017-08-30 19:55:00        Transportation Article                      No   \n",
       "\n",
       "                               Race Gender    Driver City Driver State  \\\n",
       "Date Of Stop_Time Of Stop                                                \n",
       "2017-08-30 19:55:00        HISPANIC      M  SILVER SPRING           MD   \n",
       "2017-08-30 19:55:00        HISPANIC      M  SILVER SPRING           MD   \n",
       "2017-08-30 19:55:00        HISPANIC      M  SILVER SPRING           MD   \n",
       "2017-08-30 19:55:00        HISPANIC      M  SILVER SPRING           MD   \n",
       "2017-08-30 19:55:00        HISPANIC      M  SILVER SPRING           MD   \n",
       "\n",
       "                          DL State        Arrest Type              Geolocation  \n",
       "Date Of Stop_Time Of Stop                                                       \n",
       "2017-08-30 19:55:00             MD  A - Marked Patrol  (39.078595, -77.069165)  \n",
       "2017-08-30 19:55:00             MD  A - Marked Patrol  (39.078595, -77.069165)  \n",
       "2017-08-30 19:55:00             MD  A - Marked Patrol  (39.078595, -77.069165)  \n",
       "2017-08-30 19:55:00             MD  A - Marked Patrol  (39.078595, -77.069165)  \n",
       "2017-08-30 19:55:00             MD  A - Marked Patrol  (39.078595, -77.069165)  \n",
       "\n",
       "[5 rows x 33 columns]"
      ]
     },
     "execution_count": 57,
     "metadata": {},
     "output_type": "execute_result"
    }
   ],
   "source": [
    "#Look at Data DataFrame Where Alcoholo is Yes\n",
    "data[data['Alcohol']=='Yes'].head()"
   ]
  },
  {
   "cell_type": "code",
   "execution_count": 58,
   "metadata": {},
   "outputs": [
    {
     "data": {
      "text/html": [
       "<div>\n",
       "<style scoped>\n",
       "    .dataframe tbody tr th:only-of-type {\n",
       "        vertical-align: middle;\n",
       "    }\n",
       "\n",
       "    .dataframe tbody tr th {\n",
       "        vertical-align: top;\n",
       "    }\n",
       "\n",
       "    .dataframe thead th {\n",
       "        text-align: right;\n",
       "    }\n",
       "</style>\n",
       "<table border=\"1\" class=\"dataframe\">\n",
       "  <thead>\n",
       "    <tr style=\"text-align: right;\">\n",
       "      <th></th>\n",
       "      <th>SubAgency</th>\n",
       "      <th>Description</th>\n",
       "      <th>Accident</th>\n",
       "      <th>Belts</th>\n",
       "      <th>Personal Injury</th>\n",
       "      <th>Property Damage</th>\n",
       "    </tr>\n",
       "    <tr>\n",
       "      <th>Date Of Stop_Time Of Stop</th>\n",
       "      <th></th>\n",
       "      <th></th>\n",
       "      <th></th>\n",
       "      <th></th>\n",
       "      <th></th>\n",
       "      <th></th>\n",
       "    </tr>\n",
       "  </thead>\n",
       "  <tbody>\n",
       "    <tr>\n",
       "      <th>2018-10-20 00:01:00</th>\n",
       "      <td>6th district, Gaithersburg / Montgomery Village</td>\n",
       "      <td>PERSON DRIVING MOTOR VEHICLE ON HIGHWAY OR PUB...</td>\n",
       "      <td>No</td>\n",
       "      <td>No</td>\n",
       "      <td>No</td>\n",
       "      <td>Yes</td>\n",
       "    </tr>\n",
       "    <tr>\n",
       "      <th>2018-10-20 00:01:00</th>\n",
       "      <td>6th district, Gaithersburg / Montgomery Village</td>\n",
       "      <td>DRIVING WHILE LIC. SUSP. UNDER 16-203, 16-206A...</td>\n",
       "      <td>No</td>\n",
       "      <td>No</td>\n",
       "      <td>No</td>\n",
       "      <td>Yes</td>\n",
       "    </tr>\n",
       "    <tr>\n",
       "      <th>2018-10-20 00:01:00</th>\n",
       "      <td>6th district, Gaithersburg / Montgomery Village</td>\n",
       "      <td>PERSON DRIVING MOTOR VEHICLE ON HIGHWAY OR PUB...</td>\n",
       "      <td>No</td>\n",
       "      <td>No</td>\n",
       "      <td>No</td>\n",
       "      <td>Yes</td>\n",
       "    </tr>\n",
       "    <tr>\n",
       "      <th>2018-10-20 00:01:00</th>\n",
       "      <td>6th district, Gaithersburg / Montgomery Village</td>\n",
       "      <td>FAILURE OF INDIVIDUAL DRIVING ON HIGHWAY TO DI...</td>\n",
       "      <td>No</td>\n",
       "      <td>No</td>\n",
       "      <td>No</td>\n",
       "      <td>Yes</td>\n",
       "    </tr>\n",
       "    <tr>\n",
       "      <th>2018-10-20 00:01:00</th>\n",
       "      <td>6th district, Gaithersburg / Montgomery Village</td>\n",
       "      <td>NEGLIGENT DRIVING VEHICLE IN CARELESS AND IMPR...</td>\n",
       "      <td>No</td>\n",
       "      <td>No</td>\n",
       "      <td>No</td>\n",
       "      <td>Yes</td>\n",
       "    </tr>\n",
       "    <tr>\n",
       "      <th>2018-10-20 00:01:00</th>\n",
       "      <td>6th district, Gaithersburg / Montgomery Village</td>\n",
       "      <td>RECKLESS DRIVING VEHICLE IN WANTON AND WILLFUL...</td>\n",
       "      <td>No</td>\n",
       "      <td>No</td>\n",
       "      <td>No</td>\n",
       "      <td>Yes</td>\n",
       "    </tr>\n",
       "    <tr>\n",
       "      <th>2018-10-20 00:01:00</th>\n",
       "      <td>6th district, Gaithersburg / Montgomery Village</td>\n",
       "      <td>DRIVING VEHICLE WHILE UNDER THE INFLUENCE OF A...</td>\n",
       "      <td>No</td>\n",
       "      <td>No</td>\n",
       "      <td>No</td>\n",
       "      <td>Yes</td>\n",
       "    </tr>\n",
       "    <tr>\n",
       "      <th>2018-10-20 00:01:00</th>\n",
       "      <td>6th district, Gaithersburg / Montgomery Village</td>\n",
       "      <td>DRIVING VEH. WHILE IMPAIRED BY ALCOHOL</td>\n",
       "      <td>No</td>\n",
       "      <td>No</td>\n",
       "      <td>No</td>\n",
       "      <td>Yes</td>\n",
       "    </tr>\n",
       "    <tr>\n",
       "      <th>2018-10-20 00:01:00</th>\n",
       "      <td>6th district, Gaithersburg / Montgomery Village</td>\n",
       "      <td>FAILURE OF VEH. DRIVER TO STOP AFTER UNATTENDE...</td>\n",
       "      <td>No</td>\n",
       "      <td>No</td>\n",
       "      <td>No</td>\n",
       "      <td>Yes</td>\n",
       "    </tr>\n",
       "    <tr>\n",
       "      <th>2018-10-20 00:01:00</th>\n",
       "      <td>6th district, Gaithersburg / Montgomery Village</td>\n",
       "      <td>FAILURE OF VEH. DRIVER IN ACCIDENT TO LOCATE A...</td>\n",
       "      <td>No</td>\n",
       "      <td>No</td>\n",
       "      <td>No</td>\n",
       "      <td>Yes</td>\n",
       "    </tr>\n",
       "    <tr>\n",
       "      <th>2018-10-20 00:01:00</th>\n",
       "      <td>6th district, Gaithersburg / Montgomery Village</td>\n",
       "      <td>FAILURE OF VEH. DRIVER TO FURNISH REQ'D WRITTE...</td>\n",
       "      <td>No</td>\n",
       "      <td>No</td>\n",
       "      <td>No</td>\n",
       "      <td>Yes</td>\n",
       "    </tr>\n",
       "    <tr>\n",
       "      <th>2018-10-20 00:01:00</th>\n",
       "      <td>6th district, Gaithersburg / Montgomery Village</td>\n",
       "      <td>ATTEMPT BY DRIVER TO ELUDE UNIFORMED POLICE BY...</td>\n",
       "      <td>No</td>\n",
       "      <td>No</td>\n",
       "      <td>No</td>\n",
       "      <td>Yes</td>\n",
       "    </tr>\n",
       "    <tr>\n",
       "      <th>2018-10-20 00:01:00</th>\n",
       "      <td>6th district, Gaithersburg / Montgomery Village</td>\n",
       "      <td>DRIVING MOTOR VEHICLE ON HIGHWAY WITHOUT REQUI...</td>\n",
       "      <td>No</td>\n",
       "      <td>No</td>\n",
       "      <td>No</td>\n",
       "      <td>Yes</td>\n",
       "    </tr>\n",
       "  </tbody>\n",
       "</table>\n",
       "</div>"
      ],
      "text/plain": [
       "                                                                 SubAgency  \\\n",
       "Date Of Stop_Time Of Stop                                                    \n",
       "2018-10-20 00:01:00        6th district, Gaithersburg / Montgomery Village   \n",
       "2018-10-20 00:01:00        6th district, Gaithersburg / Montgomery Village   \n",
       "2018-10-20 00:01:00        6th district, Gaithersburg / Montgomery Village   \n",
       "2018-10-20 00:01:00        6th district, Gaithersburg / Montgomery Village   \n",
       "2018-10-20 00:01:00        6th district, Gaithersburg / Montgomery Village   \n",
       "2018-10-20 00:01:00        6th district, Gaithersburg / Montgomery Village   \n",
       "2018-10-20 00:01:00        6th district, Gaithersburg / Montgomery Village   \n",
       "2018-10-20 00:01:00        6th district, Gaithersburg / Montgomery Village   \n",
       "2018-10-20 00:01:00        6th district, Gaithersburg / Montgomery Village   \n",
       "2018-10-20 00:01:00        6th district, Gaithersburg / Montgomery Village   \n",
       "2018-10-20 00:01:00        6th district, Gaithersburg / Montgomery Village   \n",
       "2018-10-20 00:01:00        6th district, Gaithersburg / Montgomery Village   \n",
       "2018-10-20 00:01:00        6th district, Gaithersburg / Montgomery Village   \n",
       "\n",
       "                                                                 Description  \\\n",
       "Date Of Stop_Time Of Stop                                                      \n",
       "2018-10-20 00:01:00        PERSON DRIVING MOTOR VEHICLE ON HIGHWAY OR PUB...   \n",
       "2018-10-20 00:01:00        DRIVING WHILE LIC. SUSP. UNDER 16-203, 16-206A...   \n",
       "2018-10-20 00:01:00        PERSON DRIVING MOTOR VEHICLE ON HIGHWAY OR PUB...   \n",
       "2018-10-20 00:01:00        FAILURE OF INDIVIDUAL DRIVING ON HIGHWAY TO DI...   \n",
       "2018-10-20 00:01:00        NEGLIGENT DRIVING VEHICLE IN CARELESS AND IMPR...   \n",
       "2018-10-20 00:01:00        RECKLESS DRIVING VEHICLE IN WANTON AND WILLFUL...   \n",
       "2018-10-20 00:01:00        DRIVING VEHICLE WHILE UNDER THE INFLUENCE OF A...   \n",
       "2018-10-20 00:01:00                   DRIVING VEH. WHILE IMPAIRED BY ALCOHOL   \n",
       "2018-10-20 00:01:00        FAILURE OF VEH. DRIVER TO STOP AFTER UNATTENDE...   \n",
       "2018-10-20 00:01:00        FAILURE OF VEH. DRIVER IN ACCIDENT TO LOCATE A...   \n",
       "2018-10-20 00:01:00        FAILURE OF VEH. DRIVER TO FURNISH REQ'D WRITTE...   \n",
       "2018-10-20 00:01:00        ATTEMPT BY DRIVER TO ELUDE UNIFORMED POLICE BY...   \n",
       "2018-10-20 00:01:00        DRIVING MOTOR VEHICLE ON HIGHWAY WITHOUT REQUI...   \n",
       "\n",
       "                          Accident Belts Personal Injury Property Damage  \n",
       "Date Of Stop_Time Of Stop                                                 \n",
       "2018-10-20 00:01:00             No    No              No             Yes  \n",
       "2018-10-20 00:01:00             No    No              No             Yes  \n",
       "2018-10-20 00:01:00             No    No              No             Yes  \n",
       "2018-10-20 00:01:00             No    No              No             Yes  \n",
       "2018-10-20 00:01:00             No    No              No             Yes  \n",
       "2018-10-20 00:01:00             No    No              No             Yes  \n",
       "2018-10-20 00:01:00             No    No              No             Yes  \n",
       "2018-10-20 00:01:00             No    No              No             Yes  \n",
       "2018-10-20 00:01:00             No    No              No             Yes  \n",
       "2018-10-20 00:01:00             No    No              No             Yes  \n",
       "2018-10-20 00:01:00             No    No              No             Yes  \n",
       "2018-10-20 00:01:00             No    No              No             Yes  \n",
       "2018-10-20 00:01:00             No    No              No             Yes  "
      ]
     },
     "execution_count": 58,
     "metadata": {},
     "output_type": "execute_result"
    }
   ],
   "source": [
    "#Look at Data For Specific Day\n",
    "data.loc['2018-10-20 00:01:00',['SubAgency','Description','Accident','Belts','Personal Injury','Property Damage']]"
   ]
  },
  {
   "cell_type": "markdown",
   "metadata": {},
   "source": [
    "#### Car Colors"
   ]
  },
  {
   "cell_type": "markdown",
   "metadata": {},
   "source": [
    "<span style=\"color:darkblue\">We wanted to look at a few fun stats about the cars and what cars are more likely to be pulled over or have a violation. We would like to see if the name \"Arrest me red\" holds up."
   ]
  },
  {
   "cell_type": "code",
   "execution_count": 68,
   "metadata": {},
   "outputs": [
    {
     "name": "stdout",
     "output_type": "stream",
     "text": [
      "Color\n",
      "BEIGE           16262\n",
      "BLACK          286652\n",
      "BLUE           103710\n",
      "BLUE, DARK      29842\n",
      "BLUE, LIGHT     18635\n",
      "BRONZE           3287\n",
      "BROWN            6455\n",
      "CAMOUFLAGE         28\n",
      "CHROME             38\n",
      "COPPER            447\n",
      "CREAM             880\n",
      "GOLD            44468\n",
      "GRAY           157430\n",
      "GREEN           52522\n",
      "GREEN, DK       15331\n",
      "GREEN, LGT       7901\n",
      "MAROON          24189\n",
      "MULTICOLOR       1085\n",
      "ORANGE           5006\n",
      "PINK              193\n",
      "PURPLE           2741\n",
      "RED            111143\n",
      "SILVER         259739\n",
      "TAN             28883\n",
      "WHITE          218952\n",
      "YELLOW           5339\n",
      "dtype: int64\n"
     ]
    }
   ],
   "source": [
    "#Trying to see which color car had the most violations\n",
    "data_color = data.groupby(['Color']).size()\n",
    "print(data_color)"
   ]
  },
  {
   "cell_type": "code",
   "execution_count": 80,
   "metadata": {},
   "outputs": [
    {
     "data": {
      "text/plain": [
       "<matplotlib.axes._subplots.AxesSubplot at 0x1a109394a8>"
      ]
     },
     "execution_count": 80,
     "metadata": {},
     "output_type": "execute_result"
    },
    {
     "data": {
      "image/png": "[encoded data removed]",
      "text/plain": [
       "<Figure size 576x396 with 1 Axes>"
      ]
     },
     "metadata": {},
     "output_type": "display_data"
    }
   ],
   "source": [
    "#Make a Graph Showing Which Color Cars are More Likely to be Pulled Over/Have an Incident\n",
    "#Change All the Colors on the Graph to Match the Color Car they are Representing\n",
    "data['Color'].value_counts().plot.barh(color=['black', 'silver', 'white', 'gray', 'red', 'blue', 'green', 'gold', 'darkblue', 'tan', 'maroon', 'lightblue', 'beige', 'darkgreen', 'lightgreen', 'brown', 'yellow', 'orange', 'peru', 'purple', 'salmon', 'bisque', 'firebrick', 'pink', 'lightgrey', 'olive'])"
   ]
  },
  {
   "cell_type": "markdown",
   "metadata": {},
   "source": [
    "As we can see Red comes in 5th, however we believe this is because the majority of cars on the road are Black, Silver, White or Grey. Red does have the higehst arrest rate out of any of the brighter colors, closely following is blue."
   ]
  },
  {
   "cell_type": "markdown",
   "metadata": {},
   "source": [
    "#### Car Make"
   ]
  },
  {
   "cell_type": "markdown",
   "metadata": {},
   "source": [
    "Next we wanted to look at the makes of the cars. We would expect Toyota to be the top becuase they are the most driven vehicle in the country. However, we would expect sports cars could get pulled over more often since they have the ability to drive faster."
   ]
  },
  {
   "cell_type": "code",
   "execution_count": 70,
   "metadata": {},
   "outputs": [
    {
     "data": {
      "text/plain": [
       "TOYOTA    161399\n",
       "HONDA     152799\n",
       "FORD      132534\n",
       "TOYT       79348\n",
       "NISSAN     75714\n",
       "HOND       53610\n",
       "CHEV       42893\n",
       "BMW        39004\n",
       "DODGE      37724\n",
       "CHEVY      32360\n",
       "Name: Make, dtype: int64"
      ]
     },
     "execution_count": 70,
     "metadata": {},
     "output_type": "execute_result"
    }
   ],
   "source": [
    "#Find the top 10 makes that had the most violations\n",
    "data['Make'].value_counts().head(10)"
   ]
  },
  {
   "cell_type": "code",
   "execution_count": 71,
   "metadata": {},
   "outputs": [
    {
     "data": {
      "text/plain": [
       "<matplotlib.axes._subplots.AxesSubplot at 0x1a102d9d68>"
      ]
     },
     "execution_count": 71,
     "metadata": {},
     "output_type": "execute_result"
    },
    {
     "data": {
      "image/png": "[encoded data removed]",
      "text/plain": [
       "<Figure size 576x396 with 1 Axes>"
      ]
     },
     "metadata": {},
     "output_type": "display_data"
    }
   ],
   "source": [
    "#plot it to show\n",
    "data['Make'].value_counts().head(10).plot.barh()"
   ]
  },
  {
   "cell_type": "markdown",
   "metadata": {},
   "source": [
    "Toyota has the highest amount of violations which was expected. The only real sports car make in the top 10 is BMW, however Nissan, Chevy and Dodge also make some sports cars."
   ]
  },
  {
   "cell_type": "markdown",
   "metadata": {},
   "source": [
    "#### Driver State"
   ]
  },
  {
   "cell_type": "code",
   "execution_count": 72,
   "metadata": {},
   "outputs": [
    {
     "name": "stdout",
     "output_type": "stream",
     "text": [
      "    Driver State\n",
      "MD       1280558\n",
      "DC         45424\n",
      "VA         44043\n",
      "PA          7387\n",
      "FL          5048\n",
      "NY          4376\n",
      "NC          3446\n",
      "WV          3032\n",
      "CA          2727\n",
      "NJ          2297\n",
      "TX          2040\n",
      "GA          1993\n",
      "MA          1483\n",
      "DE          1294\n",
      "OH          1270\n",
      "IL           950\n",
      "XX           923\n",
      "SC           914\n",
      "CT           734\n",
      "MI           718\n",
      "WA           699\n",
      "TN           599\n",
      "CO           537\n",
      "AZ           489\n",
      "IN           436\n",
      "AL           388\n",
      "MO           368\n",
      "LA           299\n",
      "MS           241\n",
      "KY           236\n",
      "NM           229\n",
      "NV           223\n",
      "MN           217\n",
      "OK           206\n",
      "WI           206\n",
      "RI           183\n",
      "UT           181\n",
      "ME           175\n",
      "NH           168\n",
      "OR           159\n",
      "ON           157\n",
      "KS           141\n",
      "HI           117\n",
      "AR           105\n",
      "ND           102\n",
      "IA            97\n",
      "VT            92\n",
      "AK            79\n",
      "NE            76\n",
      "MT            67\n"
     ]
    }
   ],
   "source": [
    "driver_state = pd.DataFrame(data['Driver State'].value_counts().head(50))\n",
    "state_names = pd.Series(['Maryland', 'DC', 'Virginia', 'Pennsylvaina', 'Florida', 'New York', 'North Carolina', 'West Virginia', 'California', 'New Jersey', 'Texas', 'Georgia', 'Massachusetts', 'Delaware', 'Ohio', 'Illinois', 'Canada', 'South Carolina', 'Connecticut', 'Michigan', 'Washington', 'Tennessee', 'Colorado', 'Arizona', 'Indiana', 'Alabama', 'Missouri', 'Louisiana', 'Mississippi', 'Kentucky', 'New Mexico', 'Nevada', 'Minnesota', 'Oklahoma', 'Wisconsin', 'Rhode Island', 'Utah', 'Maine', 'New Hampshire', 'Oregon', 'Ontario', 'Kansas', 'Hawaii', 'Arkansas', 'North Dakota', 'Iowa', 'Vermont', 'Alaska', 'Nebraska', 'Montana'])\n",
    "print(driver_state)"
   ]
  },
  {
   "cell_type": "markdown",
   "metadata": {},
   "source": [
    "Map of USA - Where Drivers Who Got Violations Are From. Excluding Maryland, DC, & Virginia Outliers. It's very interesting to see Florida, California and Texas drivers having alot of violations in Montgomery County."
   ]
  },
  {
   "cell_type": "markdown",
   "metadata": {},
   "source": [
    "<img align=\"left\" width=\"500\" height=\"500\" src=\"img/Tableau 2.PNG\">"
   ]
  },
  {
   "cell_type": "markdown",
   "metadata": {},
   "source": [
    "Map of Northeast - Where Drivers Who Got Violations Are From."
   ]
  },
  {
   "cell_type": "markdown",
   "metadata": {},
   "source": [
    "<img align=\"left\" width=\"500\" height=\"500\" src=\"img/Tableau 1.PNG\">"
   ]
  },
  {
   "cell_type": "markdown",
   "metadata": {},
   "source": [
    "#### References\n",
    "\n",
    "[1] http://strftime.org/\n",
    "\n",
    "[2] http://jakevdp.github.io/blog/2017/03/03/reproducible-data-analysis-in-jupyter/\n",
    "\n",
    "[3] https://www.kaggle.com/pmarcelino/comprehensive-data-exploration-with-python\n",
    "\n",
    "[4] https://www.kaggle.com/tejainece/seaborn-barplot-and-pandas-value-counts\n",
    "\n",
    "[5] https://scitools.org.uk/cartopy/docs/v0.15/matplotlib/intro.html\n",
    "\n",
    "\n",
    "##### Images\n",
    "[6] https://en.wikipedia.org/wiki/Maryland#/media/File:Maryland_in_United_States_(zoom).svg\n",
    "\n",
    "[7] https://en.wikipedia.org/wiki/Montgomery_County,_Maryland#/media/File:Map_of_Maryland_highlighting_Montgomery_County.svg\n",
    "\n",
    "[8] https://www.montgomerycountymd.gov/pol/districts/map.html"
   ]
  }
 ],
 "metadata": {
  "kernelspec": {
   "display_name": "Python 3",
   "language": "python",
   "name": "python3"
  },
  "language_info": {
   "codemirror_mode": {
    "name": "ipython",
    "version": 3
   },
   "file_extension": ".py",
   "mimetype": "text/x-python",
   "name": "python",
   "nbconvert_exporter": "python",
   "pygments_lexer": "ipython3",
   "version": "3.7.0"
  }
 },
 "nbformat": 4,
 "nbformat_minor": 2
}
