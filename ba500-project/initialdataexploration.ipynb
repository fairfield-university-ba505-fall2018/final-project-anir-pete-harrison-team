{
 "cells": [
  {
   "cell_type": "markdown",
   "metadata": {},
   "source": [
    "<img align=\"left\" width=\"300\" height=\"300\" src=\"img/dolan.png\">\n",
    "\n",
    "# Exploratory Data Analysis (EDA) using Python\n",
    "<span style=\"color:darkblue\">This Jupyter notebook is submitted by Anir Chakraborty, Peter Groglio and Harrison Buuzzi on Dec-04-2018 as the final project in partial fulfillment of the requirements for **BA 505, Python for Analytics** at the Dolan School of Business Fairfield University, 2017-2019. \n",
    "\n",
    "<span style=\"color:darkblue\">The project objectives are threefold, as outlined in the course agenda:\n",
    "Apply Python skills to a student-selected analytical project of moderate (but nontrivial) scope and complexity, demonstrate mastery of Python, NumPy, Pandas, Matplolib, Jupyter, GitHub and finally to work in teams, with professional-quality tools and standards.\n",
    "\n",
    "<span style=\"color:darkblue\">Additionally, the Jupyter notebook here shares the source of data , tries to preprocess the data to do basic exploratory data analysis (EDA), highlights probable research questions, the challenges anticipated and finally visualizes the results through matplotlib and seaborn libraries, all pieces tying together telling a story."
   ]
  },
  {
   "cell_type": "markdown",
   "metadata": {},
   "source": [
    "\n",
    "#### Data Source \n",
    "https://catalog.data.gov/dataset/traffic-violations-56dda <span style=\"color:darkblue\">The dataset contains traffic violation information from all electronic traffic violations issued in the Montgomery County of Maryland. Any information that can be used to uniquely identify the vehicle, the vehicle owner or the officer issuing the violation is not published. This dataset is intended for public access and use."
   ]
  },
  {
   "cell_type": "markdown",
   "metadata": {},
   "source": [
    "<span style=\"color:darkblue\"> Import all necessary packages and modules. The IPCompleter.greedy configuration enables intellisense in the Jupyter notebook. The matlplotlib inline function renders the plot within the Jupyter notebook."
   ]
  },
  {
   "cell_type": "code",
   "execution_count": 1,
   "metadata": {},
   "outputs": [],
   "source": [
    "import pandas as pd\n",
    "import numpy as np\n",
    "import matplotlib.pyplot as plt\n",
    "import seaborn as sns\n",
    "\n",
    "%config IPCompleter.greedy=True\n",
    "%matplotlib inline"
   ]
  },
  {
   "cell_type": "markdown",
   "metadata": {},
   "source": [
    "<span style=\"color:darkblue\">A folder/dir *ba500package* is created as part of the project reproducibility feature, that includes a __init__.py file (to let Python know that ba500 is a package, and the data.py module containing the data retrieval function. The function downloads the huge data file only once , in the event it is not present in the data folder. (See Ref [2]). Quick preview of the first 5 rows of the data set with the head() method"
   ]
  },
  {
   "cell_type": "markdown",
   "metadata": {},
   "source": [
    "#### Load Dataset\n",
    "<span style=\"color:darkblue\"> The first download takes a bit of a time partly because there are 1.5 million rows in the dataset, and also due to the fact that it's parsing the date_of_stop and time_of_stop columns as datetimes row by row. There were examples in the Ref[2] article that said converting to datetime later after creating the index as is, considerably speeded the process."
   ]
  },
  {
   "cell_type": "code",
   "execution_count": 2,
   "metadata": {},
   "outputs": [
    {
     "data": {
      "text/html": [
       "<div>\n",
       "<style scoped>\n",
       "    .dataframe tbody tr th:only-of-type {\n",
       "        vertical-align: middle;\n",
       "    }\n",
       "\n",
       "    .dataframe tbody tr th {\n",
       "        vertical-align: top;\n",
       "    }\n",
       "\n",
       "    .dataframe thead th {\n",
       "        text-align: right;\n",
       "    }\n",
       "</style>\n",
       "<table border=\"1\" class=\"dataframe\">\n",
       "  <thead>\n",
       "    <tr style=\"text-align: right;\">\n",
       "      <th></th>\n",
       "      <th>Agency</th>\n",
       "      <th>SubAgency</th>\n",
       "      <th>Description</th>\n",
       "      <th>Location</th>\n",
       "      <th>Latitude</th>\n",
       "      <th>Longitude</th>\n",
       "      <th>Accident</th>\n",
       "      <th>Belts</th>\n",
       "      <th>Personal Injury</th>\n",
       "      <th>Property Damage</th>\n",
       "      <th>...</th>\n",
       "      <th>Charge</th>\n",
       "      <th>Article</th>\n",
       "      <th>Contributed To Accident</th>\n",
       "      <th>Race</th>\n",
       "      <th>Gender</th>\n",
       "      <th>Driver City</th>\n",
       "      <th>Driver State</th>\n",
       "      <th>DL State</th>\n",
       "      <th>Arrest Type</th>\n",
       "      <th>Geolocation</th>\n",
       "    </tr>\n",
       "    <tr>\n",
       "      <th>Date Of Stop_Time Of Stop</th>\n",
       "      <th></th>\n",
       "      <th></th>\n",
       "      <th></th>\n",
       "      <th></th>\n",
       "      <th></th>\n",
       "      <th></th>\n",
       "      <th></th>\n",
       "      <th></th>\n",
       "      <th></th>\n",
       "      <th></th>\n",
       "      <th></th>\n",
       "      <th></th>\n",
       "      <th></th>\n",
       "      <th></th>\n",
       "      <th></th>\n",
       "      <th></th>\n",
       "      <th></th>\n",
       "      <th></th>\n",
       "      <th></th>\n",
       "      <th></th>\n",
       "      <th></th>\n",
       "    </tr>\n",
       "  </thead>\n",
       "  <tbody>\n",
       "    <tr>\n",
       "      <th>2013-09-24 17:11:00</th>\n",
       "      <td>MCP</td>\n",
       "      <td>3rd district, Silver Spring</td>\n",
       "      <td>DRIVING VEHICLE ON HIGHWAY WITH SUSPENDED REGI...</td>\n",
       "      <td>8804 FLOWER AVE</td>\n",
       "      <td>NaN</td>\n",
       "      <td>NaN</td>\n",
       "      <td>No</td>\n",
       "      <td>No</td>\n",
       "      <td>No</td>\n",
       "      <td>No</td>\n",
       "      <td>...</td>\n",
       "      <td>13-401(h)</td>\n",
       "      <td>Transportation Article</td>\n",
       "      <td>No</td>\n",
       "      <td>BLACK</td>\n",
       "      <td>M</td>\n",
       "      <td>TAKOMA PARK</td>\n",
       "      <td>MD</td>\n",
       "      <td>MD</td>\n",
       "      <td>A - Marked Patrol</td>\n",
       "      <td>NaN</td>\n",
       "    </tr>\n",
       "    <tr>\n",
       "      <th>2017-08-29 10:19:00</th>\n",
       "      <td>MCP</td>\n",
       "      <td>2nd district, Bethesda</td>\n",
       "      <td>DRIVER FAILURE TO OBEY PROPERLY PLACED TRAFFIC...</td>\n",
       "      <td>WISCONSIN AVE@ ELM ST</td>\n",
       "      <td>38.981725</td>\n",
       "      <td>-77.092757</td>\n",
       "      <td>No</td>\n",
       "      <td>No</td>\n",
       "      <td>No</td>\n",
       "      <td>No</td>\n",
       "      <td>...</td>\n",
       "      <td>21-201(a1)</td>\n",
       "      <td>Transportation Article</td>\n",
       "      <td>No</td>\n",
       "      <td>WHITE</td>\n",
       "      <td>F</td>\n",
       "      <td>FAIRFAX STATION</td>\n",
       "      <td>VA</td>\n",
       "      <td>VA</td>\n",
       "      <td>A - Marked Patrol</td>\n",
       "      <td>(38.981725, -77.0927566666667)</td>\n",
       "    </tr>\n",
       "    <tr>\n",
       "      <th>2014-12-01 12:52:00</th>\n",
       "      <td>MCP</td>\n",
       "      <td>6th district, Gaithersburg / Montgomery Village</td>\n",
       "      <td>FAILURE STOP AND YIELD AT THRU HWY</td>\n",
       "      <td>CHRISTOPHER AVE/MONTGOMERY VILLAGE AVE</td>\n",
       "      <td>39.162888</td>\n",
       "      <td>-77.229088</td>\n",
       "      <td>No</td>\n",
       "      <td>No</td>\n",
       "      <td>No</td>\n",
       "      <td>Yes</td>\n",
       "      <td>...</td>\n",
       "      <td>21-403(b)</td>\n",
       "      <td>Transportation Article</td>\n",
       "      <td>No</td>\n",
       "      <td>BLACK</td>\n",
       "      <td>F</td>\n",
       "      <td>UPPER MARLBORO</td>\n",
       "      <td>MD</td>\n",
       "      <td>MD</td>\n",
       "      <td>A - Marked Patrol</td>\n",
       "      <td>(39.1628883333333, -77.2290883333333)</td>\n",
       "    </tr>\n",
       "    <tr>\n",
       "      <th>2017-08-29 09:22:00</th>\n",
       "      <td>MCP</td>\n",
       "      <td>3rd district, Silver Spring</td>\n",
       "      <td>FAILURE YIELD RIGHT OF WAY ON U TURN</td>\n",
       "      <td>CHERRY HILL RD./CALVERTON BLVD.</td>\n",
       "      <td>39.056975</td>\n",
       "      <td>-76.954633</td>\n",
       "      <td>No</td>\n",
       "      <td>No</td>\n",
       "      <td>No</td>\n",
       "      <td>Yes</td>\n",
       "      <td>...</td>\n",
       "      <td>21-402(b)</td>\n",
       "      <td>Transportation Article</td>\n",
       "      <td>No</td>\n",
       "      <td>BLACK</td>\n",
       "      <td>M</td>\n",
       "      <td>FORT WASHINGTON</td>\n",
       "      <td>MD</td>\n",
       "      <td>MD</td>\n",
       "      <td>A - Marked Patrol</td>\n",
       "      <td>(39.056975, -76.9546333333333)</td>\n",
       "    </tr>\n",
       "    <tr>\n",
       "      <th>2017-08-28 23:41:00</th>\n",
       "      <td>MCP</td>\n",
       "      <td>6th district, Gaithersburg / Montgomery Village</td>\n",
       "      <td>FAILURE OF DR. TO MAKE LANE CHANGE TO AVAIL. L...</td>\n",
       "      <td>355 @ SOUTH WESTLAND DRIVE</td>\n",
       "      <td>NaN</td>\n",
       "      <td>NaN</td>\n",
       "      <td>No</td>\n",
       "      <td>No</td>\n",
       "      <td>No</td>\n",
       "      <td>No</td>\n",
       "      <td>...</td>\n",
       "      <td>21-405(e1)</td>\n",
       "      <td>Transportation Article</td>\n",
       "      <td>No</td>\n",
       "      <td>WHITE</td>\n",
       "      <td>M</td>\n",
       "      <td>GAITHERSBURG</td>\n",
       "      <td>MD</td>\n",
       "      <td>MD</td>\n",
       "      <td>A - Marked Patrol</td>\n",
       "      <td>NaN</td>\n",
       "    </tr>\n",
       "  </tbody>\n",
       "</table>\n",
       "<p>5 rows × 33 columns</p>\n",
       "</div>"
      ],
      "text/plain": [
       "                          Agency  \\\n",
       "Date Of Stop_Time Of Stop          \n",
       "2013-09-24 17:11:00          MCP   \n",
       "2017-08-29 10:19:00          MCP   \n",
       "2014-12-01 12:52:00          MCP   \n",
       "2017-08-29 09:22:00          MCP   \n",
       "2017-08-28 23:41:00          MCP   \n",
       "\n",
       "                                                                 SubAgency  \\\n",
       "Date Of Stop_Time Of Stop                                                    \n",
       "2013-09-24 17:11:00                            3rd district, Silver Spring   \n",
       "2017-08-29 10:19:00                                 2nd district, Bethesda   \n",
       "2014-12-01 12:52:00        6th district, Gaithersburg / Montgomery Village   \n",
       "2017-08-29 09:22:00                            3rd district, Silver Spring   \n",
       "2017-08-28 23:41:00        6th district, Gaithersburg / Montgomery Village   \n",
       "\n",
       "                                                                 Description  \\\n",
       "Date Of Stop_Time Of Stop                                                      \n",
       "2013-09-24 17:11:00        DRIVING VEHICLE ON HIGHWAY WITH SUSPENDED REGI...   \n",
       "2017-08-29 10:19:00        DRIVER FAILURE TO OBEY PROPERLY PLACED TRAFFIC...   \n",
       "2014-12-01 12:52:00                       FAILURE STOP AND YIELD AT THRU HWY   \n",
       "2017-08-29 09:22:00                     FAILURE YIELD RIGHT OF WAY ON U TURN   \n",
       "2017-08-28 23:41:00        FAILURE OF DR. TO MAKE LANE CHANGE TO AVAIL. L...   \n",
       "\n",
       "                                                         Location   Latitude  \\\n",
       "Date Of Stop_Time Of Stop                                                      \n",
       "2013-09-24 17:11:00                               8804 FLOWER AVE        NaN   \n",
       "2017-08-29 10:19:00                         WISCONSIN AVE@ ELM ST  38.981725   \n",
       "2014-12-01 12:52:00        CHRISTOPHER AVE/MONTGOMERY VILLAGE AVE  39.162888   \n",
       "2017-08-29 09:22:00               CHERRY HILL RD./CALVERTON BLVD.  39.056975   \n",
       "2017-08-28 23:41:00                    355 @ SOUTH WESTLAND DRIVE        NaN   \n",
       "\n",
       "                           Longitude Accident Belts Personal Injury  \\\n",
       "Date Of Stop_Time Of Stop                                             \n",
       "2013-09-24 17:11:00              NaN       No    No              No   \n",
       "2017-08-29 10:19:00       -77.092757       No    No              No   \n",
       "2014-12-01 12:52:00       -77.229088       No    No              No   \n",
       "2017-08-29 09:22:00       -76.954633       No    No              No   \n",
       "2017-08-28 23:41:00              NaN       No    No              No   \n",
       "\n",
       "                          Property Damage  \\\n",
       "Date Of Stop_Time Of Stop                   \n",
       "2013-09-24 17:11:00                    No   \n",
       "2017-08-29 10:19:00                    No   \n",
       "2014-12-01 12:52:00                   Yes   \n",
       "2017-08-29 09:22:00                   Yes   \n",
       "2017-08-28 23:41:00                    No   \n",
       "\n",
       "                                           ...                        Charge  \\\n",
       "Date Of Stop_Time Of Stop                  ...                                 \n",
       "2013-09-24 17:11:00                        ...                     13-401(h)   \n",
       "2017-08-29 10:19:00                        ...                    21-201(a1)   \n",
       "2014-12-01 12:52:00                        ...                     21-403(b)   \n",
       "2017-08-29 09:22:00                        ...                     21-402(b)   \n",
       "2017-08-28 23:41:00                        ...                    21-405(e1)   \n",
       "\n",
       "                                          Article Contributed To Accident  \\\n",
       "Date Of Stop_Time Of Stop                                                   \n",
       "2013-09-24 17:11:00        Transportation Article                      No   \n",
       "2017-08-29 10:19:00        Transportation Article                      No   \n",
       "2014-12-01 12:52:00        Transportation Article                      No   \n",
       "2017-08-29 09:22:00        Transportation Article                      No   \n",
       "2017-08-28 23:41:00        Transportation Article                      No   \n",
       "\n",
       "                            Race Gender      Driver City Driver State  \\\n",
       "Date Of Stop_Time Of Stop                                               \n",
       "2013-09-24 17:11:00        BLACK      M      TAKOMA PARK           MD   \n",
       "2017-08-29 10:19:00        WHITE      F  FAIRFAX STATION           VA   \n",
       "2014-12-01 12:52:00        BLACK      F   UPPER MARLBORO           MD   \n",
       "2017-08-29 09:22:00        BLACK      M  FORT WASHINGTON           MD   \n",
       "2017-08-28 23:41:00        WHITE      M     GAITHERSBURG           MD   \n",
       "\n",
       "                          DL State        Arrest Type  \\\n",
       "Date Of Stop_Time Of Stop                               \n",
       "2013-09-24 17:11:00             MD  A - Marked Patrol   \n",
       "2017-08-29 10:19:00             VA  A - Marked Patrol   \n",
       "2014-12-01 12:52:00             MD  A - Marked Patrol   \n",
       "2017-08-29 09:22:00             MD  A - Marked Patrol   \n",
       "2017-08-28 23:41:00             MD  A - Marked Patrol   \n",
       "\n",
       "                                                     Geolocation  \n",
       "Date Of Stop_Time Of Stop                                         \n",
       "2013-09-24 17:11:00                                          NaN  \n",
       "2017-08-29 10:19:00               (38.981725, -77.0927566666667)  \n",
       "2014-12-01 12:52:00        (39.1628883333333, -77.2290883333333)  \n",
       "2017-08-29 09:22:00               (39.056975, -76.9546333333333)  \n",
       "2017-08-28 23:41:00                                          NaN  \n",
       "\n",
       "[5 rows x 33 columns]"
      ]
     },
     "execution_count": 2,
     "metadata": {},
     "output_type": "execute_result"
    }
   ],
   "source": [
    "from ba500package.data import get_county_data\n",
    "\n",
    "data = get_county_data()\n",
    "data.head()"
   ]
  },
  {
   "cell_type": "markdown",
   "metadata": {},
   "source": [
    "#### Explore Data\n",
    "\n",
    "<span style=\"color:darkblue\"> List the available fields"
   ]
  },
  {
   "cell_type": "code",
   "execution_count": 4,
   "metadata": {},
   "outputs": [
    {
     "data": {
      "text/plain": [
       "Index(['Agency', 'SubAgency', 'Description', 'Location', 'Latitude',\n",
       "       'Longitude', 'Accident', 'Belts', 'Personal Injury', 'Property Damage',\n",
       "       'Fatal', 'Commercial License', 'HAZMAT', 'Commercial Vehicle',\n",
       "       'Alcohol', 'Work Zone', 'State', 'VehicleType', 'Year', 'Make', 'Model',\n",
       "       'Color', 'Violation Type', 'Charge', 'Article',\n",
       "       'Contributed To Accident', 'Race', 'Gender', 'Driver City',\n",
       "       'Driver State', 'DL State', 'Arrest Type', 'Geolocation'],\n",
       "      dtype='object')"
      ]
     },
     "execution_count": 4,
     "metadata": {},
     "output_type": "execute_result"
    }
   ],
   "source": [
    "data.columns"
   ]
  },
  {
   "cell_type": "markdown",
   "metadata": {},
   "source": [
    "#### Clean Data\n",
    "<span style=\"color:darkblue\">Get info of datatype and count of each column to determine what kind of data and how consistently populated the data is"
   ]
  },
  {
   "cell_type": "code",
   "execution_count": 4,
   "metadata": {},
   "outputs": [
    {
     "name": "stdout",
     "output_type": "stream",
     "text": [
      "<class 'pandas.core.frame.DataFrame'>\n",
      "DatetimeIndex: 1415595 entries, 2013-09-24 17:11:00 to 2018-11-21 01:50:00\n",
      "Data columns (total 33 columns):\n",
      "Agency                     1415595 non-null object\n",
      "SubAgency                  1415585 non-null object\n",
      "Description                1415586 non-null object\n",
      "Location                   1415593 non-null object\n",
      "Latitude                   1312531 non-null float64\n",
      "Longitude                  1312531 non-null float64\n",
      "Accident                   1415595 non-null object\n",
      "Belts                      1415595 non-null object\n",
      "Personal Injury            1415595 non-null object\n",
      "Property Damage            1415595 non-null object\n",
      "Fatal                      1415595 non-null object\n",
      "Commercial License         1415595 non-null object\n",
      "HAZMAT                     1415595 non-null object\n",
      "Commercial Vehicle         1415595 non-null object\n",
      "Alcohol                    1415595 non-null object\n",
      "Work Zone                  1415595 non-null object\n",
      "State                      1415536 non-null object\n",
      "VehicleType                1415595 non-null object\n",
      "Year                       1406971 non-null float64\n",
      "Make                       1415536 non-null object\n",
      "Model                      1415399 non-null object\n",
      "Color                      1398569 non-null object\n",
      "Violation Type             1415595 non-null object\n",
      "Charge                     1415595 non-null object\n",
      "Article                    1345081 non-null object\n",
      "Contributed To Accident    1415595 non-null object\n",
      "Race                       1415595 non-null object\n",
      "Gender                     1415595 non-null object\n",
      "Driver City                1415308 non-null object\n",
      "Driver State               1415584 non-null object\n",
      "DL State                   1414666 non-null object\n",
      "Arrest Type                1415595 non-null object\n",
      "Geolocation                1312531 non-null object\n",
      "dtypes: float64(3), object(30)\n",
      "memory usage: 367.2+ MB\n"
     ]
    }
   ],
   "source": [
    "data.info()"
   ]
  },
  {
   "cell_type": "markdown",
   "metadata": {},
   "source": [
    "<span style=\"color:darkblue\">Though the above *info* command tells you the missing rows, the **isnull()** function detrmines if there is any null data for each of the columns"
   ]
  },
  {
   "cell_type": "code",
   "execution_count": 5,
   "metadata": {},
   "outputs": [
    {
     "data": {
      "text/plain": [
       "Agency                     False\n",
       "SubAgency                   True\n",
       "Description                 True\n",
       "Location                    True\n",
       "Latitude                    True\n",
       "Longitude                   True\n",
       "Accident                   False\n",
       "Belts                      False\n",
       "Personal Injury            False\n",
       "Property Damage            False\n",
       "Fatal                      False\n",
       "Commercial License         False\n",
       "HAZMAT                     False\n",
       "Commercial Vehicle         False\n",
       "Alcohol                    False\n",
       "Work Zone                  False\n",
       "State                       True\n",
       "VehicleType                False\n",
       "Year                        True\n",
       "Make                        True\n",
       "Model                       True\n",
       "Color                       True\n",
       "Violation Type             False\n",
       "Charge                     False\n",
       "Article                     True\n",
       "Contributed To Accident    False\n",
       "Race                       False\n",
       "Gender                     False\n",
       "Driver City                 True\n",
       "Driver State                True\n",
       "DL State                    True\n",
       "Arrest Type                False\n",
       "Geolocation                 True\n",
       "dtype: bool"
      ]
     },
     "execution_count": 5,
     "metadata": {},
     "output_type": "execute_result"
    }
   ],
   "source": [
    "pd.isnull(data).any()"
   ]
  },
  {
   "cell_type": "code",
   "execution_count": 7,
   "metadata": {},
   "outputs": [
    {
     "data": {
      "text/html": [
       "<div>\n",
       "<style scoped>\n",
       "    .dataframe tbody tr th:only-of-type {\n",
       "        vertical-align: middle;\n",
       "    }\n",
       "\n",
       "    .dataframe tbody tr th {\n",
       "        vertical-align: top;\n",
       "    }\n",
       "\n",
       "    .dataframe thead th {\n",
       "        text-align: right;\n",
       "    }\n",
       "</style>\n",
       "<table border=\"1\" class=\"dataframe\">\n",
       "  <thead>\n",
       "    <tr style=\"text-align: right;\">\n",
       "      <th></th>\n",
       "      <th>Agency</th>\n",
       "      <th>SubAgency</th>\n",
       "      <th>Description</th>\n",
       "      <th>Location</th>\n",
       "      <th>Latitude</th>\n",
       "      <th>Longitude</th>\n",
       "      <th>Accident</th>\n",
       "      <th>Belts</th>\n",
       "      <th>Personal Injury</th>\n",
       "      <th>Geolocation</th>\n",
       "    </tr>\n",
       "    <tr>\n",
       "      <th>Date Of Stop_Time Of Stop</th>\n",
       "      <th></th>\n",
       "      <th></th>\n",
       "      <th></th>\n",
       "      <th></th>\n",
       "      <th></th>\n",
       "      <th></th>\n",
       "      <th></th>\n",
       "      <th></th>\n",
       "      <th></th>\n",
       "      <th></th>\n",
       "    </tr>\n",
       "  </thead>\n",
       "  <tbody>\n",
       "    <tr>\n",
       "      <th>2013-09-24 17:11:00</th>\n",
       "      <td>MCP</td>\n",
       "      <td>3rd district, Silver Spring</td>\n",
       "      <td>DRIVING VEHICLE ON HIGHWAY WITH SUSPENDED REGI...</td>\n",
       "      <td>8804 FLOWER AVE</td>\n",
       "      <td>NaN</td>\n",
       "      <td>NaN</td>\n",
       "      <td>No</td>\n",
       "      <td>No</td>\n",
       "      <td>No</td>\n",
       "      <td>NaN</td>\n",
       "    </tr>\n",
       "    <tr>\n",
       "      <th>2017-08-29 10:19:00</th>\n",
       "      <td>MCP</td>\n",
       "      <td>2nd district, Bethesda</td>\n",
       "      <td>DRIVER FAILURE TO OBEY PROPERLY PLACED TRAFFIC...</td>\n",
       "      <td>WISCONSIN AVE@ ELM ST</td>\n",
       "      <td>38.981725</td>\n",
       "      <td>-77.092757</td>\n",
       "      <td>No</td>\n",
       "      <td>No</td>\n",
       "      <td>No</td>\n",
       "      <td>(38.981725, -77.0927566666667)</td>\n",
       "    </tr>\n",
       "    <tr>\n",
       "      <th>2014-12-01 12:52:00</th>\n",
       "      <td>MCP</td>\n",
       "      <td>6th district, Gaithersburg / Montgomery Village</td>\n",
       "      <td>FAILURE STOP AND YIELD AT THRU HWY</td>\n",
       "      <td>CHRISTOPHER AVE/MONTGOMERY VILLAGE AVE</td>\n",
       "      <td>39.162888</td>\n",
       "      <td>-77.229088</td>\n",
       "      <td>No</td>\n",
       "      <td>No</td>\n",
       "      <td>No</td>\n",
       "      <td>(39.1628883333333, -77.2290883333333)</td>\n",
       "    </tr>\n",
       "    <tr>\n",
       "      <th>2017-08-29 09:22:00</th>\n",
       "      <td>MCP</td>\n",
       "      <td>3rd district, Silver Spring</td>\n",
       "      <td>FAILURE YIELD RIGHT OF WAY ON U TURN</td>\n",
       "      <td>CHERRY HILL RD./CALVERTON BLVD.</td>\n",
       "      <td>39.056975</td>\n",
       "      <td>-76.954633</td>\n",
       "      <td>No</td>\n",
       "      <td>No</td>\n",
       "      <td>No</td>\n",
       "      <td>(39.056975, -76.9546333333333)</td>\n",
       "    </tr>\n",
       "    <tr>\n",
       "      <th>2017-08-28 23:41:00</th>\n",
       "      <td>MCP</td>\n",
       "      <td>6th district, Gaithersburg / Montgomery Village</td>\n",
       "      <td>FAILURE OF DR. TO MAKE LANE CHANGE TO AVAIL. L...</td>\n",
       "      <td>355 @ SOUTH WESTLAND DRIVE</td>\n",
       "      <td>NaN</td>\n",
       "      <td>NaN</td>\n",
       "      <td>No</td>\n",
       "      <td>No</td>\n",
       "      <td>No</td>\n",
       "      <td>NaN</td>\n",
       "    </tr>\n",
       "  </tbody>\n",
       "</table>\n",
       "</div>"
      ],
      "text/plain": [
       "                          Agency  \\\n",
       "Date Of Stop_Time Of Stop          \n",
       "2013-09-24 17:11:00          MCP   \n",
       "2017-08-29 10:19:00          MCP   \n",
       "2014-12-01 12:52:00          MCP   \n",
       "2017-08-29 09:22:00          MCP   \n",
       "2017-08-28 23:41:00          MCP   \n",
       "\n",
       "                                                                 SubAgency  \\\n",
       "Date Of Stop_Time Of Stop                                                    \n",
       "2013-09-24 17:11:00                            3rd district, Silver Spring   \n",
       "2017-08-29 10:19:00                                 2nd district, Bethesda   \n",
       "2014-12-01 12:52:00        6th district, Gaithersburg / Montgomery Village   \n",
       "2017-08-29 09:22:00                            3rd district, Silver Spring   \n",
       "2017-08-28 23:41:00        6th district, Gaithersburg / Montgomery Village   \n",
       "\n",
       "                                                                 Description  \\\n",
       "Date Of Stop_Time Of Stop                                                      \n",
       "2013-09-24 17:11:00        DRIVING VEHICLE ON HIGHWAY WITH SUSPENDED REGI...   \n",
       "2017-08-29 10:19:00        DRIVER FAILURE TO OBEY PROPERLY PLACED TRAFFIC...   \n",
       "2014-12-01 12:52:00                       FAILURE STOP AND YIELD AT THRU HWY   \n",
       "2017-08-29 09:22:00                     FAILURE YIELD RIGHT OF WAY ON U TURN   \n",
       "2017-08-28 23:41:00        FAILURE OF DR. TO MAKE LANE CHANGE TO AVAIL. L...   \n",
       "\n",
       "                                                         Location   Latitude  \\\n",
       "Date Of Stop_Time Of Stop                                                      \n",
       "2013-09-24 17:11:00                               8804 FLOWER AVE        NaN   \n",
       "2017-08-29 10:19:00                         WISCONSIN AVE@ ELM ST  38.981725   \n",
       "2014-12-01 12:52:00        CHRISTOPHER AVE/MONTGOMERY VILLAGE AVE  39.162888   \n",
       "2017-08-29 09:22:00               CHERRY HILL RD./CALVERTON BLVD.  39.056975   \n",
       "2017-08-28 23:41:00                    355 @ SOUTH WESTLAND DRIVE        NaN   \n",
       "\n",
       "                           Longitude Accident Belts Personal Injury  \\\n",
       "Date Of Stop_Time Of Stop                                             \n",
       "2013-09-24 17:11:00              NaN       No    No              No   \n",
       "2017-08-29 10:19:00       -77.092757       No    No              No   \n",
       "2014-12-01 12:52:00       -77.229088       No    No              No   \n",
       "2017-08-29 09:22:00       -76.954633       No    No              No   \n",
       "2017-08-28 23:41:00              NaN       No    No              No   \n",
       "\n",
       "                                                     Geolocation  \n",
       "Date Of Stop_Time Of Stop                                         \n",
       "2013-09-24 17:11:00                                          NaN  \n",
       "2017-08-29 10:19:00               (38.981725, -77.0927566666667)  \n",
       "2014-12-01 12:52:00        (39.1628883333333, -77.2290883333333)  \n",
       "2017-08-29 09:22:00               (39.056975, -76.9546333333333)  \n",
       "2017-08-28 23:41:00                                          NaN  "
      ]
     },
     "execution_count": 7,
     "metadata": {},
     "output_type": "execute_result"
    }
   ],
   "source": [
    "data.iloc[:, list(range(9)) + [-1]].head()"
   ]
  },
  {
   "cell_type": "markdown",
   "metadata": {},
   "source": [
    "<span style=\"color:darkblue\">Drop rows with missing values. We can see that most columns have similar numbers of values besides Latitude, Longitude and Geolocation.We need to make a dtermination if we fill in the blanks with dummy values or drop those rows altogether. We should be careful that we rae not dropping importnt data points that might be needed for our analysis later on. But to keep things simple and due to the fact that we have almost 1.5 million rows, it will be best to have the exact same number of values for each field. We'll go ahead and make sure that every single cell has a value by doing a bulk dropna() function call."
   ]
  },
  {
   "cell_type": "code",
   "execution_count": 84,
   "metadata": {},
   "outputs": [],
   "source": [
    "data_clean= data.dropna()"
   ]
  },
  {
   "cell_type": "markdown",
   "metadata": {},
   "source": [
    "<span style=\"color:darkblue\"> Using **iloc** function look for the fields/columns not showing up through  head()"
   ]
  },
  {
   "cell_type": "code",
   "execution_count": 8,
   "metadata": {},
   "outputs": [
    {
     "data": {
      "text/html": [
       "<div>\n",
       "<style scoped>\n",
       "    .dataframe tbody tr th:only-of-type {\n",
       "        vertical-align: middle;\n",
       "    }\n",
       "\n",
       "    .dataframe tbody tr th {\n",
       "        vertical-align: top;\n",
       "    }\n",
       "\n",
       "    .dataframe thead th {\n",
       "        text-align: right;\n",
       "    }\n",
       "</style>\n",
       "<table border=\"1\" class=\"dataframe\">\n",
       "  <thead>\n",
       "    <tr style=\"text-align: right;\">\n",
       "      <th></th>\n",
       "      <th>Fatal</th>\n",
       "      <th>Commercial License</th>\n",
       "      <th>HAZMAT</th>\n",
       "      <th>Commercial Vehicle</th>\n",
       "      <th>Alcohol</th>\n",
       "      <th>Work Zone</th>\n",
       "      <th>State</th>\n",
       "      <th>VehicleType</th>\n",
       "      <th>Year</th>\n",
       "      <th>Make</th>\n",
       "      <th>Model</th>\n",
       "      <th>Color</th>\n",
       "      <th>Violation Type</th>\n",
       "    </tr>\n",
       "    <tr>\n",
       "      <th>Date Of Stop_Time Of Stop</th>\n",
       "      <th></th>\n",
       "      <th></th>\n",
       "      <th></th>\n",
       "      <th></th>\n",
       "      <th></th>\n",
       "      <th></th>\n",
       "      <th></th>\n",
       "      <th></th>\n",
       "      <th></th>\n",
       "      <th></th>\n",
       "      <th></th>\n",
       "      <th></th>\n",
       "      <th></th>\n",
       "    </tr>\n",
       "  </thead>\n",
       "  <tbody>\n",
       "    <tr>\n",
       "      <th>2013-09-24 17:11:00</th>\n",
       "      <td>No</td>\n",
       "      <td>No</td>\n",
       "      <td>No</td>\n",
       "      <td>No</td>\n",
       "      <td>No</td>\n",
       "      <td>No</td>\n",
       "      <td>MD</td>\n",
       "      <td>02 - Automobile</td>\n",
       "      <td>2008.0</td>\n",
       "      <td>FORD</td>\n",
       "      <td>4S</td>\n",
       "      <td>BLACK</td>\n",
       "      <td>Citation</td>\n",
       "    </tr>\n",
       "    <tr>\n",
       "      <th>2017-08-29 10:19:00</th>\n",
       "      <td>No</td>\n",
       "      <td>No</td>\n",
       "      <td>No</td>\n",
       "      <td>No</td>\n",
       "      <td>No</td>\n",
       "      <td>No</td>\n",
       "      <td>VA</td>\n",
       "      <td>02 - Automobile</td>\n",
       "      <td>2001.0</td>\n",
       "      <td>TOYOTA</td>\n",
       "      <td>COROLLA</td>\n",
       "      <td>GREEN</td>\n",
       "      <td>Citation</td>\n",
       "    </tr>\n",
       "    <tr>\n",
       "      <th>2014-12-01 12:52:00</th>\n",
       "      <td>No</td>\n",
       "      <td>No</td>\n",
       "      <td>No</td>\n",
       "      <td>No</td>\n",
       "      <td>No</td>\n",
       "      <td>No</td>\n",
       "      <td>MD</td>\n",
       "      <td>02 - Automobile</td>\n",
       "      <td>2001.0</td>\n",
       "      <td>HONDA</td>\n",
       "      <td>ACCORD</td>\n",
       "      <td>SILVER</td>\n",
       "      <td>Citation</td>\n",
       "    </tr>\n",
       "    <tr>\n",
       "      <th>2017-08-29 09:22:00</th>\n",
       "      <td>No</td>\n",
       "      <td>No</td>\n",
       "      <td>No</td>\n",
       "      <td>No</td>\n",
       "      <td>No</td>\n",
       "      <td>No</td>\n",
       "      <td>MD</td>\n",
       "      <td>02 - Automobile</td>\n",
       "      <td>1998.0</td>\n",
       "      <td>DODG</td>\n",
       "      <td>DAKOTA</td>\n",
       "      <td>WHITE</td>\n",
       "      <td>Citation</td>\n",
       "    </tr>\n",
       "    <tr>\n",
       "      <th>2017-08-28 23:41:00</th>\n",
       "      <td>No</td>\n",
       "      <td>No</td>\n",
       "      <td>No</td>\n",
       "      <td>No</td>\n",
       "      <td>No</td>\n",
       "      <td>No</td>\n",
       "      <td>MD</td>\n",
       "      <td>02 - Automobile</td>\n",
       "      <td>2015.0</td>\n",
       "      <td>MINI COOPER</td>\n",
       "      <td>2S</td>\n",
       "      <td>WHITE</td>\n",
       "      <td>Citation</td>\n",
       "    </tr>\n",
       "  </tbody>\n",
       "</table>\n",
       "</div>"
      ],
      "text/plain": [
       "                          Fatal Commercial License HAZMAT Commercial Vehicle  \\\n",
       "Date Of Stop_Time Of Stop                                                      \n",
       "2013-09-24 17:11:00          No                 No     No                 No   \n",
       "2017-08-29 10:19:00          No                 No     No                 No   \n",
       "2014-12-01 12:52:00          No                 No     No                 No   \n",
       "2017-08-29 09:22:00          No                 No     No                 No   \n",
       "2017-08-28 23:41:00          No                 No     No                 No   \n",
       "\n",
       "                          Alcohol Work Zone State      VehicleType    Year  \\\n",
       "Date Of Stop_Time Of Stop                                                    \n",
       "2013-09-24 17:11:00            No        No    MD  02 - Automobile  2008.0   \n",
       "2017-08-29 10:19:00            No        No    VA  02 - Automobile  2001.0   \n",
       "2014-12-01 12:52:00            No        No    MD  02 - Automobile  2001.0   \n",
       "2017-08-29 09:22:00            No        No    MD  02 - Automobile  1998.0   \n",
       "2017-08-28 23:41:00            No        No    MD  02 - Automobile  2015.0   \n",
       "\n",
       "                                  Make    Model   Color Violation Type  \n",
       "Date Of Stop_Time Of Stop                                               \n",
       "2013-09-24 17:11:00               FORD       4S   BLACK       Citation  \n",
       "2017-08-29 10:19:00             TOYOTA  COROLLA   GREEN       Citation  \n",
       "2014-12-01 12:52:00              HONDA   ACCORD  SILVER       Citation  \n",
       "2017-08-29 09:22:00               DODG   DAKOTA   WHITE       Citation  \n",
       "2017-08-28 23:41:00        MINI COOPER       2S   WHITE       Citation  "
      ]
     },
     "execution_count": 8,
     "metadata": {},
     "output_type": "execute_result"
    }
   ],
   "source": [
    "data.iloc[:,10:23].head()"
   ]
  },
  {
   "cell_type": "code",
   "execution_count": 9,
   "metadata": {},
   "outputs": [
    {
     "data": {
      "text/html": [
       "<div>\n",
       "<style scoped>\n",
       "    .dataframe tbody tr th:only-of-type {\n",
       "        vertical-align: middle;\n",
       "    }\n",
       "\n",
       "    .dataframe tbody tr th {\n",
       "        vertical-align: top;\n",
       "    }\n",
       "\n",
       "    .dataframe thead th {\n",
       "        text-align: right;\n",
       "    }\n",
       "</style>\n",
       "<table border=\"1\" class=\"dataframe\">\n",
       "  <thead>\n",
       "    <tr style=\"text-align: right;\">\n",
       "      <th></th>\n",
       "      <th>Article</th>\n",
       "      <th>Contributed To Accident</th>\n",
       "      <th>Race</th>\n",
       "      <th>Gender</th>\n",
       "      <th>Driver City</th>\n",
       "      <th>Driver State</th>\n",
       "      <th>DL State</th>\n",
       "      <th>Arrest Type</th>\n",
       "      <th>Geolocation</th>\n",
       "    </tr>\n",
       "    <tr>\n",
       "      <th>Date Of Stop_Time Of Stop</th>\n",
       "      <th></th>\n",
       "      <th></th>\n",
       "      <th></th>\n",
       "      <th></th>\n",
       "      <th></th>\n",
       "      <th></th>\n",
       "      <th></th>\n",
       "      <th></th>\n",
       "      <th></th>\n",
       "    </tr>\n",
       "  </thead>\n",
       "  <tbody>\n",
       "    <tr>\n",
       "      <th>2013-09-24 17:11:00</th>\n",
       "      <td>Transportation Article</td>\n",
       "      <td>No</td>\n",
       "      <td>BLACK</td>\n",
       "      <td>M</td>\n",
       "      <td>TAKOMA PARK</td>\n",
       "      <td>MD</td>\n",
       "      <td>MD</td>\n",
       "      <td>A - Marked Patrol</td>\n",
       "      <td>NaN</td>\n",
       "    </tr>\n",
       "    <tr>\n",
       "      <th>2017-08-29 10:19:00</th>\n",
       "      <td>Transportation Article</td>\n",
       "      <td>No</td>\n",
       "      <td>WHITE</td>\n",
       "      <td>F</td>\n",
       "      <td>FAIRFAX STATION</td>\n",
       "      <td>VA</td>\n",
       "      <td>VA</td>\n",
       "      <td>A - Marked Patrol</td>\n",
       "      <td>(38.981725, -77.0927566666667)</td>\n",
       "    </tr>\n",
       "    <tr>\n",
       "      <th>2014-12-01 12:52:00</th>\n",
       "      <td>Transportation Article</td>\n",
       "      <td>No</td>\n",
       "      <td>BLACK</td>\n",
       "      <td>F</td>\n",
       "      <td>UPPER MARLBORO</td>\n",
       "      <td>MD</td>\n",
       "      <td>MD</td>\n",
       "      <td>A - Marked Patrol</td>\n",
       "      <td>(39.1628883333333, -77.2290883333333)</td>\n",
       "    </tr>\n",
       "    <tr>\n",
       "      <th>2017-08-29 09:22:00</th>\n",
       "      <td>Transportation Article</td>\n",
       "      <td>No</td>\n",
       "      <td>BLACK</td>\n",
       "      <td>M</td>\n",
       "      <td>FORT WASHINGTON</td>\n",
       "      <td>MD</td>\n",
       "      <td>MD</td>\n",
       "      <td>A - Marked Patrol</td>\n",
       "      <td>(39.056975, -76.9546333333333)</td>\n",
       "    </tr>\n",
       "    <tr>\n",
       "      <th>2017-08-28 23:41:00</th>\n",
       "      <td>Transportation Article</td>\n",
       "      <td>No</td>\n",
       "      <td>WHITE</td>\n",
       "      <td>M</td>\n",
       "      <td>GAITHERSBURG</td>\n",
       "      <td>MD</td>\n",
       "      <td>MD</td>\n",
       "      <td>A - Marked Patrol</td>\n",
       "      <td>NaN</td>\n",
       "    </tr>\n",
       "  </tbody>\n",
       "</table>\n",
       "</div>"
      ],
      "text/plain": [
       "                                          Article Contributed To Accident  \\\n",
       "Date Of Stop_Time Of Stop                                                   \n",
       "2013-09-24 17:11:00        Transportation Article                      No   \n",
       "2017-08-29 10:19:00        Transportation Article                      No   \n",
       "2014-12-01 12:52:00        Transportation Article                      No   \n",
       "2017-08-29 09:22:00        Transportation Article                      No   \n",
       "2017-08-28 23:41:00        Transportation Article                      No   \n",
       "\n",
       "                            Race Gender      Driver City Driver State  \\\n",
       "Date Of Stop_Time Of Stop                                               \n",
       "2013-09-24 17:11:00        BLACK      M      TAKOMA PARK           MD   \n",
       "2017-08-29 10:19:00        WHITE      F  FAIRFAX STATION           VA   \n",
       "2014-12-01 12:52:00        BLACK      F   UPPER MARLBORO           MD   \n",
       "2017-08-29 09:22:00        BLACK      M  FORT WASHINGTON           MD   \n",
       "2017-08-28 23:41:00        WHITE      M     GAITHERSBURG           MD   \n",
       "\n",
       "                          DL State        Arrest Type  \\\n",
       "Date Of Stop_Time Of Stop                               \n",
       "2013-09-24 17:11:00             MD  A - Marked Patrol   \n",
       "2017-08-29 10:19:00             VA  A - Marked Patrol   \n",
       "2014-12-01 12:52:00             MD  A - Marked Patrol   \n",
       "2017-08-29 09:22:00             MD  A - Marked Patrol   \n",
       "2017-08-28 23:41:00             MD  A - Marked Patrol   \n",
       "\n",
       "                                                     Geolocation  \n",
       "Date Of Stop_Time Of Stop                                         \n",
       "2013-09-24 17:11:00                                          NaN  \n",
       "2017-08-29 10:19:00               (38.981725, -77.0927566666667)  \n",
       "2014-12-01 12:52:00        (39.1628883333333, -77.2290883333333)  \n",
       "2017-08-29 09:22:00               (39.056975, -76.9546333333333)  \n",
       "2017-08-28 23:41:00                                          NaN  "
      ]
     },
     "execution_count": 9,
     "metadata": {},
     "output_type": "execute_result"
    }
   ],
   "source": [
    "data.iloc[:,24:33].head()"
   ]
  },
  {
   "cell_type": "markdown",
   "metadata": {},
   "source": [
    "<span style=\"color:darkblue\">Rerun the info and isnull functions on the clean dataset to see that there are no nulls"
   ]
  },
  {
   "cell_type": "code",
   "execution_count": 85,
   "metadata": {},
   "outputs": [
    {
     "name": "stdout",
     "output_type": "stream",
     "text": [
      "<class 'pandas.core.frame.DataFrame'>\n",
      "DatetimeIndex: 1231574 entries, 2017-08-29 10:19:00 to 2018-11-25 02:01:00\n",
      "Data columns (total 33 columns):\n",
      "Agency                     1231574 non-null object\n",
      "SubAgency                  1231574 non-null object\n",
      "Description                1231574 non-null object\n",
      "Location                   1231574 non-null object\n",
      "Latitude                   1231574 non-null float64\n",
      "Longitude                  1231574 non-null float64\n",
      "Accident                   1231574 non-null object\n",
      "Belts                      1231574 non-null object\n",
      "Personal Injury            1231574 non-null object\n",
      "Property Damage            1231574 non-null object\n",
      "Fatal                      1231574 non-null object\n",
      "Commercial License         1231574 non-null object\n",
      "HAZMAT                     1231574 non-null object\n",
      "Commercial Vehicle         1231574 non-null object\n",
      "Alcohol                    1231574 non-null object\n",
      "Work Zone                  1231574 non-null object\n",
      "State                      1231574 non-null object\n",
      "VehicleType                1231574 non-null object\n",
      "Year                       1231574 non-null float64\n",
      "Make                       1231574 non-null object\n",
      "Model                      1231574 non-null object\n",
      "Color                      1231574 non-null object\n",
      "Violation Type             1231574 non-null object\n",
      "Charge                     1231574 non-null object\n",
      "Article                    1231574 non-null object\n",
      "Contributed To Accident    1231574 non-null object\n",
      "Race                       1231574 non-null object\n",
      "Gender                     1231574 non-null object\n",
      "Driver City                1231574 non-null object\n",
      "Driver State               1231574 non-null object\n",
      "DL State                   1231574 non-null object\n",
      "Arrest Type                1231574 non-null object\n",
      "Geolocation                1231574 non-null object\n",
      "dtypes: float64(3), object(30)\n",
      "memory usage: 319.5+ MB\n"
     ]
    }
   ],
   "source": [
    "data_clean.info()"
   ]
  },
  {
   "cell_type": "code",
   "execution_count": 90,
   "metadata": {},
   "outputs": [
    {
     "data": {
      "text/html": [
       "<div>\n",
       "<style scoped>\n",
       "    .dataframe tbody tr th:only-of-type {\n",
       "        vertical-align: middle;\n",
       "    }\n",
       "\n",
       "    .dataframe tbody tr th {\n",
       "        vertical-align: top;\n",
       "    }\n",
       "\n",
       "    .dataframe thead th {\n",
       "        text-align: right;\n",
       "    }\n",
       "</style>\n",
       "<table border=\"1\" class=\"dataframe\">\n",
       "  <thead>\n",
       "    <tr style=\"text-align: right;\">\n",
       "      <th></th>\n",
       "      <th>DateOfStop</th>\n",
       "      <th>TimeOfStop</th>\n",
       "    </tr>\n",
       "    <tr>\n",
       "      <th>Date</th>\n",
       "      <th></th>\n",
       "      <th></th>\n",
       "    </tr>\n",
       "  </thead>\n",
       "  <tbody>\n",
       "    <tr>\n",
       "      <th>2013-09-24</th>\n",
       "      <td>2013-09-24</td>\n",
       "      <td>17:11:00</td>\n",
       "    </tr>\n",
       "    <tr>\n",
       "      <th>2017-08-29</th>\n",
       "      <td>2017-08-29</td>\n",
       "      <td>10:19:00</td>\n",
       "    </tr>\n",
       "    <tr>\n",
       "      <th>2014-12-01</th>\n",
       "      <td>2014-12-01</td>\n",
       "      <td>12:52:00</td>\n",
       "    </tr>\n",
       "    <tr>\n",
       "      <th>2017-08-29</th>\n",
       "      <td>2017-08-29</td>\n",
       "      <td>09:22:00</td>\n",
       "    </tr>\n",
       "    <tr>\n",
       "      <th>2017-08-28</th>\n",
       "      <td>2017-08-28</td>\n",
       "      <td>23:41:00</td>\n",
       "    </tr>\n",
       "  </tbody>\n",
       "</table>\n",
       "</div>"
      ],
      "text/plain": [
       "            DateOfStop TimeOfStop\n",
       "Date                             \n",
       "2013-09-24  2013-09-24   17:11:00\n",
       "2017-08-29  2017-08-29   10:19:00\n",
       "2014-12-01  2014-12-01   12:52:00\n",
       "2017-08-29  2017-08-29   09:22:00\n",
       "2017-08-28  2017-08-28   23:41:00"
      ]
     },
     "execution_count": 90,
     "metadata": {},
     "output_type": "execute_result"
    }
   ],
   "source": [
    "df = pd.DataFrame({'DateOfStop' : [],'TimeOfStop':[]})\n",
    "df['DateOfStop'] = [d.date() for d in data.index]\n",
    "df['TimeOfStop'] = [d.time() for d in data.index]\n",
    "df.set_index(pd.to_datetime(df['DateOfStop']),drop=False,inplace=True)\n",
    "df.index.name = 'Date'\n",
    "df.head()"
   ]
  },
  {
   "cell_type": "code",
   "execution_count": 91,
   "metadata": {},
   "outputs": [
    {
     "data": {
      "text/plain": [
       "2015-03-17    1281\n",
       "2018-04-10    1277\n",
       "2014-05-20    1222\n",
       "2018-04-18    1184\n",
       "2015-11-24    1169\n",
       "Name: DateOfStop, dtype: int64"
      ]
     },
     "execution_count": 91,
     "metadata": {},
     "output_type": "execute_result"
    }
   ],
   "source": [
    "df['DateOfStop'].value_counts().head()"
   ]
  },
  {
   "cell_type": "code",
   "execution_count": 92,
   "metadata": {},
   "outputs": [
    {
     "data": {
      "text/plain": [
       "<matplotlib.axes._subplots.AxesSubplot at 0x22b5cac3ba8>"
      ]
     },
     "execution_count": 92,
     "metadata": {},
     "output_type": "execute_result"
    },
    {
     "data": {
      "image/png": "[encoded data removed]",
      "text/plain": [
       "<Figure size 576x396 with 1 Axes>"
      ]
     },
     "metadata": {},
     "output_type": "display_data"
    }
   ],
   "source": [
    "plt.style.use('seaborn')\n",
    "df1 = df.groupby(['Date']).size()\n",
    "df1.resample('M').max().plot()"
   ]
  },
  {
   "cell_type": "markdown",
   "metadata": {},
   "source": [
    "<span style=\"color:darkblue\">This shows that March 17, 2017 was the date that the most stops occured. We hypothesized that maybe Thanksgiving or Christmas Eve would be the day with the most violations due to drinking from holliday parties and increase in traveling. This result does still meet our hypothesis in a way since this was the date of St.Patrick's Day in 2017."
   ]
  },
  {
   "cell_type": "code",
   "execution_count": 93,
   "metadata": {},
   "outputs": [
    {
     "data": {
      "text/plain": [
       "23:30:00    2126\n",
       "22:53:00    2115\n",
       "23:00:00    2106\n",
       "23:20:00    2091\n",
       "22:57:00    2086\n",
       "Name: TimeOfStop, dtype: int64"
      ]
     },
     "execution_count": 93,
     "metadata": {},
     "output_type": "execute_result"
    }
   ],
   "source": [
    "df['TimeOfStop'].value_counts().head()"
   ]
  },
  {
   "cell_type": "code",
   "execution_count": 94,
   "metadata": {},
   "outputs": [
    {
     "data": {
      "text/plain": [
       "[<matplotlib.lines.Line2D at 0x22b941c8c18>]"
      ]
     },
     "execution_count": 94,
     "metadata": {},
     "output_type": "execute_result"
    },
    {
     "data": {
      "image/png": "[encoded data removed]",
      "text/plain": [
       "<Figure size 576x396 with 1 Axes>"
      ]
     },
     "metadata": {},
     "output_type": "display_data"
    }
   ],
   "source": [
    "df.index.drop\n",
    "df.set_index(pd.to_datetime(df['TimeOfStop'],format='%H:%M:%S').dt.time,drop=False,inplace=True)\n",
    "df.index.name = 'Time'\n",
    "df['GroupbyTime'] = df['TimeOfStop'].value_counts()\n",
    "df.head()\n",
    "plt.style.use('seaborn')\n",
    "plt.plot_date(df['TimeOfStop'],df['GroupbyTime'])"
   ]
  },
  {
   "cell_type": "markdown",
   "metadata": {},
   "source": [
    "<span style=\"color:darkblue\">Our hypothesis that most violations might occur between the hours of 7 AM - 9 AM during people's morning work commutes, is not sup[ported by the data"
   ]
  },
  {
   "cell_type": "code",
   "execution_count": 10,
   "metadata": {},
   "outputs": [
    {
     "data": {
      "text/plain": [
       "4th district, Wheaton                              352549\n",
       "3rd district, Silver Spring                        281776\n",
       "2nd district, Bethesda                             221730\n",
       "6th district, Gaithersburg / Montgomery Village    183288\n",
       "1st district, Rockville                            169176\n",
       "5th district, Germantown                           162179\n",
       "Headquarters and Special Operations                 46888\n",
       "Name: SubAgency, dtype: int64"
      ]
     },
     "execution_count": 10,
     "metadata": {},
     "output_type": "execute_result"
    }
   ],
   "source": [
    "data['SubAgency'].value_counts()"
   ]
  },
  {
   "cell_type": "markdown",
   "metadata": {},
   "source": [
    "<span style=\"color:darkblue\">The **4th district, Wheaton** sub-agency was responsible for the  most stops in the Montgomery County during those years in study."
   ]
  },
  {
   "cell_type": "markdown",
   "metadata": {},
   "source": [
    "<span style=\"color:darkblue\">Use cartopy or ipyleaflet packages to draw the maps of the location. If these fail, use tableau to show the county map"
   ]
  },
  {
   "cell_type": "code",
   "execution_count": null,
   "metadata": {},
   "outputs": [],
   "source": []
  },
  {
   "cell_type": "markdown",
   "metadata": {},
   "source": [
    "<span style=\"color:darkblue\"> Lists the traffic violation outcomes, if citation or warning.\n",
    "The decision to give a warning or a citation is subjective and often at the discretion of the police officer - this couldlead us to analyze bias, but I'm not sure if we have all the data captured for doing this (we do have the gender and race breakdown)"
   ]
  },
  {
   "cell_type": "code",
   "execution_count": 24,
   "metadata": {},
   "outputs": [
    {
     "data": {
      "text/plain": [
       "Warning     692599\n",
       "Citation    652533\n",
       "ESERO        69564\n",
       "SERO           899\n",
       "Name: Violation Type, dtype: int64"
      ]
     },
     "execution_count": 24,
     "metadata": {},
     "output_type": "execute_result"
    }
   ],
   "source": [
    "data['Violation Type'].value_counts()"
   ]
  },
  {
   "cell_type": "code",
   "execution_count": 100,
   "metadata": {},
   "outputs": [
    {
     "data": {
      "text/plain": [
       "<matplotlib.axes._subplots.AxesSubplot at 0x22b8367e748>"
      ]
     },
     "execution_count": 100,
     "metadata": {},
     "output_type": "execute_result"
    },
    {
     "data": {
      "image/png": "[encoded data removed]",
      "text/plain": [
       "<Figure size 576x396 with 1 Axes>"
      ]
     },
     "metadata": {},
     "output_type": "display_data"
    }
   ],
   "source": [
    "data['Violation Type'].value_counts().plot.barh()"
   ]
  },
  {
   "cell_type": "markdown",
   "metadata": {},
   "source": [
    "<span style=\"color:darkblue\">More warnings than citations</br>    \n",
    "<font size=\"1\">SERO - Safety Equipment Repair Order ESERO - Electronic Safety Equipment Repair Order</font>"
   ]
  },
  {
   "cell_type": "code",
   "execution_count": 23,
   "metadata": {},
   "outputs": [
    {
     "data": {
      "text/plain": [
       "A - Marked Patrol                         1008855\n",
       "Q - Marked Laser                           120072\n",
       "B - Unmarked Patrol                         38352\n",
       "S - License Plate Recognition               13306\n",
       "O - Foot Patrol                             11053\n",
       "L - Motorcycle                              10711\n",
       "E - Marked Stationary Radar                  8286\n",
       "G - Marked Moving Radar (Stationary)         6591\n",
       "R - Unmarked Laser                           5546\n",
       "I - Marked Moving Radar (Moving)             2109\n",
       "M - Marked (Off-Duty)                        1797\n",
       "H - Unmarked Moving Radar (Stationary)        840\n",
       "F - Unmarked Stationary Radar                 796\n",
       "J - Unmarked Moving Radar (Moving)            398\n",
       "C - Marked VASCAR                             396\n",
       "P - Mounted Patrol                            315\n",
       "D - Unmarked VASCAR                           278\n",
       "N - Unmarked (Off-Duty)                       169\n",
       "K - Aircraft Assist                            45\n",
       "Name: Arrest Type, dtype: int64"
      ]
     },
     "execution_count": 23,
     "metadata": {},
     "output_type": "execute_result"
    }
   ],
   "source": [
    "data['Arrest Type'].value_counts()"
   ]
  },
  {
   "cell_type": "code",
   "execution_count": 99,
   "metadata": {},
   "outputs": [
    {
     "data": {
      "text/plain": [
       "<matplotlib.axes._subplots.AxesSubplot at 0x22b8362f5c0>"
      ]
     },
     "execution_count": 99,
     "metadata": {},
     "output_type": "execute_result"
    },
    {
     "data": {
      "image/png": "[encoded data removed]",
      "text/plain": [
       "<Figure size 576x396 with 1 Axes>"
      ]
     },
     "metadata": {},
     "output_type": "display_data"
    }
   ],
   "source": [
    "data['Arrest Type'].value_counts().plot.barh()"
   ]
  },
  {
   "cell_type": "markdown",
   "metadata": {},
   "source": [
    "<span style=\"color:darkblue\">Marked Patrol policing were the ones who caught almost all the violations"
   ]
  },
  {
   "cell_type": "code",
   "execution_count": 34,
   "metadata": {},
   "outputs": [
    {
     "data": {
      "text/plain": [
       "M    950059\n",
       "F    465859\n",
       "U      1678\n",
       "Name: Gender, dtype: int64"
      ]
     },
     "execution_count": 34,
     "metadata": {},
     "output_type": "execute_result"
    }
   ],
   "source": [
    "data['Gender'].value_counts()"
   ]
  },
  {
   "cell_type": "code",
   "execution_count": 98,
   "metadata": {},
   "outputs": [
    {
     "data": {
      "text/plain": [
       "<matplotlib.axes._subplots.AxesSubplot at 0x22b835d6cf8>"
      ]
     },
     "execution_count": 98,
     "metadata": {},
     "output_type": "execute_result"
    },
    {
     "data": {
      "image/png": "[encoded data removed]",
      "text/plain": [
       "<Figure size 576x396 with 1 Axes>"
      ]
     },
     "metadata": {},
     "output_type": "display_data"
    }
   ],
   "source": [
    "data['Gender'].value_counts().plot.barh()"
   ]
  },
  {
   "cell_type": "markdown",
   "metadata": {},
   "source": [
    "<span style=\"color:darkblue\"> Men offenders were more than double the number of women offenders"
   ]
  },
  {
   "cell_type": "code",
   "execution_count": 35,
   "metadata": {},
   "outputs": [
    {
     "data": {
      "text/plain": [
       "WHITE              505421\n",
       "BLACK              448332\n",
       "HISPANIC           301331\n",
       "ASIAN               82927\n",
       "OTHER               76520\n",
       "NATIVE AMERICAN      3065\n",
       "Name: Race, dtype: int64"
      ]
     },
     "execution_count": 35,
     "metadata": {},
     "output_type": "execute_result"
    }
   ],
   "source": [
    "data['Race'].value_counts()"
   ]
  },
  {
   "cell_type": "code",
   "execution_count": 101,
   "metadata": {},
   "outputs": [
    {
     "data": {
      "text/plain": [
       "<matplotlib.axes._subplots.AxesSubplot at 0x22b83729710>"
      ]
     },
     "execution_count": 101,
     "metadata": {},
     "output_type": "execute_result"
    },
    {
     "data": {
      "image/png": "[encoded data removed]",
      "text/plain": [
       "<Figure size 576x396 with 1 Axes>"
      ]
     },
     "metadata": {},
     "output_type": "display_data"
    }
   ],
   "source": [
    "data['Race'].value_counts().plot.barh()"
   ]
  },
  {
   "cell_type": "code",
   "execution_count": 112,
   "metadata": {},
   "outputs": [
    {
     "data": {
      "text/plain": [
       "Gender  Race           \n",
       "F       ASIAN               32054\n",
       "        BLACK              151134\n",
       "        HISPANIC            69245\n",
       "        NATIVE AMERICAN       979\n",
       "        OTHER               24506\n",
       "        WHITE              187941\n",
       "M       ASIAN               50864\n",
       "        BLACK              297181\n",
       "        HISPANIC           232047\n",
       "        NATIVE AMERICAN      2083\n",
       "        OTHER               50439\n",
       "        WHITE              317445\n",
       "U       ASIAN                   9\n",
       "        BLACK                  17\n",
       "        HISPANIC               39\n",
       "        NATIVE AMERICAN         3\n",
       "        OTHER                1575\n",
       "        WHITE                  35\n",
       "dtype: int64"
      ]
     },
     "execution_count": 112,
     "metadata": {},
     "output_type": "execute_result"
    }
   ],
   "source": [
    "data.groupby(['Gender','Race']).size()"
   ]
  },
  {
   "cell_type": "code",
   "execution_count": 113,
   "metadata": {},
   "outputs": [
    {
     "data": {
      "text/plain": [
       "<matplotlib.axes._subplots.AxesSubplot at 0x22b838a3da0>"
      ]
     },
     "execution_count": 113,
     "metadata": {},
     "output_type": "execute_result"
    },
    {
     "data": {
      "image/png": "[encoded data removed]",
      "text/plain": [
       "<Figure size 576x396 with 1 Axes>"
      ]
     },
     "metadata": {},
     "output_type": "display_data"
    }
   ],
   "source": [
    "data.groupby(['Gender','Race']).size().plot.barh()"
   ]
  },
  {
   "cell_type": "markdown",
   "metadata": {},
   "source": [
    "<span style=\"color:darkblue\">Caucasian males recorded the highest number of violations, followed closely by african american males"
   ]
  },
  {
   "cell_type": "code",
   "execution_count": 156,
   "metadata": {},
   "outputs": [
    {
     "data": {
      "text/plain": [
       "No     1417285\n",
       "Yes        311\n",
       "Name: Fatal, dtype: int64"
      ]
     },
     "execution_count": 156,
     "metadata": {},
     "output_type": "execute_result"
    }
   ],
   "source": [
    "data['Accident'].value_counts() #0\n",
    "data['Belts'].value_counts()#46394\n",
    "data['Alcohol'].value_counts() #2242\n",
    "data['HAZMAT'].value_counts()  #127\n",
    "data['Work Zone'].value_counts()#265\n",
    "data['Work Zone'].value_counts()#265\n",
    "data['Personal Injury'].value_counts()#16498\n",
    "data['Property Damage'].value_counts()#27269\n",
    "data['Fatal'].value_counts()#311"
   ]
  },
  {
   "cell_type": "markdown",
   "metadata": {},
   "source": [
    "<span style=\"color:darkblue\">We now define 'citations per warning', the ratio of citations to warnings. A higher number signifies a greater likelihood of getting a tictcket instead of getting lucky and just escaping with a warning!"
   ]
  },
  {
   "cell_type": "code",
   "execution_count": 3,
   "metadata": {},
   "outputs": [],
   "source": [
    "from ba500package.helper import citations_per_warning"
   ]
  },
  {
   "cell_type": "code",
   "execution_count": 4,
   "metadata": {},
   "outputs": [
    {
     "data": {
      "text/html": [
       "<div>\n",
       "<style scoped>\n",
       "    .dataframe tbody tr th:only-of-type {\n",
       "        vertical-align: middle;\n",
       "    }\n",
       "\n",
       "    .dataframe tbody tr th {\n",
       "        vertical-align: top;\n",
       "    }\n",
       "\n",
       "    .dataframe thead th {\n",
       "        text-align: right;\n",
       "    }\n",
       "</style>\n",
       "<table border=\"1\" class=\"dataframe\">\n",
       "  <thead>\n",
       "    <tr style=\"text-align: right;\">\n",
       "      <th></th>\n",
       "      <th>citations_per_warning</th>\n",
       "    </tr>\n",
       "    <tr>\n",
       "      <th>Gender</th>\n",
       "      <th></th>\n",
       "    </tr>\n",
       "  </thead>\n",
       "  <tbody>\n",
       "    <tr>\n",
       "      <th>F</th>\n",
       "      <td>0.756495</td>\n",
       "    </tr>\n",
       "    <tr>\n",
       "      <th>M</th>\n",
       "      <td>1.051159</td>\n",
       "    </tr>\n",
       "    <tr>\n",
       "      <th>U</th>\n",
       "      <td>0.156510</td>\n",
       "    </tr>\n",
       "  </tbody>\n",
       "</table>\n",
       "</div>"
      ],
      "text/plain": [
       "        citations_per_warning\n",
       "Gender                       \n",
       "F                    0.756495\n",
       "M                    1.051159\n",
       "U                    0.156510"
      ]
     },
     "execution_count": 4,
     "metadata": {},
     "output_type": "execute_result"
    }
   ],
   "source": [
    "data.groupby('Gender').apply(citations_per_warning)"
   ]
  },
  {
   "cell_type": "code",
   "execution_count": 5,
   "metadata": {},
   "outputs": [
    {
     "data": {
      "text/html": [
       "<div>\n",
       "<style scoped>\n",
       "    .dataframe tbody tr th:only-of-type {\n",
       "        vertical-align: middle;\n",
       "    }\n",
       "\n",
       "    .dataframe tbody tr th {\n",
       "        vertical-align: top;\n",
       "    }\n",
       "\n",
       "    .dataframe thead th {\n",
       "        text-align: right;\n",
       "    }\n",
       "</style>\n",
       "<table border=\"1\" class=\"dataframe\">\n",
       "  <thead>\n",
       "    <tr style=\"text-align: right;\">\n",
       "      <th></th>\n",
       "      <th>citations_per_warning</th>\n",
       "    </tr>\n",
       "    <tr>\n",
       "      <th>Race</th>\n",
       "      <th></th>\n",
       "    </tr>\n",
       "  </thead>\n",
       "  <tbody>\n",
       "    <tr>\n",
       "      <th>ASIAN</th>\n",
       "      <td>0.686614</td>\n",
       "    </tr>\n",
       "    <tr>\n",
       "      <th>BLACK</th>\n",
       "      <td>0.993312</td>\n",
       "    </tr>\n",
       "    <tr>\n",
       "      <th>HISPANIC</th>\n",
       "      <td>1.280722</td>\n",
       "    </tr>\n",
       "    <tr>\n",
       "      <th>NATIVE AMERICAN</th>\n",
       "      <td>0.814086</td>\n",
       "    </tr>\n",
       "    <tr>\n",
       "      <th>OTHER</th>\n",
       "      <td>0.718802</td>\n",
       "    </tr>\n",
       "    <tr>\n",
       "      <th>WHITE</th>\n",
       "      <td>0.823885</td>\n",
       "    </tr>\n",
       "  </tbody>\n",
       "</table>\n",
       "</div>"
      ],
      "text/plain": [
       "                 citations_per_warning\n",
       "Race                                  \n",
       "ASIAN                         0.686614\n",
       "BLACK                         0.993312\n",
       "HISPANIC                      1.280722\n",
       "NATIVE AMERICAN               0.814086\n",
       "OTHER                         0.718802\n",
       "WHITE                         0.823885"
      ]
     },
     "execution_count": 5,
     "metadata": {},
     "output_type": "execute_result"
    }
   ],
   "source": [
    "data.groupby('Race').apply(citations_per_warning)"
   ]
  },
  {
   "cell_type": "code",
   "execution_count": 6,
   "metadata": {},
   "outputs": [
    {
     "data": {
      "text/html": [
       "<div>\n",
       "<style scoped>\n",
       "    .dataframe tbody tr th:only-of-type {\n",
       "        vertical-align: middle;\n",
       "    }\n",
       "\n",
       "    .dataframe tbody tr th {\n",
       "        vertical-align: top;\n",
       "    }\n",
       "\n",
       "    .dataframe thead th {\n",
       "        text-align: right;\n",
       "    }\n",
       "</style>\n",
       "<table border=\"1\" class=\"dataframe\">\n",
       "  <thead>\n",
       "    <tr style=\"text-align: right;\">\n",
       "      <th></th>\n",
       "      <th></th>\n",
       "      <th>citations_per_warning</th>\n",
       "    </tr>\n",
       "    <tr>\n",
       "      <th>Gender</th>\n",
       "      <th>Race</th>\n",
       "      <th></th>\n",
       "    </tr>\n",
       "  </thead>\n",
       "  <tbody>\n",
       "    <tr>\n",
       "      <th rowspan=\"6\" valign=\"top\">F</th>\n",
       "      <th>ASIAN</th>\n",
       "      <td>0.599529</td>\n",
       "    </tr>\n",
       "    <tr>\n",
       "      <th>BLACK</th>\n",
       "      <td>0.823820</td>\n",
       "    </tr>\n",
       "    <tr>\n",
       "      <th>HISPANIC</th>\n",
       "      <td>0.889018</td>\n",
       "    </tr>\n",
       "    <tr>\n",
       "      <th>NATIVE AMERICAN</th>\n",
       "      <td>0.576592</td>\n",
       "    </tr>\n",
       "    <tr>\n",
       "      <th>OTHER</th>\n",
       "      <td>0.647175</td>\n",
       "    </tr>\n",
       "    <tr>\n",
       "      <th>WHITE</th>\n",
       "      <td>0.707306</td>\n",
       "    </tr>\n",
       "    <tr>\n",
       "      <th rowspan=\"6\" valign=\"top\">M</th>\n",
       "      <th>ASIAN</th>\n",
       "      <td>0.747157</td>\n",
       "    </tr>\n",
       "    <tr>\n",
       "      <th>BLACK</th>\n",
       "      <td>1.091701</td>\n",
       "    </tr>\n",
       "    <tr>\n",
       "      <th>HISPANIC</th>\n",
       "      <td>1.432297</td>\n",
       "    </tr>\n",
       "    <tr>\n",
       "      <th>NATIVE AMERICAN</th>\n",
       "      <td>0.952716</td>\n",
       "    </tr>\n",
       "    <tr>\n",
       "      <th>OTHER</th>\n",
       "      <td>0.787641</td>\n",
       "    </tr>\n",
       "    <tr>\n",
       "      <th>WHITE</th>\n",
       "      <td>0.901210</td>\n",
       "    </tr>\n",
       "    <tr>\n",
       "      <th rowspan=\"6\" valign=\"top\">U</th>\n",
       "      <th>ASIAN</th>\n",
       "      <td>1.666667</td>\n",
       "    </tr>\n",
       "    <tr>\n",
       "      <th>BLACK</th>\n",
       "      <td>2.400000</td>\n",
       "    </tr>\n",
       "    <tr>\n",
       "      <th>HISPANIC</th>\n",
       "      <td>1.466667</td>\n",
       "    </tr>\n",
       "    <tr>\n",
       "      <th>NATIVE AMERICAN</th>\n",
       "      <td>1.000000</td>\n",
       "    </tr>\n",
       "    <tr>\n",
       "      <th>OTHER</th>\n",
       "      <td>0.124553</td>\n",
       "    </tr>\n",
       "    <tr>\n",
       "      <th>WHITE</th>\n",
       "      <td>0.521739</td>\n",
       "    </tr>\n",
       "  </tbody>\n",
       "</table>\n",
       "</div>"
      ],
      "text/plain": [
       "                        citations_per_warning\n",
       "Gender Race                                  \n",
       "F      ASIAN                         0.599529\n",
       "       BLACK                         0.823820\n",
       "       HISPANIC                      0.889018\n",
       "       NATIVE AMERICAN               0.576592\n",
       "       OTHER                         0.647175\n",
       "       WHITE                         0.707306\n",
       "M      ASIAN                         0.747157\n",
       "       BLACK                         1.091701\n",
       "       HISPANIC                      1.432297\n",
       "       NATIVE AMERICAN               0.952716\n",
       "       OTHER                         0.787641\n",
       "       WHITE                         0.901210\n",
       "U      ASIAN                         1.666667\n",
       "       BLACK                         2.400000\n",
       "       HISPANIC                      1.466667\n",
       "       NATIVE AMERICAN               1.000000\n",
       "       OTHER                         0.124553\n",
       "       WHITE                         0.521739"
      ]
     },
     "execution_count": 6,
     "metadata": {},
     "output_type": "execute_result"
    }
   ],
   "source": [
    "data.groupby(['Gender','Race']).apply(citations_per_warning)"
   ]
  },
  {
   "cell_type": "code",
   "execution_count": 11,
   "metadata": {},
   "outputs": [
    {
     "ename": "ModuleNotFoundError",
     "evalue": "No module named 'ipyleaflet'",
     "output_type": "error",
     "traceback": [
      "\u001b[1;31m---------------------------------------------------------------------------\u001b[0m",
      "\u001b[1;31mModuleNotFoundError\u001b[0m                       Traceback (most recent call last)",
      "\u001b[1;32m<ipython-input-11-b5b4b742ffab>\u001b[0m in \u001b[0;36m<module>\u001b[1;34m()\u001b[0m\n\u001b[0;32m      1\u001b[0m \u001b[1;31m#from ipyleaflet import Marker\u001b[0m\u001b[1;33m\u001b[0m\u001b[1;33m\u001b[0m\u001b[0m\n\u001b[1;32m----> 2\u001b[1;33m \u001b[1;32mimport\u001b[0m \u001b[0mipyleaflet\u001b[0m\u001b[1;33m.\u001b[0m\u001b[0mmarker\u001b[0m \u001b[1;32mas\u001b[0m \u001b[0mmark\u001b[0m\u001b[1;33m\u001b[0m\u001b[0m\n\u001b[0m\u001b[0;32m      3\u001b[0m \u001b[1;33m\u001b[0m\u001b[0m\n\u001b[0;32m      4\u001b[0m \u001b[0mcenter\u001b[0m \u001b[1;33m=\u001b[0m \u001b[1;33m(\u001b[0m\u001b[1;36m52.204793\u001b[0m\u001b[1;33m,\u001b[0m \u001b[1;36m360.121558\u001b[0m\u001b[1;33m)\u001b[0m\u001b[1;33m\u001b[0m\u001b[0m\n\u001b[0;32m      5\u001b[0m \u001b[1;33m\u001b[0m\u001b[0m\n",
      "\u001b[1;31mModuleNotFoundError\u001b[0m: No module named 'ipyleaflet'"
     ]
    }
   ],
   "source": [
    "#from ipyleaflet import Marker\n",
    "import ipyleaflet.marker as mark\n",
    "\n",
    "center = (52.204793, 360.121558)\n",
    "\n",
    "m = Map(center=center, zoom=15)\n",
    "\n",
    "marker = mark(location=center, draggable=False)\n",
    "m.add_layer(mark);\n",
    "\n",
    "m"
   ]
  },
  {
   "cell_type": "markdown",
   "metadata": {},
   "source": [
    "#### References\n",
    "\n",
    "[1] http://strftime.org/\n",
    "\n",
    "[2] http://jakevdp.github.io/blog/2017/03/03/reproducible-data-analysis-in-jupyter/\n",
    "\n",
    "[3] https://www.kaggle.com/pmarcelino/comprehensive-data-exploration-with-python\n",
    "\n",
    "[4] https://www.kaggle.com/tejainece/seaborn-barplot-and-pandas-value-counts\n",
    "\n",
    "[5] https://scitools.org.uk/cartopy/docs/v0.15/matplotlib/intro.html"
   ]
  },
  {
   "cell_type": "code",
   "execution_count": 96,
   "metadata": {},
   "outputs": [
    {
     "ename": "ModuleNotFoundError",
     "evalue": "No module named 'cartopy'",
     "output_type": "error",
     "traceback": [
      "\u001b[1;31m---------------------------------------------------------------------------\u001b[0m",
      "\u001b[1;31mModuleNotFoundError\u001b[0m                       Traceback (most recent call last)",
      "\u001b[1;32m<ipython-input-96-8e02c704e3f3>\u001b[0m in \u001b[0;36m<module>\u001b[1;34m()\u001b[0m\n\u001b[1;32m----> 1\u001b[1;33m \u001b[1;32mimport\u001b[0m \u001b[0mcartopy\u001b[0m\u001b[1;33m.\u001b[0m\u001b[0mcrs\u001b[0m \u001b[1;32mas\u001b[0m \u001b[0mccrs\u001b[0m\u001b[1;33m\u001b[0m\u001b[0m\n\u001b[0m\u001b[0;32m      2\u001b[0m \u001b[1;32mimport\u001b[0m \u001b[0mmatplotlib\u001b[0m\u001b[1;33m.\u001b[0m\u001b[0mpyplot\u001b[0m \u001b[1;32mas\u001b[0m \u001b[0mplt\u001b[0m\u001b[1;33m\u001b[0m\u001b[0m\n\u001b[0;32m      3\u001b[0m \u001b[1;33m\u001b[0m\u001b[0m\n\u001b[0;32m      4\u001b[0m \u001b[0max\u001b[0m \u001b[1;33m=\u001b[0m \u001b[0mplt\u001b[0m\u001b[1;33m.\u001b[0m\u001b[0maxes\u001b[0m\u001b[1;33m(\u001b[0m\u001b[0mprojection\u001b[0m\u001b[1;33m=\u001b[0m\u001b[0mccrs\u001b[0m\u001b[1;33m.\u001b[0m\u001b[0mPlateCarree\u001b[0m\u001b[1;33m(\u001b[0m\u001b[1;33m)\u001b[0m\u001b[1;33m)\u001b[0m\u001b[1;33m\u001b[0m\u001b[0m\n\u001b[0;32m      5\u001b[0m \u001b[0max\u001b[0m\u001b[1;33m.\u001b[0m\u001b[0mcoastlines\u001b[0m\u001b[1;33m(\u001b[0m\u001b[1;33m)\u001b[0m\u001b[1;33m\u001b[0m\u001b[0m\n",
      "\u001b[1;31mModuleNotFoundError\u001b[0m: No module named 'cartopy'"
     ]
    }
   ],
   "source": [
    "import cartopy.crs as ccrs\n",
    "import matplotlib.pyplot as plt\n",
    "\n",
    "ax = plt.axes(projection=ccrs.PlateCarree())\n",
    "ax.coastlines()\n",
    "\n",
    "plt.show()"
   ]
  },
  {
   "cell_type": "code",
   "execution_count": 158,
   "metadata": {},
   "outputs": [
    {
     "data": {
      "text/plain": [
       "Agency                                                                   MCP\n",
       "SubAgency                                        3rd district, Silver Spring\n",
       "Description                DRIVING VEHICLE ON HIGHWAY WITH SUSPENDED REGI...\n",
       "Location                                                     8804 FLOWER AVE\n",
       "Latitude                                                                 NaN\n",
       "Longitude                                                                NaN\n",
       "Accident                                                                  No\n",
       "Belts                                                                     No\n",
       "Personal Injury                                                           No\n",
       "Property Damage                                                           No\n",
       "Fatal                                                                     No\n",
       "Commercial License                                                        No\n",
       "HAZMAT                                                                    No\n",
       "Commercial Vehicle                                                        No\n",
       "Alcohol                                                                   No\n",
       "Work Zone                                                                 No\n",
       "State                                                                     MD\n",
       "VehicleType                                                  02 - Automobile\n",
       "Year                                                                    2008\n",
       "Make                                                                    FORD\n",
       "Model                                                                     4S\n",
       "Color                                                                  BLACK\n",
       "Violation Type                                                      Citation\n",
       "Charge                                                             13-401(h)\n",
       "Article                                               Transportation Article\n",
       "Contributed To Accident                                                   No\n",
       "Race                                                                   BLACK\n",
       "Gender                                                                     M\n",
       "Driver City                                                      TAKOMA PARK\n",
       "Driver State                                                              MD\n",
       "DL State                                                                  MD\n",
       "Arrest Type                                                A - Marked Patrol\n",
       "Geolocation                                                              NaN\n",
       "Name: 2013-09-24 17:11:00, dtype: object"
      ]
     },
     "execution_count": 158,
     "metadata": {},
     "output_type": "execute_result"
    }
   ],
   "source": [
    "data.iloc[0]"
   ]
  },
  {
   "cell_type": "code",
   "execution_count": 13,
   "metadata": {},
   "outputs": [
    {
     "data": {
      "text/html": [
       "<div>\n",
       "<style scoped>\n",
       "    .dataframe tbody tr th:only-of-type {\n",
       "        vertical-align: middle;\n",
       "    }\n",
       "\n",
       "    .dataframe tbody tr th {\n",
       "        vertical-align: top;\n",
       "    }\n",
       "\n",
       "    .dataframe thead th {\n",
       "        text-align: right;\n",
       "    }\n",
       "</style>\n",
       "<table border=\"1\" class=\"dataframe\">\n",
       "  <thead>\n",
       "    <tr style=\"text-align: right;\">\n",
       "      <th></th>\n",
       "      <th>Agency</th>\n",
       "      <th>SubAgency</th>\n",
       "      <th>Description</th>\n",
       "      <th>Location</th>\n",
       "      <th>Latitude</th>\n",
       "      <th>Longitude</th>\n",
       "      <th>Accident</th>\n",
       "      <th>Belts</th>\n",
       "      <th>Personal Injury</th>\n",
       "      <th>Property Damage</th>\n",
       "      <th>...</th>\n",
       "      <th>Charge</th>\n",
       "      <th>Article</th>\n",
       "      <th>Contributed To Accident</th>\n",
       "      <th>Race</th>\n",
       "      <th>Gender</th>\n",
       "      <th>Driver City</th>\n",
       "      <th>Driver State</th>\n",
       "      <th>DL State</th>\n",
       "      <th>Arrest Type</th>\n",
       "      <th>Geolocation</th>\n",
       "    </tr>\n",
       "    <tr>\n",
       "      <th>Date Of Stop_Time Of Stop</th>\n",
       "      <th></th>\n",
       "      <th></th>\n",
       "      <th></th>\n",
       "      <th></th>\n",
       "      <th></th>\n",
       "      <th></th>\n",
       "      <th></th>\n",
       "      <th></th>\n",
       "      <th></th>\n",
       "      <th></th>\n",
       "      <th></th>\n",
       "      <th></th>\n",
       "      <th></th>\n",
       "      <th></th>\n",
       "      <th></th>\n",
       "      <th></th>\n",
       "      <th></th>\n",
       "      <th></th>\n",
       "      <th></th>\n",
       "      <th></th>\n",
       "      <th></th>\n",
       "    </tr>\n",
       "  </thead>\n",
       "  <tbody>\n",
       "    <tr>\n",
       "      <th>2017-08-30 19:55:00</th>\n",
       "      <td>MCP</td>\n",
       "      <td>4th district, Wheaton</td>\n",
       "      <td>FAILURE OF INDIVIDUAL DRIVING ON HIGHWAY TO DI...</td>\n",
       "      <td>SB GEORGIA AVE @ HEWITT AVE</td>\n",
       "      <td>39.078595</td>\n",
       "      <td>-77.069165</td>\n",
       "      <td>No</td>\n",
       "      <td>No</td>\n",
       "      <td>No</td>\n",
       "      <td>No</td>\n",
       "      <td>...</td>\n",
       "      <td>16-112(c)</td>\n",
       "      <td>Transportation Article</td>\n",
       "      <td>No</td>\n",
       "      <td>HISPANIC</td>\n",
       "      <td>M</td>\n",
       "      <td>SILVER SPRING</td>\n",
       "      <td>MD</td>\n",
       "      <td>MD</td>\n",
       "      <td>A - Marked Patrol</td>\n",
       "      <td>(39.078595, -77.069165)</td>\n",
       "    </tr>\n",
       "    <tr>\n",
       "      <th>2017-08-30 19:55:00</th>\n",
       "      <td>MCP</td>\n",
       "      <td>4th district, Wheaton</td>\n",
       "      <td>DRIVING MOTOR VEHICLE ON HIGHWAY WITHOUT REQUI...</td>\n",
       "      <td>SB GEORGIA AVE @ HEWITT AVE</td>\n",
       "      <td>39.078595</td>\n",
       "      <td>-77.069165</td>\n",
       "      <td>No</td>\n",
       "      <td>No</td>\n",
       "      <td>No</td>\n",
       "      <td>No</td>\n",
       "      <td>...</td>\n",
       "      <td>16-101(a)</td>\n",
       "      <td>Transportation Article</td>\n",
       "      <td>No</td>\n",
       "      <td>HISPANIC</td>\n",
       "      <td>M</td>\n",
       "      <td>SILVER SPRING</td>\n",
       "      <td>MD</td>\n",
       "      <td>MD</td>\n",
       "      <td>A - Marked Patrol</td>\n",
       "      <td>(39.078595, -77.069165)</td>\n",
       "    </tr>\n",
       "    <tr>\n",
       "      <th>2017-08-30 19:55:00</th>\n",
       "      <td>MCP</td>\n",
       "      <td>4th district, Wheaton</td>\n",
       "      <td>PERSON DRIVING MOTOR VEHICLE ON HIGHWAY OR PUB...</td>\n",
       "      <td>SB GEORGIA AVE @ HEWITT AVE</td>\n",
       "      <td>39.078595</td>\n",
       "      <td>-77.069165</td>\n",
       "      <td>No</td>\n",
       "      <td>No</td>\n",
       "      <td>No</td>\n",
       "      <td>No</td>\n",
       "      <td>...</td>\n",
       "      <td>16-303(c)</td>\n",
       "      <td>Transportation Article</td>\n",
       "      <td>No</td>\n",
       "      <td>HISPANIC</td>\n",
       "      <td>M</td>\n",
       "      <td>SILVER SPRING</td>\n",
       "      <td>MD</td>\n",
       "      <td>MD</td>\n",
       "      <td>A - Marked Patrol</td>\n",
       "      <td>(39.078595, -77.069165)</td>\n",
       "    </tr>\n",
       "    <tr>\n",
       "      <th>2017-08-30 19:55:00</th>\n",
       "      <td>MCP</td>\n",
       "      <td>4th district, Wheaton</td>\n",
       "      <td>PERSON DRIVING MOTOR VEHICLE WHILE LICENSE SUS...</td>\n",
       "      <td>SB GEORGIA AVE @ HEWITT AVE</td>\n",
       "      <td>39.078595</td>\n",
       "      <td>-77.069165</td>\n",
       "      <td>No</td>\n",
       "      <td>No</td>\n",
       "      <td>No</td>\n",
       "      <td>No</td>\n",
       "      <td>...</td>\n",
       "      <td>16-303(h)</td>\n",
       "      <td>Transportation Article</td>\n",
       "      <td>No</td>\n",
       "      <td>HISPANIC</td>\n",
       "      <td>M</td>\n",
       "      <td>SILVER SPRING</td>\n",
       "      <td>MD</td>\n",
       "      <td>MD</td>\n",
       "      <td>A - Marked Patrol</td>\n",
       "      <td>(39.078595, -77.069165)</td>\n",
       "    </tr>\n",
       "    <tr>\n",
       "      <th>2017-08-30 19:55:00</th>\n",
       "      <td>MCP</td>\n",
       "      <td>4th district, Wheaton</td>\n",
       "      <td>PERSON DRIVING MOTOR VEHICLE ON HIGHWAY OR PUB...</td>\n",
       "      <td>SB GEORGIA AVE @ HEWITT AVE</td>\n",
       "      <td>39.078595</td>\n",
       "      <td>-77.069165</td>\n",
       "      <td>No</td>\n",
       "      <td>No</td>\n",
       "      <td>No</td>\n",
       "      <td>No</td>\n",
       "      <td>...</td>\n",
       "      <td>16-303(d)</td>\n",
       "      <td>Transportation Article</td>\n",
       "      <td>No</td>\n",
       "      <td>HISPANIC</td>\n",
       "      <td>M</td>\n",
       "      <td>SILVER SPRING</td>\n",
       "      <td>MD</td>\n",
       "      <td>MD</td>\n",
       "      <td>A - Marked Patrol</td>\n",
       "      <td>(39.078595, -77.069165)</td>\n",
       "    </tr>\n",
       "  </tbody>\n",
       "</table>\n",
       "<p>5 rows × 33 columns</p>\n",
       "</div>"
      ],
      "text/plain": [
       "                          Agency              SubAgency  \\\n",
       "Date Of Stop_Time Of Stop                                 \n",
       "2017-08-30 19:55:00          MCP  4th district, Wheaton   \n",
       "2017-08-30 19:55:00          MCP  4th district, Wheaton   \n",
       "2017-08-30 19:55:00          MCP  4th district, Wheaton   \n",
       "2017-08-30 19:55:00          MCP  4th district, Wheaton   \n",
       "2017-08-30 19:55:00          MCP  4th district, Wheaton   \n",
       "\n",
       "                                                                 Description  \\\n",
       "Date Of Stop_Time Of Stop                                                      \n",
       "2017-08-30 19:55:00        FAILURE OF INDIVIDUAL DRIVING ON HIGHWAY TO DI...   \n",
       "2017-08-30 19:55:00        DRIVING MOTOR VEHICLE ON HIGHWAY WITHOUT REQUI...   \n",
       "2017-08-30 19:55:00        PERSON DRIVING MOTOR VEHICLE ON HIGHWAY OR PUB...   \n",
       "2017-08-30 19:55:00        PERSON DRIVING MOTOR VEHICLE WHILE LICENSE SUS...   \n",
       "2017-08-30 19:55:00        PERSON DRIVING MOTOR VEHICLE ON HIGHWAY OR PUB...   \n",
       "\n",
       "                                              Location   Latitude  Longitude  \\\n",
       "Date Of Stop_Time Of Stop                                                      \n",
       "2017-08-30 19:55:00        SB GEORGIA AVE @ HEWITT AVE  39.078595 -77.069165   \n",
       "2017-08-30 19:55:00        SB GEORGIA AVE @ HEWITT AVE  39.078595 -77.069165   \n",
       "2017-08-30 19:55:00        SB GEORGIA AVE @ HEWITT AVE  39.078595 -77.069165   \n",
       "2017-08-30 19:55:00        SB GEORGIA AVE @ HEWITT AVE  39.078595 -77.069165   \n",
       "2017-08-30 19:55:00        SB GEORGIA AVE @ HEWITT AVE  39.078595 -77.069165   \n",
       "\n",
       "                          Accident Belts Personal Injury Property Damage  \\\n",
       "Date Of Stop_Time Of Stop                                                  \n",
       "2017-08-30 19:55:00             No    No              No              No   \n",
       "2017-08-30 19:55:00             No    No              No              No   \n",
       "2017-08-30 19:55:00             No    No              No              No   \n",
       "2017-08-30 19:55:00             No    No              No              No   \n",
       "2017-08-30 19:55:00             No    No              No              No   \n",
       "\n",
       "                                    ...                Charge  \\\n",
       "Date Of Stop_Time Of Stop           ...                         \n",
       "2017-08-30 19:55:00                 ...             16-112(c)   \n",
       "2017-08-30 19:55:00                 ...             16-101(a)   \n",
       "2017-08-30 19:55:00                 ...             16-303(c)   \n",
       "2017-08-30 19:55:00                 ...             16-303(h)   \n",
       "2017-08-30 19:55:00                 ...             16-303(d)   \n",
       "\n",
       "                                          Article Contributed To Accident  \\\n",
       "Date Of Stop_Time Of Stop                                                   \n",
       "2017-08-30 19:55:00        Transportation Article                      No   \n",
       "2017-08-30 19:55:00        Transportation Article                      No   \n",
       "2017-08-30 19:55:00        Transportation Article                      No   \n",
       "2017-08-30 19:55:00        Transportation Article                      No   \n",
       "2017-08-30 19:55:00        Transportation Article                      No   \n",
       "\n",
       "                               Race Gender    Driver City Driver State  \\\n",
       "Date Of Stop_Time Of Stop                                                \n",
       "2017-08-30 19:55:00        HISPANIC      M  SILVER SPRING           MD   \n",
       "2017-08-30 19:55:00        HISPANIC      M  SILVER SPRING           MD   \n",
       "2017-08-30 19:55:00        HISPANIC      M  SILVER SPRING           MD   \n",
       "2017-08-30 19:55:00        HISPANIC      M  SILVER SPRING           MD   \n",
       "2017-08-30 19:55:00        HISPANIC      M  SILVER SPRING           MD   \n",
       "\n",
       "                          DL State        Arrest Type              Geolocation  \n",
       "Date Of Stop_Time Of Stop                                                       \n",
       "2017-08-30 19:55:00             MD  A - Marked Patrol  (39.078595, -77.069165)  \n",
       "2017-08-30 19:55:00             MD  A - Marked Patrol  (39.078595, -77.069165)  \n",
       "2017-08-30 19:55:00             MD  A - Marked Patrol  (39.078595, -77.069165)  \n",
       "2017-08-30 19:55:00             MD  A - Marked Patrol  (39.078595, -77.069165)  \n",
       "2017-08-30 19:55:00             MD  A - Marked Patrol  (39.078595, -77.069165)  \n",
       "\n",
       "[5 rows x 33 columns]"
      ]
     },
     "execution_count": 13,
     "metadata": {},
     "output_type": "execute_result"
    }
   ],
   "source": [
    "data[data['Alcohol']=='Yes'].head()"
   ]
  },
  {
   "cell_type": "code",
   "execution_count": 49,
   "metadata": {},
   "outputs": [
    {
     "data": {
      "text/html": [
       "<div>\n",
       "<style scoped>\n",
       "    .dataframe tbody tr th:only-of-type {\n",
       "        vertical-align: middle;\n",
       "    }\n",
       "\n",
       "    .dataframe tbody tr th {\n",
       "        vertical-align: top;\n",
       "    }\n",
       "\n",
       "    .dataframe thead th {\n",
       "        text-align: right;\n",
       "    }\n",
       "</style>\n",
       "<table border=\"1\" class=\"dataframe\">\n",
       "  <thead>\n",
       "    <tr style=\"text-align: right;\">\n",
       "      <th></th>\n",
       "      <th>SubAgency</th>\n",
       "      <th>Description</th>\n",
       "      <th>Accident</th>\n",
       "      <th>Belts</th>\n",
       "      <th>Personal Injury</th>\n",
       "      <th>Property Damage</th>\n",
       "    </tr>\n",
       "    <tr>\n",
       "      <th>Date Of Stop_Time Of Stop</th>\n",
       "      <th></th>\n",
       "      <th></th>\n",
       "      <th></th>\n",
       "      <th></th>\n",
       "      <th></th>\n",
       "      <th></th>\n",
       "    </tr>\n",
       "  </thead>\n",
       "  <tbody>\n",
       "    <tr>\n",
       "      <th>2018-10-20 00:01:00</th>\n",
       "      <td>6th district, Gaithersburg / Montgomery Village</td>\n",
       "      <td>PERSON DRIVING MOTOR VEHICLE ON HIGHWAY OR PUB...</td>\n",
       "      <td>No</td>\n",
       "      <td>No</td>\n",
       "      <td>No</td>\n",
       "      <td>Yes</td>\n",
       "    </tr>\n",
       "    <tr>\n",
       "      <th>2018-10-20 00:01:00</th>\n",
       "      <td>6th district, Gaithersburg / Montgomery Village</td>\n",
       "      <td>DRIVING WHILE LIC. SUSP. UNDER 16-203, 16-206A...</td>\n",
       "      <td>No</td>\n",
       "      <td>No</td>\n",
       "      <td>No</td>\n",
       "      <td>Yes</td>\n",
       "    </tr>\n",
       "    <tr>\n",
       "      <th>2018-10-20 00:01:00</th>\n",
       "      <td>6th district, Gaithersburg / Montgomery Village</td>\n",
       "      <td>PERSON DRIVING MOTOR VEHICLE ON HIGHWAY OR PUB...</td>\n",
       "      <td>No</td>\n",
       "      <td>No</td>\n",
       "      <td>No</td>\n",
       "      <td>Yes</td>\n",
       "    </tr>\n",
       "    <tr>\n",
       "      <th>2018-10-20 00:01:00</th>\n",
       "      <td>6th district, Gaithersburg / Montgomery Village</td>\n",
       "      <td>FAILURE OF INDIVIDUAL DRIVING ON HIGHWAY TO DI...</td>\n",
       "      <td>No</td>\n",
       "      <td>No</td>\n",
       "      <td>No</td>\n",
       "      <td>Yes</td>\n",
       "    </tr>\n",
       "    <tr>\n",
       "      <th>2018-10-20 00:01:00</th>\n",
       "      <td>6th district, Gaithersburg / Montgomery Village</td>\n",
       "      <td>NEGLIGENT DRIVING VEHICLE IN CARELESS AND IMPR...</td>\n",
       "      <td>No</td>\n",
       "      <td>No</td>\n",
       "      <td>No</td>\n",
       "      <td>Yes</td>\n",
       "    </tr>\n",
       "    <tr>\n",
       "      <th>2018-10-20 00:01:00</th>\n",
       "      <td>6th district, Gaithersburg / Montgomery Village</td>\n",
       "      <td>RECKLESS DRIVING VEHICLE IN WANTON AND WILLFUL...</td>\n",
       "      <td>No</td>\n",
       "      <td>No</td>\n",
       "      <td>No</td>\n",
       "      <td>Yes</td>\n",
       "    </tr>\n",
       "    <tr>\n",
       "      <th>2018-10-20 00:01:00</th>\n",
       "      <td>6th district, Gaithersburg / Montgomery Village</td>\n",
       "      <td>DRIVING VEHICLE WHILE UNDER THE INFLUENCE OF A...</td>\n",
       "      <td>No</td>\n",
       "      <td>No</td>\n",
       "      <td>No</td>\n",
       "      <td>Yes</td>\n",
       "    </tr>\n",
       "    <tr>\n",
       "      <th>2018-10-20 00:01:00</th>\n",
       "      <td>6th district, Gaithersburg / Montgomery Village</td>\n",
       "      <td>DRIVING VEH. WHILE IMPAIRED BY ALCOHOL</td>\n",
       "      <td>No</td>\n",
       "      <td>No</td>\n",
       "      <td>No</td>\n",
       "      <td>Yes</td>\n",
       "    </tr>\n",
       "    <tr>\n",
       "      <th>2018-10-20 00:01:00</th>\n",
       "      <td>6th district, Gaithersburg / Montgomery Village</td>\n",
       "      <td>FAILURE OF VEH. DRIVER TO STOP AFTER UNATTENDE...</td>\n",
       "      <td>No</td>\n",
       "      <td>No</td>\n",
       "      <td>No</td>\n",
       "      <td>Yes</td>\n",
       "    </tr>\n",
       "    <tr>\n",
       "      <th>2018-10-20 00:01:00</th>\n",
       "      <td>6th district, Gaithersburg / Montgomery Village</td>\n",
       "      <td>FAILURE OF VEH. DRIVER IN ACCIDENT TO LOCATE A...</td>\n",
       "      <td>No</td>\n",
       "      <td>No</td>\n",
       "      <td>No</td>\n",
       "      <td>Yes</td>\n",
       "    </tr>\n",
       "    <tr>\n",
       "      <th>2018-10-20 00:01:00</th>\n",
       "      <td>6th district, Gaithersburg / Montgomery Village</td>\n",
       "      <td>FAILURE OF VEH. DRIVER TO FURNISH REQ'D WRITTE...</td>\n",
       "      <td>No</td>\n",
       "      <td>No</td>\n",
       "      <td>No</td>\n",
       "      <td>Yes</td>\n",
       "    </tr>\n",
       "    <tr>\n",
       "      <th>2018-10-20 00:01:00</th>\n",
       "      <td>6th district, Gaithersburg / Montgomery Village</td>\n",
       "      <td>ATTEMPT BY DRIVER TO ELUDE UNIFORMED POLICE BY...</td>\n",
       "      <td>No</td>\n",
       "      <td>No</td>\n",
       "      <td>No</td>\n",
       "      <td>Yes</td>\n",
       "    </tr>\n",
       "    <tr>\n",
       "      <th>2018-10-20 00:01:00</th>\n",
       "      <td>6th district, Gaithersburg / Montgomery Village</td>\n",
       "      <td>DRIVING MOTOR VEHICLE ON HIGHWAY WITHOUT REQUI...</td>\n",
       "      <td>No</td>\n",
       "      <td>No</td>\n",
       "      <td>No</td>\n",
       "      <td>Yes</td>\n",
       "    </tr>\n",
       "  </tbody>\n",
       "</table>\n",
       "</div>"
      ],
      "text/plain": [
       "                                                                 SubAgency  \\\n",
       "Date Of Stop_Time Of Stop                                                    \n",
       "2018-10-20 00:01:00        6th district, Gaithersburg / Montgomery Village   \n",
       "2018-10-20 00:01:00        6th district, Gaithersburg / Montgomery Village   \n",
       "2018-10-20 00:01:00        6th district, Gaithersburg / Montgomery Village   \n",
       "2018-10-20 00:01:00        6th district, Gaithersburg / Montgomery Village   \n",
       "2018-10-20 00:01:00        6th district, Gaithersburg / Montgomery Village   \n",
       "2018-10-20 00:01:00        6th district, Gaithersburg / Montgomery Village   \n",
       "2018-10-20 00:01:00        6th district, Gaithersburg / Montgomery Village   \n",
       "2018-10-20 00:01:00        6th district, Gaithersburg / Montgomery Village   \n",
       "2018-10-20 00:01:00        6th district, Gaithersburg / Montgomery Village   \n",
       "2018-10-20 00:01:00        6th district, Gaithersburg / Montgomery Village   \n",
       "2018-10-20 00:01:00        6th district, Gaithersburg / Montgomery Village   \n",
       "2018-10-20 00:01:00        6th district, Gaithersburg / Montgomery Village   \n",
       "2018-10-20 00:01:00        6th district, Gaithersburg / Montgomery Village   \n",
       "\n",
       "                                                                 Description  \\\n",
       "Date Of Stop_Time Of Stop                                                      \n",
       "2018-10-20 00:01:00        PERSON DRIVING MOTOR VEHICLE ON HIGHWAY OR PUB...   \n",
       "2018-10-20 00:01:00        DRIVING WHILE LIC. SUSP. UNDER 16-203, 16-206A...   \n",
       "2018-10-20 00:01:00        PERSON DRIVING MOTOR VEHICLE ON HIGHWAY OR PUB...   \n",
       "2018-10-20 00:01:00        FAILURE OF INDIVIDUAL DRIVING ON HIGHWAY TO DI...   \n",
       "2018-10-20 00:01:00        NEGLIGENT DRIVING VEHICLE IN CARELESS AND IMPR...   \n",
       "2018-10-20 00:01:00        RECKLESS DRIVING VEHICLE IN WANTON AND WILLFUL...   \n",
       "2018-10-20 00:01:00        DRIVING VEHICLE WHILE UNDER THE INFLUENCE OF A...   \n",
       "2018-10-20 00:01:00                   DRIVING VEH. WHILE IMPAIRED BY ALCOHOL   \n",
       "2018-10-20 00:01:00        FAILURE OF VEH. DRIVER TO STOP AFTER UNATTENDE...   \n",
       "2018-10-20 00:01:00        FAILURE OF VEH. DRIVER IN ACCIDENT TO LOCATE A...   \n",
       "2018-10-20 00:01:00        FAILURE OF VEH. DRIVER TO FURNISH REQ'D WRITTE...   \n",
       "2018-10-20 00:01:00        ATTEMPT BY DRIVER TO ELUDE UNIFORMED POLICE BY...   \n",
       "2018-10-20 00:01:00        DRIVING MOTOR VEHICLE ON HIGHWAY WITHOUT REQUI...   \n",
       "\n",
       "                          Accident Belts Personal Injury Property Damage  \n",
       "Date Of Stop_Time Of Stop                                                 \n",
       "2018-10-20 00:01:00             No    No              No             Yes  \n",
       "2018-10-20 00:01:00             No    No              No             Yes  \n",
       "2018-10-20 00:01:00             No    No              No             Yes  \n",
       "2018-10-20 00:01:00             No    No              No             Yes  \n",
       "2018-10-20 00:01:00             No    No              No             Yes  \n",
       "2018-10-20 00:01:00             No    No              No             Yes  \n",
       "2018-10-20 00:01:00             No    No              No             Yes  \n",
       "2018-10-20 00:01:00             No    No              No             Yes  \n",
       "2018-10-20 00:01:00             No    No              No             Yes  \n",
       "2018-10-20 00:01:00             No    No              No             Yes  \n",
       "2018-10-20 00:01:00             No    No              No             Yes  \n",
       "2018-10-20 00:01:00             No    No              No             Yes  \n",
       "2018-10-20 00:01:00             No    No              No             Yes  "
      ]
     },
     "execution_count": 49,
     "metadata": {},
     "output_type": "execute_result"
    }
   ],
   "source": [
    "#data[data['Alcohol']=='Yes'].index\n",
    "data.loc['2018-10-20 00:01:00',['SubAgency','Description','Accident','Belts','Personal Injury','Property Damage']]"
   ]
  }
 ],
 "metadata": {
  "kernelspec": {
   "display_name": "Python 3",
   "language": "python",
   "name": "python3"
  },
  "language_info": {
   "codemirror_mode": {
    "name": "ipython",
    "version": 3
   },
   "file_extension": ".py",
   "mimetype": "text/x-python",
   "name": "python",
   "nbconvert_exporter": "python",
   "pygments_lexer": "ipython3",
   "version": "3.7.0"
  }
 },
 "nbformat": 4,
 "nbformat_minor": 2
}
