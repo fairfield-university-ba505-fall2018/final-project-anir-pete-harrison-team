{
 "cells": [
  {
   "cell_type": "markdown",
   "metadata": {},
   "source": [
    "# **Traffic Violations Final BA 505 Project**\n",
    "## Created By Peter Groglio, Anir Chakraborty, Harrison Buzzi\n",
    "### Presented On December 4th, 2018\n",
    "\n",
    "Based on Data From: Montgomery County of Maryland\n",
    "<https://catalog.data.gov/dataset/traffic-violations-56dda>"
   ]
  },
  {
   "cell_type": "code",
   "execution_count": 9,
   "metadata": {},
   "outputs": [],
   "source": [
    "#Import The NumPy, Pandas, And Matplotlib Libraries With Aliases\n",
    "import numpy as np\n",
    "import pandas as pd\n",
    "import matplotlib.pyplot as plt"
   ]
  },
  {
   "cell_type": "code",
   "execution_count": 14,
   "metadata": {},
   "outputs": [],
   "source": [
    "#Read The Data From File And Create DataFrame\n",
    "traffic=pd.read_csv(\"Traffic_Violations (1).csv\"\n",
    ",parse_dates=['Date Of Stop', 'Time Of Stop'])\n",
    "\n",
    "#Replace Missing Values\n",
    "traffic.replace([\"NaN\",'NaT'],np.nan,inplace=True)\n",
    "traffic=traffic.dropna()"
   ]
  },
  {
   "cell_type": "code",
   "execution_count": 12,
   "metadata": {},
   "outputs": [
    {
     "data": {
      "text/html": [
       "<div>\n",
       "<style scoped>\n",
       "    .dataframe tbody tr th:only-of-type {\n",
       "        vertical-align: middle;\n",
       "    }\n",
       "\n",
       "    .dataframe tbody tr th {\n",
       "        vertical-align: top;\n",
       "    }\n",
       "\n",
       "    .dataframe thead th {\n",
       "        text-align: right;\n",
       "    }\n",
       "</style>\n",
       "<table border=\"1\" class=\"dataframe\">\n",
       "  <thead>\n",
       "    <tr style=\"text-align: right;\">\n",
       "      <th></th>\n",
       "      <th>Date Of Stop</th>\n",
       "      <th>Time Of Stop</th>\n",
       "      <th>Agency</th>\n",
       "      <th>SubAgency</th>\n",
       "      <th>Description</th>\n",
       "      <th>Location</th>\n",
       "      <th>Latitude</th>\n",
       "      <th>Longitude</th>\n",
       "      <th>Accident</th>\n",
       "      <th>Belts</th>\n",
       "      <th>...</th>\n",
       "      <th>Charge</th>\n",
       "      <th>Article</th>\n",
       "      <th>Contributed To Accident</th>\n",
       "      <th>Race</th>\n",
       "      <th>Gender</th>\n",
       "      <th>Driver City</th>\n",
       "      <th>Driver State</th>\n",
       "      <th>DL State</th>\n",
       "      <th>Arrest Type</th>\n",
       "      <th>Geolocation</th>\n",
       "    </tr>\n",
       "  </thead>\n",
       "  <tbody>\n",
       "    <tr>\n",
       "      <th>1</th>\n",
       "      <td>2017-08-29</td>\n",
       "      <td>2018-11-24 10:19:00</td>\n",
       "      <td>MCP</td>\n",
       "      <td>2nd district, Bethesda</td>\n",
       "      <td>DRIVER FAILURE TO OBEY PROPERLY PLACED TRAFFIC...</td>\n",
       "      <td>WISCONSIN AVE@ ELM ST</td>\n",
       "      <td>38.981725</td>\n",
       "      <td>-77.092757</td>\n",
       "      <td>No</td>\n",
       "      <td>No</td>\n",
       "      <td>...</td>\n",
       "      <td>21-201(a1)</td>\n",
       "      <td>Transportation Article</td>\n",
       "      <td>No</td>\n",
       "      <td>WHITE</td>\n",
       "      <td>F</td>\n",
       "      <td>FAIRFAX STATION</td>\n",
       "      <td>VA</td>\n",
       "      <td>VA</td>\n",
       "      <td>A - Marked Patrol</td>\n",
       "      <td>(38.981725, -77.0927566666667)</td>\n",
       "    </tr>\n",
       "    <tr>\n",
       "      <th>2</th>\n",
       "      <td>2014-12-01</td>\n",
       "      <td>2018-11-24 12:52:00</td>\n",
       "      <td>MCP</td>\n",
       "      <td>6th district, Gaithersburg / Montgomery Village</td>\n",
       "      <td>FAILURE STOP AND YIELD AT THRU HWY</td>\n",
       "      <td>CHRISTOPHER AVE/MONTGOMERY VILLAGE AVE</td>\n",
       "      <td>39.162888</td>\n",
       "      <td>-77.229088</td>\n",
       "      <td>No</td>\n",
       "      <td>No</td>\n",
       "      <td>...</td>\n",
       "      <td>21-403(b)</td>\n",
       "      <td>Transportation Article</td>\n",
       "      <td>No</td>\n",
       "      <td>BLACK</td>\n",
       "      <td>F</td>\n",
       "      <td>UPPER MARLBORO</td>\n",
       "      <td>MD</td>\n",
       "      <td>MD</td>\n",
       "      <td>A - Marked Patrol</td>\n",
       "      <td>(39.1628883333333, -77.2290883333333)</td>\n",
       "    </tr>\n",
       "    <tr>\n",
       "      <th>3</th>\n",
       "      <td>2017-08-29</td>\n",
       "      <td>2018-11-24 09:22:00</td>\n",
       "      <td>MCP</td>\n",
       "      <td>3rd district, Silver Spring</td>\n",
       "      <td>FAILURE YIELD RIGHT OF WAY ON U TURN</td>\n",
       "      <td>CHERRY HILL RD./CALVERTON BLVD.</td>\n",
       "      <td>39.056975</td>\n",
       "      <td>-76.954633</td>\n",
       "      <td>No</td>\n",
       "      <td>No</td>\n",
       "      <td>...</td>\n",
       "      <td>21-402(b)</td>\n",
       "      <td>Transportation Article</td>\n",
       "      <td>No</td>\n",
       "      <td>BLACK</td>\n",
       "      <td>M</td>\n",
       "      <td>FORT WASHINGTON</td>\n",
       "      <td>MD</td>\n",
       "      <td>MD</td>\n",
       "      <td>A - Marked Patrol</td>\n",
       "      <td>(39.056975, -76.9546333333333)</td>\n",
       "    </tr>\n",
       "    <tr>\n",
       "      <th>6</th>\n",
       "      <td>2013-10-08</td>\n",
       "      <td>2018-11-24 13:23:00</td>\n",
       "      <td>MCP</td>\n",
       "      <td>4th district, Wheaton</td>\n",
       "      <td>DRIVING VEHICLE ON HIGHWAY WITH SUSPENDED REGI...</td>\n",
       "      <td>GEORGIA AVE / BEL PRE RD</td>\n",
       "      <td>39.093383</td>\n",
       "      <td>-77.079552</td>\n",
       "      <td>No</td>\n",
       "      <td>No</td>\n",
       "      <td>...</td>\n",
       "      <td>13-401(h)</td>\n",
       "      <td>Transportation Article</td>\n",
       "      <td>No</td>\n",
       "      <td>HISPANIC</td>\n",
       "      <td>M</td>\n",
       "      <td>BELTSVILLE</td>\n",
       "      <td>MD</td>\n",
       "      <td>MD</td>\n",
       "      <td>A - Marked Patrol</td>\n",
       "      <td>(39.0933833333333, -77.0795516666667)</td>\n",
       "    </tr>\n",
       "    <tr>\n",
       "      <th>10</th>\n",
       "      <td>2014-02-14</td>\n",
       "      <td>2018-11-24 20:10:00</td>\n",
       "      <td>MCP</td>\n",
       "      <td>1st district, Rockville</td>\n",
       "      <td>FAILURE TO DRIVE ON RIGHT HAND ROADWAY OF DIVI...</td>\n",
       "      <td>GATEWAY CENTER DR @ CLARKSBURG RD</td>\n",
       "      <td>39.234843</td>\n",
       "      <td>-77.281540</td>\n",
       "      <td>No</td>\n",
       "      <td>No</td>\n",
       "      <td>...</td>\n",
       "      <td>21-311(1)</td>\n",
       "      <td>Transportation Article</td>\n",
       "      <td>No</td>\n",
       "      <td>WHITE</td>\n",
       "      <td>M</td>\n",
       "      <td>POINT OF ROCK</td>\n",
       "      <td>MD</td>\n",
       "      <td>WV</td>\n",
       "      <td>A - Marked Patrol</td>\n",
       "      <td>(39.2348434333333, -77.28153995)</td>\n",
       "    </tr>\n",
       "  </tbody>\n",
       "</table>\n",
       "<p>5 rows × 35 columns</p>\n",
       "</div>"
      ],
      "text/plain": [
       "   Date Of Stop        Time Of Stop Agency  \\\n",
       "1    2017-08-29 2018-11-24 10:19:00    MCP   \n",
       "2    2014-12-01 2018-11-24 12:52:00    MCP   \n",
       "3    2017-08-29 2018-11-24 09:22:00    MCP   \n",
       "6    2013-10-08 2018-11-24 13:23:00    MCP   \n",
       "10   2014-02-14 2018-11-24 20:10:00    MCP   \n",
       "\n",
       "                                          SubAgency  \\\n",
       "1                            2nd district, Bethesda   \n",
       "2   6th district, Gaithersburg / Montgomery Village   \n",
       "3                       3rd district, Silver Spring   \n",
       "6                             4th district, Wheaton   \n",
       "10                          1st district, Rockville   \n",
       "\n",
       "                                          Description  \\\n",
       "1   DRIVER FAILURE TO OBEY PROPERLY PLACED TRAFFIC...   \n",
       "2                  FAILURE STOP AND YIELD AT THRU HWY   \n",
       "3                FAILURE YIELD RIGHT OF WAY ON U TURN   \n",
       "6   DRIVING VEHICLE ON HIGHWAY WITH SUSPENDED REGI...   \n",
       "10  FAILURE TO DRIVE ON RIGHT HAND ROADWAY OF DIVI...   \n",
       "\n",
       "                                  Location   Latitude  Longitude Accident  \\\n",
       "1                    WISCONSIN AVE@ ELM ST  38.981725 -77.092757       No   \n",
       "2   CHRISTOPHER AVE/MONTGOMERY VILLAGE AVE  39.162888 -77.229088       No   \n",
       "3          CHERRY HILL RD./CALVERTON BLVD.  39.056975 -76.954633       No   \n",
       "6                 GEORGIA AVE / BEL PRE RD  39.093383 -77.079552       No   \n",
       "10       GATEWAY CENTER DR @ CLARKSBURG RD  39.234843 -77.281540       No   \n",
       "\n",
       "   Belts                  ...                        Charge  \\\n",
       "1     No                  ...                    21-201(a1)   \n",
       "2     No                  ...                     21-403(b)   \n",
       "3     No                  ...                     21-402(b)   \n",
       "6     No                  ...                     13-401(h)   \n",
       "10    No                  ...                     21-311(1)   \n",
       "\n",
       "                   Article Contributed To Accident      Race Gender  \\\n",
       "1   Transportation Article                      No     WHITE      F   \n",
       "2   Transportation Article                      No     BLACK      F   \n",
       "3   Transportation Article                      No     BLACK      M   \n",
       "6   Transportation Article                      No  HISPANIC      M   \n",
       "10  Transportation Article                      No     WHITE      M   \n",
       "\n",
       "        Driver City Driver State DL State        Arrest Type  \\\n",
       "1   FAIRFAX STATION           VA       VA  A - Marked Patrol   \n",
       "2    UPPER MARLBORO           MD       MD  A - Marked Patrol   \n",
       "3   FORT WASHINGTON           MD       MD  A - Marked Patrol   \n",
       "6        BELTSVILLE           MD       MD  A - Marked Patrol   \n",
       "10    POINT OF ROCK           MD       WV  A - Marked Patrol   \n",
       "\n",
       "                              Geolocation  \n",
       "1          (38.981725, -77.0927566666667)  \n",
       "2   (39.1628883333333, -77.2290883333333)  \n",
       "3          (39.056975, -76.9546333333333)  \n",
       "6   (39.0933833333333, -77.0795516666667)  \n",
       "10       (39.2348434333333, -77.28153995)  \n",
       "\n",
       "[5 rows x 35 columns]"
      ]
     },
     "execution_count": 12,
     "metadata": {},
     "output_type": "execute_result"
    }
   ],
   "source": [
    "#Preview The First Few Lines\n",
    "traffic.head()"
   ]
  },
  {
   "cell_type": "code",
   "execution_count": 25,
   "metadata": {},
   "outputs": [
    {
     "data": {
      "text/plain": [
       "0   2015-03-17\n",
       "dtype: datetime64[ns]"
      ]
     },
     "execution_count": 25,
     "metadata": {},
     "output_type": "execute_result"
    }
   ],
   "source": [
    "#Mode Of Date Of Stop To Find The Date That Had The Most Stops\n",
    "traffic.loc[:,\"Date Of Stop\"].mode()"
   ]
  },
  {
   "cell_type": "code",
   "execution_count": 26,
   "metadata": {},
   "outputs": [
    {
     "name": "stdout",
     "output_type": "stream",
     "text": [
      "     March 2017\n",
      "Su Mo Tu We Th Fr Sa\n",
      "          1  2  3  4\n",
      " 5  6  7  8  9 10 11\n",
      "12 13 14 15 16 17 18\n",
      "19 20 21 22 23 24 25\n",
      "26 27 28 29 30 31\n",
      "\n"
     ]
    }
   ],
   "source": [
    "#View The Month Of March In 2017 Visually\n",
    "import calendar\n",
    "c=calendar.TextCalendar(calendar.SUNDAY)\n",
    "str=c.formatmonth(2017,3)\n",
    "print(str)"
   ]
  },
  {
   "cell_type": "markdown",
   "metadata": {},
   "source": [
    "This shows that **March 17, 2017** was the date that the most stops occured. We hypothesized that maybe Thanksgiving or Christmas Eve would be the day with the most violations due to drinking from holliday parties and increase in traveling. This result does still meet our hypothesis in a way since this was the date of *St.Patrick's Day* in 2017. "
   ]
  },
  {
   "cell_type": "code",
   "execution_count": 32,
   "metadata": {},
   "outputs": [],
   "source": [
    "#Find What Time Of The Day Most Stops Happen During\n",
    "\n",
    "\n",
    "\n",
    "\n"
   ]
  },
  {
   "cell_type": "markdown",
   "metadata": {},
   "source": [
    "Our hypothesis is most violations occur between the hours of **7 AM - 9 AM** during people's morning work commutes."
   ]
  },
  {
   "cell_type": "code",
   "execution_count": 31,
   "metadata": {},
   "outputs": [
    {
     "data": {
      "text/plain": [
       "array(['2nd district, Bethesda',\n",
       "       '6th district, Gaithersburg / Montgomery Village',\n",
       "       '3rd district, Silver Spring', '4th district, Wheaton',\n",
       "       '1st district, Rockville', '5th district, Germantown',\n",
       "       'Headquarters and Special Operations'], dtype=object)"
      ]
     },
     "execution_count": 31,
     "metadata": {},
     "output_type": "execute_result"
    }
   ],
   "source": [
    "#List The Unique Values In The SubAgency Column To See All Possible Values\n",
    "traffic.SubAgency.unique()"
   ]
  },
  {
   "cell_type": "code",
   "execution_count": 33,
   "metadata": {},
   "outputs": [],
   "source": [
    "#Find Which SubAgency Was Responsible For The Most Stops\n",
    "\n",
    "\n",
    "\n",
    "\n"
   ]
  },
  {
   "cell_type": "code",
   "execution_count": 34,
   "metadata": {},
   "outputs": [],
   "source": [
    "#From The Description Column, Pull Out Key Words And Score Them \n",
    "#\"Alcohol\" For DUI's Gets A -5 Score\n",
    "#\"Expired License\" Gets A -2\n",
    "#Add Up Score Totals To See The Worst Ranked Violations According To Our Scoring Model)\n",
    "\n",
    "\n",
    "\n",
    "\n"
   ]
  },
  {
   "cell_type": "code",
   "execution_count": null,
   "metadata": {},
   "outputs": [],
   "source": [
    "#Which Locations Have The Most Violations\n",
    "\n",
    "\n",
    "\n",
    "\n",
    "\n"
   ]
  },
  {
   "cell_type": "markdown",
   "metadata": {},
   "source": [
    "We propose Montgomery County do something to fix these locations found above to help improve the community."
   ]
  },
  {
   "cell_type": "code",
   "execution_count": 35,
   "metadata": {},
   "outputs": [],
   "source": [
    "#See What Vehicle Models Have More violations Than Others\n",
    "\n",
    "\n",
    "\n",
    "\n",
    "\n",
    "#See What Vehicle Year Have More Violations Than Others\n",
    "\n",
    "\n",
    "\n",
    "\n"
   ]
  },
  {
   "cell_type": "markdown",
   "metadata": {},
   "source": [
    "We believe the older the car, the more likely they are to have a violations, maybe there was a malfunction with their car."
   ]
  }
 ],
 "metadata": {
  "kernelspec": {
   "display_name": "Python 3",
   "language": "python",
   "name": "python3"
  },
  "language_info": {
   "codemirror_mode": {
    "name": "ipython",
    "version": 3
   },
   "file_extension": ".py",
   "mimetype": "text/x-python",
   "name": "python",
   "nbconvert_exporter": "python",
   "pygments_lexer": "ipython3",
   "version": "3.7.0"
  }
 },
 "nbformat": 4,
 "nbformat_minor": 2
}
