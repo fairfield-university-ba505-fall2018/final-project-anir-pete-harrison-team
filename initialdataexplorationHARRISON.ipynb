{
 "cells": [
  {
   "cell_type": "markdown",
   "metadata": {},
   "source": [
    "<img align=\"left\" width=\"300\" height=\"300\" src=\"img/dolan.png\">\n",
    "\n",
    "# Exploratory Data Analysis (EDA) using Python\n",
    "<span style=\"color:darkblue\">This Jupyter notebook is submitted by Anir Chakraborty, Peter Groglio and Harrison Buuzzi on Dec-04-2018 as the final project in partial fulfillment of the requirements for **BA 505, Python for Analytics** at the Dolan School of Business Fairfield University, 2017-2019. \n",
    "\n",
    "<span style=\"color:darkblue\">The project objectives are threefold, as outlined in the course agenda:\n",
    "Apply Python skills to a student-selected analytical project of moderate (but nontrivial) scope and complexity, demonstrate mastery of Python, NumPy, Pandas, Matplolib, Jupyter, GitHub and finally to work in teams, with professional-quality tools and standards.\n",
    "\n",
    "<span style=\"color:darkblue\">Additionally, the Jupyter notebook here shares the source of data , tries to preprocess the data to do basic exploratory data analysis (EDA), highlights probable research questions, the challenges anticipated and finally visualizes the results through matplotlib and seaborn libraries, all pieces tying together telling a story."
   ]
  },
  {
   "cell_type": "markdown",
   "metadata": {},
   "source": [
    "\n",
    "#### Data Source \n",
    "https://catalog.data.gov/dataset/traffic-violations-56dda <span style=\"color:darkblue\">The dataset contains traffic violation information from all electronic traffic violations issued in the Montgomery County of Maryland. Any information that can be used to uniquely identify the vehicle, the vehicle owner or the officer issuing the violation is not published. This dataset is intended for public access and use."
   ]
  },
  {
   "cell_type": "markdown",
   "metadata": {},
   "source": [
    "<span style=\"color:darkblue\"> Import all necessary packages and modules. The IPCompleter.greedy configuration enables intellisense in the Jupyter notebook. The matlplotlib inline function renders the plot within the Jupyter notebook."
   ]
  },
  {
   "cell_type": "code",
   "execution_count": 1,
   "metadata": {},
   "outputs": [
    {
     "name": "stderr",
     "output_type": "stream",
     "text": [
      "/anaconda3/lib/python3.6/site-packages/matplotlib/font_manager.py:278: UserWarning: Matplotlib is building the font cache using fc-list. This may take a moment.\n",
      "  'Matplotlib is building the font cache using fc-list. '\n"
     ]
    }
   ],
   "source": [
    "import pandas as pd\n",
    "import numpy as np\n",
    "import matplotlib.pyplot as plt\n",
    "import seaborn as sns\n",
    "\n",
    "%config IPCompleter.greedy=True\n",
    "%matplotlib inline"
   ]
  },
  {
   "cell_type": "markdown",
   "metadata": {},
   "source": [
    "<span style=\"color:darkblue\">A folder/dir *ba500package* is created as part of the project reproducibility feature, that includes a __init__.py file (to let Python know that ba500 is a package, and the data.py module containing the data retrieval function. The function downloads the huge data file only once , in the event it is not present in the data folder. (See Ref [2]). Quick preview of the first 5 rows of the data set with the head() method"
   ]
  },
  {
   "cell_type": "markdown",
   "metadata": {},
   "source": [
    "#### Load Dataset\n",
    "<span style=\"color:darkblue\"> The first download takes a bit of a time partly because there are 1.5 million rows in the dataset, and also due to the fact that it's parsing the date_of_stop and time_of_stop columns as datetimes row by row. There were examples in the Ref[2] article that said converting to datetime later after creating the index as is, considerably speeded the process."
   ]
  },
  {
   "cell_type": "code",
   "execution_count": 4,
   "metadata": {},
   "outputs": [
    {
     "data": {
      "text/html": [
       "<div>\n",
       "<style scoped>\n",
       "    .dataframe tbody tr th:only-of-type {\n",
       "        vertical-align: middle;\n",
       "    }\n",
       "\n",
       "    .dataframe tbody tr th {\n",
       "        vertical-align: top;\n",
       "    }\n",
       "\n",
       "    .dataframe thead th {\n",
       "        text-align: right;\n",
       "    }\n",
       "</style>\n",
       "<table border=\"1\" class=\"dataframe\">\n",
       "  <thead>\n",
       "    <tr style=\"text-align: right;\">\n",
       "      <th></th>\n",
       "      <th>Agency</th>\n",
       "      <th>SubAgency</th>\n",
       "      <th>Description</th>\n",
       "      <th>Location</th>\n",
       "      <th>Latitude</th>\n",
       "      <th>Longitude</th>\n",
       "      <th>Accident</th>\n",
       "      <th>Belts</th>\n",
       "      <th>Personal Injury</th>\n",
       "      <th>Property Damage</th>\n",
       "      <th>...</th>\n",
       "      <th>Charge</th>\n",
       "      <th>Article</th>\n",
       "      <th>Contributed To Accident</th>\n",
       "      <th>Race</th>\n",
       "      <th>Gender</th>\n",
       "      <th>Driver City</th>\n",
       "      <th>Driver State</th>\n",
       "      <th>DL State</th>\n",
       "      <th>Arrest Type</th>\n",
       "      <th>Geolocation</th>\n",
       "    </tr>\n",
       "    <tr>\n",
       "      <th>Date Of Stop_Time Of Stop</th>\n",
       "      <th></th>\n",
       "      <th></th>\n",
       "      <th></th>\n",
       "      <th></th>\n",
       "      <th></th>\n",
       "      <th></th>\n",
       "      <th></th>\n",
       "      <th></th>\n",
       "      <th></th>\n",
       "      <th></th>\n",
       "      <th></th>\n",
       "      <th></th>\n",
       "      <th></th>\n",
       "      <th></th>\n",
       "      <th></th>\n",
       "      <th></th>\n",
       "      <th></th>\n",
       "      <th></th>\n",
       "      <th></th>\n",
       "      <th></th>\n",
       "      <th></th>\n",
       "    </tr>\n",
       "  </thead>\n",
       "  <tbody>\n",
       "    <tr>\n",
       "      <th>2013-09-24 17:11:00</th>\n",
       "      <td>MCP</td>\n",
       "      <td>3rd district, Silver Spring</td>\n",
       "      <td>DRIVING VEHICLE ON HIGHWAY WITH SUSPENDED REGI...</td>\n",
       "      <td>8804 FLOWER AVE</td>\n",
       "      <td>NaN</td>\n",
       "      <td>NaN</td>\n",
       "      <td>No</td>\n",
       "      <td>No</td>\n",
       "      <td>No</td>\n",
       "      <td>No</td>\n",
       "      <td>...</td>\n",
       "      <td>13-401(h)</td>\n",
       "      <td>Transportation Article</td>\n",
       "      <td>No</td>\n",
       "      <td>BLACK</td>\n",
       "      <td>M</td>\n",
       "      <td>TAKOMA PARK</td>\n",
       "      <td>MD</td>\n",
       "      <td>MD</td>\n",
       "      <td>A - Marked Patrol</td>\n",
       "      <td>NaN</td>\n",
       "    </tr>\n",
       "    <tr>\n",
       "      <th>2017-08-29 10:19:00</th>\n",
       "      <td>MCP</td>\n",
       "      <td>2nd district, Bethesda</td>\n",
       "      <td>DRIVER FAILURE TO OBEY PROPERLY PLACED TRAFFIC...</td>\n",
       "      <td>WISCONSIN AVE@ ELM ST</td>\n",
       "      <td>38.981725</td>\n",
       "      <td>-77.092757</td>\n",
       "      <td>No</td>\n",
       "      <td>No</td>\n",
       "      <td>No</td>\n",
       "      <td>No</td>\n",
       "      <td>...</td>\n",
       "      <td>21-201(a1)</td>\n",
       "      <td>Transportation Article</td>\n",
       "      <td>No</td>\n",
       "      <td>WHITE</td>\n",
       "      <td>F</td>\n",
       "      <td>FAIRFAX STATION</td>\n",
       "      <td>VA</td>\n",
       "      <td>VA</td>\n",
       "      <td>A - Marked Patrol</td>\n",
       "      <td>(38.981725, -77.0927566666667)</td>\n",
       "    </tr>\n",
       "    <tr>\n",
       "      <th>2014-12-01 12:52:00</th>\n",
       "      <td>MCP</td>\n",
       "      <td>6th district, Gaithersburg / Montgomery Village</td>\n",
       "      <td>FAILURE STOP AND YIELD AT THRU HWY</td>\n",
       "      <td>CHRISTOPHER AVE/MONTGOMERY VILLAGE AVE</td>\n",
       "      <td>39.162888</td>\n",
       "      <td>-77.229088</td>\n",
       "      <td>No</td>\n",
       "      <td>No</td>\n",
       "      <td>No</td>\n",
       "      <td>Yes</td>\n",
       "      <td>...</td>\n",
       "      <td>21-403(b)</td>\n",
       "      <td>Transportation Article</td>\n",
       "      <td>No</td>\n",
       "      <td>BLACK</td>\n",
       "      <td>F</td>\n",
       "      <td>UPPER MARLBORO</td>\n",
       "      <td>MD</td>\n",
       "      <td>MD</td>\n",
       "      <td>A - Marked Patrol</td>\n",
       "      <td>(39.1628883333333, -77.2290883333333)</td>\n",
       "    </tr>\n",
       "    <tr>\n",
       "      <th>2017-08-29 09:22:00</th>\n",
       "      <td>MCP</td>\n",
       "      <td>3rd district, Silver Spring</td>\n",
       "      <td>FAILURE YIELD RIGHT OF WAY ON U TURN</td>\n",
       "      <td>CHERRY HILL RD./CALVERTON BLVD.</td>\n",
       "      <td>39.056975</td>\n",
       "      <td>-76.954633</td>\n",
       "      <td>No</td>\n",
       "      <td>No</td>\n",
       "      <td>No</td>\n",
       "      <td>Yes</td>\n",
       "      <td>...</td>\n",
       "      <td>21-402(b)</td>\n",
       "      <td>Transportation Article</td>\n",
       "      <td>No</td>\n",
       "      <td>BLACK</td>\n",
       "      <td>M</td>\n",
       "      <td>FORT WASHINGTON</td>\n",
       "      <td>MD</td>\n",
       "      <td>MD</td>\n",
       "      <td>A - Marked Patrol</td>\n",
       "      <td>(39.056975, -76.9546333333333)</td>\n",
       "    </tr>\n",
       "    <tr>\n",
       "      <th>2017-08-28 23:41:00</th>\n",
       "      <td>MCP</td>\n",
       "      <td>6th district, Gaithersburg / Montgomery Village</td>\n",
       "      <td>FAILURE OF DR. TO MAKE LANE CHANGE TO AVAIL. L...</td>\n",
       "      <td>355 @ SOUTH WESTLAND DRIVE</td>\n",
       "      <td>NaN</td>\n",
       "      <td>NaN</td>\n",
       "      <td>No</td>\n",
       "      <td>No</td>\n",
       "      <td>No</td>\n",
       "      <td>No</td>\n",
       "      <td>...</td>\n",
       "      <td>21-405(e1)</td>\n",
       "      <td>Transportation Article</td>\n",
       "      <td>No</td>\n",
       "      <td>WHITE</td>\n",
       "      <td>M</td>\n",
       "      <td>GAITHERSBURG</td>\n",
       "      <td>MD</td>\n",
       "      <td>MD</td>\n",
       "      <td>A - Marked Patrol</td>\n",
       "      <td>NaN</td>\n",
       "    </tr>\n",
       "  </tbody>\n",
       "</table>\n",
       "<p>5 rows × 33 columns</p>\n",
       "</div>"
      ],
      "text/plain": [
       "                          Agency  \\\n",
       "Date Of Stop_Time Of Stop          \n",
       "2013-09-24 17:11:00          MCP   \n",
       "2017-08-29 10:19:00          MCP   \n",
       "2014-12-01 12:52:00          MCP   \n",
       "2017-08-29 09:22:00          MCP   \n",
       "2017-08-28 23:41:00          MCP   \n",
       "\n",
       "                                                                 SubAgency  \\\n",
       "Date Of Stop_Time Of Stop                                                    \n",
       "2013-09-24 17:11:00                            3rd district, Silver Spring   \n",
       "2017-08-29 10:19:00                                 2nd district, Bethesda   \n",
       "2014-12-01 12:52:00        6th district, Gaithersburg / Montgomery Village   \n",
       "2017-08-29 09:22:00                            3rd district, Silver Spring   \n",
       "2017-08-28 23:41:00        6th district, Gaithersburg / Montgomery Village   \n",
       "\n",
       "                                                                 Description  \\\n",
       "Date Of Stop_Time Of Stop                                                      \n",
       "2013-09-24 17:11:00        DRIVING VEHICLE ON HIGHWAY WITH SUSPENDED REGI...   \n",
       "2017-08-29 10:19:00        DRIVER FAILURE TO OBEY PROPERLY PLACED TRAFFIC...   \n",
       "2014-12-01 12:52:00                       FAILURE STOP AND YIELD AT THRU HWY   \n",
       "2017-08-29 09:22:00                     FAILURE YIELD RIGHT OF WAY ON U TURN   \n",
       "2017-08-28 23:41:00        FAILURE OF DR. TO MAKE LANE CHANGE TO AVAIL. L...   \n",
       "\n",
       "                                                         Location   Latitude  \\\n",
       "Date Of Stop_Time Of Stop                                                      \n",
       "2013-09-24 17:11:00                               8804 FLOWER AVE        NaN   \n",
       "2017-08-29 10:19:00                         WISCONSIN AVE@ ELM ST  38.981725   \n",
       "2014-12-01 12:52:00        CHRISTOPHER AVE/MONTGOMERY VILLAGE AVE  39.162888   \n",
       "2017-08-29 09:22:00               CHERRY HILL RD./CALVERTON BLVD.  39.056975   \n",
       "2017-08-28 23:41:00                    355 @ SOUTH WESTLAND DRIVE        NaN   \n",
       "\n",
       "                           Longitude Accident Belts Personal Injury  \\\n",
       "Date Of Stop_Time Of Stop                                             \n",
       "2013-09-24 17:11:00              NaN       No    No              No   \n",
       "2017-08-29 10:19:00       -77.092757       No    No              No   \n",
       "2014-12-01 12:52:00       -77.229088       No    No              No   \n",
       "2017-08-29 09:22:00       -76.954633       No    No              No   \n",
       "2017-08-28 23:41:00              NaN       No    No              No   \n",
       "\n",
       "                          Property Damage  \\\n",
       "Date Of Stop_Time Of Stop                   \n",
       "2013-09-24 17:11:00                    No   \n",
       "2017-08-29 10:19:00                    No   \n",
       "2014-12-01 12:52:00                   Yes   \n",
       "2017-08-29 09:22:00                   Yes   \n",
       "2017-08-28 23:41:00                    No   \n",
       "\n",
       "                                           ...                        Charge  \\\n",
       "Date Of Stop_Time Of Stop                  ...                                 \n",
       "2013-09-24 17:11:00                        ...                     13-401(h)   \n",
       "2017-08-29 10:19:00                        ...                    21-201(a1)   \n",
       "2014-12-01 12:52:00                        ...                     21-403(b)   \n",
       "2017-08-29 09:22:00                        ...                     21-402(b)   \n",
       "2017-08-28 23:41:00                        ...                    21-405(e1)   \n",
       "\n",
       "                                          Article Contributed To Accident  \\\n",
       "Date Of Stop_Time Of Stop                                                   \n",
       "2013-09-24 17:11:00        Transportation Article                      No   \n",
       "2017-08-29 10:19:00        Transportation Article                      No   \n",
       "2014-12-01 12:52:00        Transportation Article                      No   \n",
       "2017-08-29 09:22:00        Transportation Article                      No   \n",
       "2017-08-28 23:41:00        Transportation Article                      No   \n",
       "\n",
       "                            Race Gender      Driver City Driver State  \\\n",
       "Date Of Stop_Time Of Stop                                               \n",
       "2013-09-24 17:11:00        BLACK      M      TAKOMA PARK           MD   \n",
       "2017-08-29 10:19:00        WHITE      F  FAIRFAX STATION           VA   \n",
       "2014-12-01 12:52:00        BLACK      F   UPPER MARLBORO           MD   \n",
       "2017-08-29 09:22:00        BLACK      M  FORT WASHINGTON           MD   \n",
       "2017-08-28 23:41:00        WHITE      M     GAITHERSBURG           MD   \n",
       "\n",
       "                          DL State        Arrest Type  \\\n",
       "Date Of Stop_Time Of Stop                               \n",
       "2013-09-24 17:11:00             MD  A - Marked Patrol   \n",
       "2017-08-29 10:19:00             VA  A - Marked Patrol   \n",
       "2014-12-01 12:52:00             MD  A - Marked Patrol   \n",
       "2017-08-29 09:22:00             MD  A - Marked Patrol   \n",
       "2017-08-28 23:41:00             MD  A - Marked Patrol   \n",
       "\n",
       "                                                     Geolocation  \n",
       "Date Of Stop_Time Of Stop                                         \n",
       "2013-09-24 17:11:00                                          NaN  \n",
       "2017-08-29 10:19:00               (38.981725, -77.0927566666667)  \n",
       "2014-12-01 12:52:00        (39.1628883333333, -77.2290883333333)  \n",
       "2017-08-29 09:22:00               (39.056975, -76.9546333333333)  \n",
       "2017-08-28 23:41:00                                          NaN  \n",
       "\n",
       "[5 rows x 33 columns]"
      ]
     },
     "execution_count": 4,
     "metadata": {},
     "output_type": "execute_result"
    }
   ],
   "source": [
    "from ba500package.data import get_county_data\n",
    "\n",
    "data = get_county_data()\n",
    "data.head()"
   ]
  },
  {
   "cell_type": "markdown",
   "metadata": {},
   "source": [
    "#### Explore Data\n",
    "\n",
    "<span style=\"color:darkblue\"> List the available fields"
   ]
  },
  {
   "cell_type": "code",
   "execution_count": 5,
   "metadata": {},
   "outputs": [
    {
     "data": {
      "text/plain": [
       "Index(['Agency', 'SubAgency', 'Description', 'Location', 'Latitude',\n",
       "       'Longitude', 'Accident', 'Belts', 'Personal Injury', 'Property Damage',\n",
       "       'Fatal', 'Commercial License', 'HAZMAT', 'Commercial Vehicle',\n",
       "       'Alcohol', 'Work Zone', 'State', 'VehicleType', 'Year', 'Make', 'Model',\n",
       "       'Color', 'Violation Type', 'Charge', 'Article',\n",
       "       'Contributed To Accident', 'Race', 'Gender', 'Driver City',\n",
       "       'Driver State', 'DL State', 'Arrest Type', 'Geolocation'],\n",
       "      dtype='object')"
      ]
     },
     "execution_count": 5,
     "metadata": {},
     "output_type": "execute_result"
    }
   ],
   "source": [
    "data.columns"
   ]
  },
  {
   "cell_type": "markdown",
   "metadata": {},
   "source": [
    "#### Clean Data\n",
    "<span style=\"color:darkblue\">Get info of datatype and count of each column to determine what kind of data and how consistently populated the data is"
   ]
  },
  {
   "cell_type": "code",
   "execution_count": 6,
   "metadata": {},
   "outputs": [
    {
     "name": "stdout",
     "output_type": "stream",
     "text": [
      "<class 'pandas.core.frame.DataFrame'>\n",
      "DatetimeIndex: 1418223 entries, 2013-09-24 17:11:00 to 2018-11-26 11:33:00\n",
      "Data columns (total 33 columns):\n",
      "Agency                     1418223 non-null object\n",
      "SubAgency                  1418213 non-null object\n",
      "Description                1418214 non-null object\n",
      "Location                   1418221 non-null object\n",
      "Latitude                   1314870 non-null float64\n",
      "Longitude                  1314870 non-null float64\n",
      "Accident                   1418223 non-null object\n",
      "Belts                      1418223 non-null object\n",
      "Personal Injury            1418223 non-null object\n",
      "Property Damage            1418223 non-null object\n",
      "Fatal                      1418223 non-null object\n",
      "Commercial License         1418223 non-null object\n",
      "HAZMAT                     1418223 non-null object\n",
      "Commercial Vehicle         1418223 non-null object\n",
      "Alcohol                    1418223 non-null object\n",
      "Work Zone                  1418223 non-null object\n",
      "State                      1418164 non-null object\n",
      "VehicleType                1418223 non-null object\n",
      "Year                       1409560 non-null float64\n",
      "Make                       1418164 non-null object\n",
      "Model                      1418027 non-null object\n",
      "Color                      1401158 non-null object\n",
      "Violation Type             1418223 non-null object\n",
      "Charge                     1418223 non-null object\n",
      "Article                    1347604 non-null object\n",
      "Contributed To Accident    1418223 non-null object\n",
      "Race                       1418223 non-null object\n",
      "Gender                     1418223 non-null object\n",
      "Driver City                1417918 non-null object\n",
      "Driver State               1418212 non-null object\n",
      "DL State                   1417294 non-null object\n",
      "Arrest Type                1418223 non-null object\n",
      "Geolocation                1314870 non-null object\n",
      "dtypes: float64(3), object(30)\n",
      "memory usage: 367.9+ MB\n"
     ]
    }
   ],
   "source": [
    "data.info()"
   ]
  },
  {
   "cell_type": "markdown",
   "metadata": {},
   "source": [
    "<span style=\"color:darkblue\">Though the above *info* command tells you the missing rows, the **isnull()** function detrmines if there is any null data for each of the columns"
   ]
  },
  {
   "cell_type": "code",
   "execution_count": 7,
   "metadata": {},
   "outputs": [
    {
     "data": {
      "text/plain": [
       "Agency                     False\n",
       "SubAgency                   True\n",
       "Description                 True\n",
       "Location                    True\n",
       "Latitude                    True\n",
       "Longitude                   True\n",
       "Accident                   False\n",
       "Belts                      False\n",
       "Personal Injury            False\n",
       "Property Damage            False\n",
       "Fatal                      False\n",
       "Commercial License         False\n",
       "HAZMAT                     False\n",
       "Commercial Vehicle         False\n",
       "Alcohol                    False\n",
       "Work Zone                  False\n",
       "State                       True\n",
       "VehicleType                False\n",
       "Year                        True\n",
       "Make                        True\n",
       "Model                       True\n",
       "Color                       True\n",
       "Violation Type             False\n",
       "Charge                     False\n",
       "Article                     True\n",
       "Contributed To Accident    False\n",
       "Race                       False\n",
       "Gender                     False\n",
       "Driver City                 True\n",
       "Driver State                True\n",
       "DL State                    True\n",
       "Arrest Type                False\n",
       "Geolocation                 True\n",
       "dtype: bool"
      ]
     },
     "execution_count": 7,
     "metadata": {},
     "output_type": "execute_result"
    }
   ],
   "source": [
    "pd.isnull(data).any()"
   ]
  },
  {
   "cell_type": "code",
   "execution_count": 8,
   "metadata": {},
   "outputs": [
    {
     "data": {
      "text/html": [
       "<div>\n",
       "<style scoped>\n",
       "    .dataframe tbody tr th:only-of-type {\n",
       "        vertical-align: middle;\n",
       "    }\n",
       "\n",
       "    .dataframe tbody tr th {\n",
       "        vertical-align: top;\n",
       "    }\n",
       "\n",
       "    .dataframe thead th {\n",
       "        text-align: right;\n",
       "    }\n",
       "</style>\n",
       "<table border=\"1\" class=\"dataframe\">\n",
       "  <thead>\n",
       "    <tr style=\"text-align: right;\">\n",
       "      <th></th>\n",
       "      <th>Agency</th>\n",
       "      <th>SubAgency</th>\n",
       "      <th>Description</th>\n",
       "      <th>Location</th>\n",
       "      <th>Latitude</th>\n",
       "      <th>Longitude</th>\n",
       "      <th>Accident</th>\n",
       "      <th>Belts</th>\n",
       "      <th>Personal Injury</th>\n",
       "      <th>Geolocation</th>\n",
       "    </tr>\n",
       "    <tr>\n",
       "      <th>Date Of Stop_Time Of Stop</th>\n",
       "      <th></th>\n",
       "      <th></th>\n",
       "      <th></th>\n",
       "      <th></th>\n",
       "      <th></th>\n",
       "      <th></th>\n",
       "      <th></th>\n",
       "      <th></th>\n",
       "      <th></th>\n",
       "      <th></th>\n",
       "    </tr>\n",
       "  </thead>\n",
       "  <tbody>\n",
       "    <tr>\n",
       "      <th>2013-09-24 17:11:00</th>\n",
       "      <td>MCP</td>\n",
       "      <td>3rd district, Silver Spring</td>\n",
       "      <td>DRIVING VEHICLE ON HIGHWAY WITH SUSPENDED REGI...</td>\n",
       "      <td>8804 FLOWER AVE</td>\n",
       "      <td>NaN</td>\n",
       "      <td>NaN</td>\n",
       "      <td>No</td>\n",
       "      <td>No</td>\n",
       "      <td>No</td>\n",
       "      <td>NaN</td>\n",
       "    </tr>\n",
       "    <tr>\n",
       "      <th>2017-08-29 10:19:00</th>\n",
       "      <td>MCP</td>\n",
       "      <td>2nd district, Bethesda</td>\n",
       "      <td>DRIVER FAILURE TO OBEY PROPERLY PLACED TRAFFIC...</td>\n",
       "      <td>WISCONSIN AVE@ ELM ST</td>\n",
       "      <td>38.981725</td>\n",
       "      <td>-77.092757</td>\n",
       "      <td>No</td>\n",
       "      <td>No</td>\n",
       "      <td>No</td>\n",
       "      <td>(38.981725, -77.0927566666667)</td>\n",
       "    </tr>\n",
       "    <tr>\n",
       "      <th>2014-12-01 12:52:00</th>\n",
       "      <td>MCP</td>\n",
       "      <td>6th district, Gaithersburg / Montgomery Village</td>\n",
       "      <td>FAILURE STOP AND YIELD AT THRU HWY</td>\n",
       "      <td>CHRISTOPHER AVE/MONTGOMERY VILLAGE AVE</td>\n",
       "      <td>39.162888</td>\n",
       "      <td>-77.229088</td>\n",
       "      <td>No</td>\n",
       "      <td>No</td>\n",
       "      <td>No</td>\n",
       "      <td>(39.1628883333333, -77.2290883333333)</td>\n",
       "    </tr>\n",
       "    <tr>\n",
       "      <th>2017-08-29 09:22:00</th>\n",
       "      <td>MCP</td>\n",
       "      <td>3rd district, Silver Spring</td>\n",
       "      <td>FAILURE YIELD RIGHT OF WAY ON U TURN</td>\n",
       "      <td>CHERRY HILL RD./CALVERTON BLVD.</td>\n",
       "      <td>39.056975</td>\n",
       "      <td>-76.954633</td>\n",
       "      <td>No</td>\n",
       "      <td>No</td>\n",
       "      <td>No</td>\n",
       "      <td>(39.056975, -76.9546333333333)</td>\n",
       "    </tr>\n",
       "    <tr>\n",
       "      <th>2017-08-28 23:41:00</th>\n",
       "      <td>MCP</td>\n",
       "      <td>6th district, Gaithersburg / Montgomery Village</td>\n",
       "      <td>FAILURE OF DR. TO MAKE LANE CHANGE TO AVAIL. L...</td>\n",
       "      <td>355 @ SOUTH WESTLAND DRIVE</td>\n",
       "      <td>NaN</td>\n",
       "      <td>NaN</td>\n",
       "      <td>No</td>\n",
       "      <td>No</td>\n",
       "      <td>No</td>\n",
       "      <td>NaN</td>\n",
       "    </tr>\n",
       "  </tbody>\n",
       "</table>\n",
       "</div>"
      ],
      "text/plain": [
       "                          Agency  \\\n",
       "Date Of Stop_Time Of Stop          \n",
       "2013-09-24 17:11:00          MCP   \n",
       "2017-08-29 10:19:00          MCP   \n",
       "2014-12-01 12:52:00          MCP   \n",
       "2017-08-29 09:22:00          MCP   \n",
       "2017-08-28 23:41:00          MCP   \n",
       "\n",
       "                                                                 SubAgency  \\\n",
       "Date Of Stop_Time Of Stop                                                    \n",
       "2013-09-24 17:11:00                            3rd district, Silver Spring   \n",
       "2017-08-29 10:19:00                                 2nd district, Bethesda   \n",
       "2014-12-01 12:52:00        6th district, Gaithersburg / Montgomery Village   \n",
       "2017-08-29 09:22:00                            3rd district, Silver Spring   \n",
       "2017-08-28 23:41:00        6th district, Gaithersburg / Montgomery Village   \n",
       "\n",
       "                                                                 Description  \\\n",
       "Date Of Stop_Time Of Stop                                                      \n",
       "2013-09-24 17:11:00        DRIVING VEHICLE ON HIGHWAY WITH SUSPENDED REGI...   \n",
       "2017-08-29 10:19:00        DRIVER FAILURE TO OBEY PROPERLY PLACED TRAFFIC...   \n",
       "2014-12-01 12:52:00                       FAILURE STOP AND YIELD AT THRU HWY   \n",
       "2017-08-29 09:22:00                     FAILURE YIELD RIGHT OF WAY ON U TURN   \n",
       "2017-08-28 23:41:00        FAILURE OF DR. TO MAKE LANE CHANGE TO AVAIL. L...   \n",
       "\n",
       "                                                         Location   Latitude  \\\n",
       "Date Of Stop_Time Of Stop                                                      \n",
       "2013-09-24 17:11:00                               8804 FLOWER AVE        NaN   \n",
       "2017-08-29 10:19:00                         WISCONSIN AVE@ ELM ST  38.981725   \n",
       "2014-12-01 12:52:00        CHRISTOPHER AVE/MONTGOMERY VILLAGE AVE  39.162888   \n",
       "2017-08-29 09:22:00               CHERRY HILL RD./CALVERTON BLVD.  39.056975   \n",
       "2017-08-28 23:41:00                    355 @ SOUTH WESTLAND DRIVE        NaN   \n",
       "\n",
       "                           Longitude Accident Belts Personal Injury  \\\n",
       "Date Of Stop_Time Of Stop                                             \n",
       "2013-09-24 17:11:00              NaN       No    No              No   \n",
       "2017-08-29 10:19:00       -77.092757       No    No              No   \n",
       "2014-12-01 12:52:00       -77.229088       No    No              No   \n",
       "2017-08-29 09:22:00       -76.954633       No    No              No   \n",
       "2017-08-28 23:41:00              NaN       No    No              No   \n",
       "\n",
       "                                                     Geolocation  \n",
       "Date Of Stop_Time Of Stop                                         \n",
       "2013-09-24 17:11:00                                          NaN  \n",
       "2017-08-29 10:19:00               (38.981725, -77.0927566666667)  \n",
       "2014-12-01 12:52:00        (39.1628883333333, -77.2290883333333)  \n",
       "2017-08-29 09:22:00               (39.056975, -76.9546333333333)  \n",
       "2017-08-28 23:41:00                                          NaN  "
      ]
     },
     "execution_count": 8,
     "metadata": {},
     "output_type": "execute_result"
    }
   ],
   "source": [
    "data.iloc[:, list(range(9)) + [-1]].head()"
   ]
  },
  {
   "cell_type": "markdown",
   "metadata": {},
   "source": [
    "<span style=\"color:darkblue\">Drop rows with missing values. We can see that most columns have similar numbers of values besides Latitude, Longitude and Geolocation.We need to make a dtermination if we fill in the blanks with dummy values or drop those rows altogether. We should be careful that we rae not dropping importnt data points that might be needed for our analysis later on. But to keep things simple and due to the fact that we have almost 1.5 million rows, it will be best to have the exact same number of values for each field. We'll go ahead and make sure that every single cell has a value by doing a bulk dropna() function call."
   ]
  },
  {
   "cell_type": "code",
   "execution_count": 9,
   "metadata": {},
   "outputs": [],
   "source": [
    "data_clean= data.dropna()"
   ]
  },
  {
   "cell_type": "markdown",
   "metadata": {},
   "source": [
    "<span style=\"color:darkblue\"> Using **iloc** function look for the fields/columns not showing up through  head()"
   ]
  },
  {
   "cell_type": "code",
   "execution_count": 10,
   "metadata": {},
   "outputs": [
    {
     "data": {
      "text/html": [
       "<div>\n",
       "<style scoped>\n",
       "    .dataframe tbody tr th:only-of-type {\n",
       "        vertical-align: middle;\n",
       "    }\n",
       "\n",
       "    .dataframe tbody tr th {\n",
       "        vertical-align: top;\n",
       "    }\n",
       "\n",
       "    .dataframe thead th {\n",
       "        text-align: right;\n",
       "    }\n",
       "</style>\n",
       "<table border=\"1\" class=\"dataframe\">\n",
       "  <thead>\n",
       "    <tr style=\"text-align: right;\">\n",
       "      <th></th>\n",
       "      <th>Fatal</th>\n",
       "      <th>Commercial License</th>\n",
       "      <th>HAZMAT</th>\n",
       "      <th>Commercial Vehicle</th>\n",
       "      <th>Alcohol</th>\n",
       "      <th>Work Zone</th>\n",
       "      <th>State</th>\n",
       "      <th>VehicleType</th>\n",
       "      <th>Year</th>\n",
       "      <th>Make</th>\n",
       "      <th>Model</th>\n",
       "      <th>Color</th>\n",
       "      <th>Violation Type</th>\n",
       "    </tr>\n",
       "    <tr>\n",
       "      <th>Date Of Stop_Time Of Stop</th>\n",
       "      <th></th>\n",
       "      <th></th>\n",
       "      <th></th>\n",
       "      <th></th>\n",
       "      <th></th>\n",
       "      <th></th>\n",
       "      <th></th>\n",
       "      <th></th>\n",
       "      <th></th>\n",
       "      <th></th>\n",
       "      <th></th>\n",
       "      <th></th>\n",
       "      <th></th>\n",
       "    </tr>\n",
       "  </thead>\n",
       "  <tbody>\n",
       "    <tr>\n",
       "      <th>2013-09-24 17:11:00</th>\n",
       "      <td>No</td>\n",
       "      <td>No</td>\n",
       "      <td>No</td>\n",
       "      <td>No</td>\n",
       "      <td>No</td>\n",
       "      <td>No</td>\n",
       "      <td>MD</td>\n",
       "      <td>02 - Automobile</td>\n",
       "      <td>2008.0</td>\n",
       "      <td>FORD</td>\n",
       "      <td>4S</td>\n",
       "      <td>BLACK</td>\n",
       "      <td>Citation</td>\n",
       "    </tr>\n",
       "    <tr>\n",
       "      <th>2017-08-29 10:19:00</th>\n",
       "      <td>No</td>\n",
       "      <td>No</td>\n",
       "      <td>No</td>\n",
       "      <td>No</td>\n",
       "      <td>No</td>\n",
       "      <td>No</td>\n",
       "      <td>VA</td>\n",
       "      <td>02 - Automobile</td>\n",
       "      <td>2001.0</td>\n",
       "      <td>TOYOTA</td>\n",
       "      <td>COROLLA</td>\n",
       "      <td>GREEN</td>\n",
       "      <td>Citation</td>\n",
       "    </tr>\n",
       "    <tr>\n",
       "      <th>2014-12-01 12:52:00</th>\n",
       "      <td>No</td>\n",
       "      <td>No</td>\n",
       "      <td>No</td>\n",
       "      <td>No</td>\n",
       "      <td>No</td>\n",
       "      <td>No</td>\n",
       "      <td>MD</td>\n",
       "      <td>02 - Automobile</td>\n",
       "      <td>2001.0</td>\n",
       "      <td>HONDA</td>\n",
       "      <td>ACCORD</td>\n",
       "      <td>SILVER</td>\n",
       "      <td>Citation</td>\n",
       "    </tr>\n",
       "    <tr>\n",
       "      <th>2017-08-29 09:22:00</th>\n",
       "      <td>No</td>\n",
       "      <td>No</td>\n",
       "      <td>No</td>\n",
       "      <td>No</td>\n",
       "      <td>No</td>\n",
       "      <td>No</td>\n",
       "      <td>MD</td>\n",
       "      <td>02 - Automobile</td>\n",
       "      <td>1998.0</td>\n",
       "      <td>DODG</td>\n",
       "      <td>DAKOTA</td>\n",
       "      <td>WHITE</td>\n",
       "      <td>Citation</td>\n",
       "    </tr>\n",
       "    <tr>\n",
       "      <th>2017-08-28 23:41:00</th>\n",
       "      <td>No</td>\n",
       "      <td>No</td>\n",
       "      <td>No</td>\n",
       "      <td>No</td>\n",
       "      <td>No</td>\n",
       "      <td>No</td>\n",
       "      <td>MD</td>\n",
       "      <td>02 - Automobile</td>\n",
       "      <td>2015.0</td>\n",
       "      <td>MINI COOPER</td>\n",
       "      <td>2S</td>\n",
       "      <td>WHITE</td>\n",
       "      <td>Citation</td>\n",
       "    </tr>\n",
       "  </tbody>\n",
       "</table>\n",
       "</div>"
      ],
      "text/plain": [
       "                          Fatal Commercial License HAZMAT Commercial Vehicle  \\\n",
       "Date Of Stop_Time Of Stop                                                      \n",
       "2013-09-24 17:11:00          No                 No     No                 No   \n",
       "2017-08-29 10:19:00          No                 No     No                 No   \n",
       "2014-12-01 12:52:00          No                 No     No                 No   \n",
       "2017-08-29 09:22:00          No                 No     No                 No   \n",
       "2017-08-28 23:41:00          No                 No     No                 No   \n",
       "\n",
       "                          Alcohol Work Zone State      VehicleType    Year  \\\n",
       "Date Of Stop_Time Of Stop                                                    \n",
       "2013-09-24 17:11:00            No        No    MD  02 - Automobile  2008.0   \n",
       "2017-08-29 10:19:00            No        No    VA  02 - Automobile  2001.0   \n",
       "2014-12-01 12:52:00            No        No    MD  02 - Automobile  2001.0   \n",
       "2017-08-29 09:22:00            No        No    MD  02 - Automobile  1998.0   \n",
       "2017-08-28 23:41:00            No        No    MD  02 - Automobile  2015.0   \n",
       "\n",
       "                                  Make    Model   Color Violation Type  \n",
       "Date Of Stop_Time Of Stop                                               \n",
       "2013-09-24 17:11:00               FORD       4S   BLACK       Citation  \n",
       "2017-08-29 10:19:00             TOYOTA  COROLLA   GREEN       Citation  \n",
       "2014-12-01 12:52:00              HONDA   ACCORD  SILVER       Citation  \n",
       "2017-08-29 09:22:00               DODG   DAKOTA   WHITE       Citation  \n",
       "2017-08-28 23:41:00        MINI COOPER       2S   WHITE       Citation  "
      ]
     },
     "execution_count": 10,
     "metadata": {},
     "output_type": "execute_result"
    }
   ],
   "source": [
    "data.iloc[:,10:23].head()"
   ]
  },
  {
   "cell_type": "code",
   "execution_count": 11,
   "metadata": {},
   "outputs": [
    {
     "data": {
      "text/html": [
       "<div>\n",
       "<style scoped>\n",
       "    .dataframe tbody tr th:only-of-type {\n",
       "        vertical-align: middle;\n",
       "    }\n",
       "\n",
       "    .dataframe tbody tr th {\n",
       "        vertical-align: top;\n",
       "    }\n",
       "\n",
       "    .dataframe thead th {\n",
       "        text-align: right;\n",
       "    }\n",
       "</style>\n",
       "<table border=\"1\" class=\"dataframe\">\n",
       "  <thead>\n",
       "    <tr style=\"text-align: right;\">\n",
       "      <th></th>\n",
       "      <th>Charge</th>\n",
       "      <th>Article</th>\n",
       "      <th>Contributed To Accident</th>\n",
       "      <th>Race</th>\n",
       "      <th>Gender</th>\n",
       "      <th>Driver City</th>\n",
       "      <th>Driver State</th>\n",
       "      <th>DL State</th>\n",
       "      <th>Arrest Type</th>\n",
       "      <th>Geolocation</th>\n",
       "    </tr>\n",
       "    <tr>\n",
       "      <th>Date Of Stop_Time Of Stop</th>\n",
       "      <th></th>\n",
       "      <th></th>\n",
       "      <th></th>\n",
       "      <th></th>\n",
       "      <th></th>\n",
       "      <th></th>\n",
       "      <th></th>\n",
       "      <th></th>\n",
       "      <th></th>\n",
       "      <th></th>\n",
       "    </tr>\n",
       "  </thead>\n",
       "  <tbody>\n",
       "    <tr>\n",
       "      <th>2013-09-24 17:11:00</th>\n",
       "      <td>13-401(h)</td>\n",
       "      <td>Transportation Article</td>\n",
       "      <td>No</td>\n",
       "      <td>BLACK</td>\n",
       "      <td>M</td>\n",
       "      <td>TAKOMA PARK</td>\n",
       "      <td>MD</td>\n",
       "      <td>MD</td>\n",
       "      <td>A - Marked Patrol</td>\n",
       "      <td>NaN</td>\n",
       "    </tr>\n",
       "    <tr>\n",
       "      <th>2017-08-29 10:19:00</th>\n",
       "      <td>21-201(a1)</td>\n",
       "      <td>Transportation Article</td>\n",
       "      <td>No</td>\n",
       "      <td>WHITE</td>\n",
       "      <td>F</td>\n",
       "      <td>FAIRFAX STATION</td>\n",
       "      <td>VA</td>\n",
       "      <td>VA</td>\n",
       "      <td>A - Marked Patrol</td>\n",
       "      <td>(38.981725, -77.0927566666667)</td>\n",
       "    </tr>\n",
       "    <tr>\n",
       "      <th>2014-12-01 12:52:00</th>\n",
       "      <td>21-403(b)</td>\n",
       "      <td>Transportation Article</td>\n",
       "      <td>No</td>\n",
       "      <td>BLACK</td>\n",
       "      <td>F</td>\n",
       "      <td>UPPER MARLBORO</td>\n",
       "      <td>MD</td>\n",
       "      <td>MD</td>\n",
       "      <td>A - Marked Patrol</td>\n",
       "      <td>(39.1628883333333, -77.2290883333333)</td>\n",
       "    </tr>\n",
       "    <tr>\n",
       "      <th>2017-08-29 09:22:00</th>\n",
       "      <td>21-402(b)</td>\n",
       "      <td>Transportation Article</td>\n",
       "      <td>No</td>\n",
       "      <td>BLACK</td>\n",
       "      <td>M</td>\n",
       "      <td>FORT WASHINGTON</td>\n",
       "      <td>MD</td>\n",
       "      <td>MD</td>\n",
       "      <td>A - Marked Patrol</td>\n",
       "      <td>(39.056975, -76.9546333333333)</td>\n",
       "    </tr>\n",
       "    <tr>\n",
       "      <th>2017-08-28 23:41:00</th>\n",
       "      <td>21-405(e1)</td>\n",
       "      <td>Transportation Article</td>\n",
       "      <td>No</td>\n",
       "      <td>WHITE</td>\n",
       "      <td>M</td>\n",
       "      <td>GAITHERSBURG</td>\n",
       "      <td>MD</td>\n",
       "      <td>MD</td>\n",
       "      <td>A - Marked Patrol</td>\n",
       "      <td>NaN</td>\n",
       "    </tr>\n",
       "  </tbody>\n",
       "</table>\n",
       "</div>"
      ],
      "text/plain": [
       "                               Charge                 Article  \\\n",
       "Date Of Stop_Time Of Stop                                       \n",
       "2013-09-24 17:11:00         13-401(h)  Transportation Article   \n",
       "2017-08-29 10:19:00        21-201(a1)  Transportation Article   \n",
       "2014-12-01 12:52:00         21-403(b)  Transportation Article   \n",
       "2017-08-29 09:22:00         21-402(b)  Transportation Article   \n",
       "2017-08-28 23:41:00        21-405(e1)  Transportation Article   \n",
       "\n",
       "                          Contributed To Accident   Race Gender  \\\n",
       "Date Of Stop_Time Of Stop                                         \n",
       "2013-09-24 17:11:00                            No  BLACK      M   \n",
       "2017-08-29 10:19:00                            No  WHITE      F   \n",
       "2014-12-01 12:52:00                            No  BLACK      F   \n",
       "2017-08-29 09:22:00                            No  BLACK      M   \n",
       "2017-08-28 23:41:00                            No  WHITE      M   \n",
       "\n",
       "                               Driver City Driver State DL State  \\\n",
       "Date Of Stop_Time Of Stop                                          \n",
       "2013-09-24 17:11:00            TAKOMA PARK           MD       MD   \n",
       "2017-08-29 10:19:00        FAIRFAX STATION           VA       VA   \n",
       "2014-12-01 12:52:00         UPPER MARLBORO           MD       MD   \n",
       "2017-08-29 09:22:00        FORT WASHINGTON           MD       MD   \n",
       "2017-08-28 23:41:00           GAITHERSBURG           MD       MD   \n",
       "\n",
       "                                 Arrest Type  \\\n",
       "Date Of Stop_Time Of Stop                      \n",
       "2013-09-24 17:11:00        A - Marked Patrol   \n",
       "2017-08-29 10:19:00        A - Marked Patrol   \n",
       "2014-12-01 12:52:00        A - Marked Patrol   \n",
       "2017-08-29 09:22:00        A - Marked Patrol   \n",
       "2017-08-28 23:41:00        A - Marked Patrol   \n",
       "\n",
       "                                                     Geolocation  \n",
       "Date Of Stop_Time Of Stop                                         \n",
       "2013-09-24 17:11:00                                          NaN  \n",
       "2017-08-29 10:19:00               (38.981725, -77.0927566666667)  \n",
       "2014-12-01 12:52:00        (39.1628883333333, -77.2290883333333)  \n",
       "2017-08-29 09:22:00               (39.056975, -76.9546333333333)  \n",
       "2017-08-28 23:41:00                                          NaN  "
      ]
     },
     "execution_count": 11,
     "metadata": {},
     "output_type": "execute_result"
    }
   ],
   "source": [
    "data.iloc[:,23:33].head()"
   ]
  },
  {
   "cell_type": "markdown",
   "metadata": {},
   "source": [
    "<span style=\"color:darkblue\">Rerun the info and isnull functions on the clean dataset to see that there are no nulls"
   ]
  },
  {
   "cell_type": "code",
   "execution_count": 12,
   "metadata": {},
   "outputs": [
    {
     "name": "stdout",
     "output_type": "stream",
     "text": [
      "<class 'pandas.core.frame.DataFrame'>\n",
      "DatetimeIndex: 1232104 entries, 2017-08-29 10:19:00 to 2018-11-25 15:14:00\n",
      "Data columns (total 33 columns):\n",
      "Agency                     1232104 non-null object\n",
      "SubAgency                  1232104 non-null object\n",
      "Description                1232104 non-null object\n",
      "Location                   1232104 non-null object\n",
      "Latitude                   1232104 non-null float64\n",
      "Longitude                  1232104 non-null float64\n",
      "Accident                   1232104 non-null object\n",
      "Belts                      1232104 non-null object\n",
      "Personal Injury            1232104 non-null object\n",
      "Property Damage            1232104 non-null object\n",
      "Fatal                      1232104 non-null object\n",
      "Commercial License         1232104 non-null object\n",
      "HAZMAT                     1232104 non-null object\n",
      "Commercial Vehicle         1232104 non-null object\n",
      "Alcohol                    1232104 non-null object\n",
      "Work Zone                  1232104 non-null object\n",
      "State                      1232104 non-null object\n",
      "VehicleType                1232104 non-null object\n",
      "Year                       1232104 non-null float64\n",
      "Make                       1232104 non-null object\n",
      "Model                      1232104 non-null object\n",
      "Color                      1232104 non-null object\n",
      "Violation Type             1232104 non-null object\n",
      "Charge                     1232104 non-null object\n",
      "Article                    1232104 non-null object\n",
      "Contributed To Accident    1232104 non-null object\n",
      "Race                       1232104 non-null object\n",
      "Gender                     1232104 non-null object\n",
      "Driver City                1232104 non-null object\n",
      "Driver State               1232104 non-null object\n",
      "DL State                   1232104 non-null object\n",
      "Arrest Type                1232104 non-null object\n",
      "Geolocation                1232104 non-null object\n",
      "dtypes: float64(3), object(30)\n",
      "memory usage: 319.6+ MB\n"
     ]
    }
   ],
   "source": [
    "data_clean.info()"
   ]
  },
  {
   "cell_type": "code",
   "execution_count": 13,
   "metadata": {},
   "outputs": [
    {
     "data": {
      "text/html": [
       "<div>\n",
       "<style scoped>\n",
       "    .dataframe tbody tr th:only-of-type {\n",
       "        vertical-align: middle;\n",
       "    }\n",
       "\n",
       "    .dataframe tbody tr th {\n",
       "        vertical-align: top;\n",
       "    }\n",
       "\n",
       "    .dataframe thead th {\n",
       "        text-align: right;\n",
       "    }\n",
       "</style>\n",
       "<table border=\"1\" class=\"dataframe\">\n",
       "  <thead>\n",
       "    <tr style=\"text-align: right;\">\n",
       "      <th></th>\n",
       "      <th>DateOfStop</th>\n",
       "      <th>TimeOfStop</th>\n",
       "    </tr>\n",
       "    <tr>\n",
       "      <th>Date</th>\n",
       "      <th></th>\n",
       "      <th></th>\n",
       "    </tr>\n",
       "  </thead>\n",
       "  <tbody>\n",
       "    <tr>\n",
       "      <th>2013-09-24</th>\n",
       "      <td>2013-09-24</td>\n",
       "      <td>17:11:00</td>\n",
       "    </tr>\n",
       "    <tr>\n",
       "      <th>2017-08-29</th>\n",
       "      <td>2017-08-29</td>\n",
       "      <td>10:19:00</td>\n",
       "    </tr>\n",
       "    <tr>\n",
       "      <th>2014-12-01</th>\n",
       "      <td>2014-12-01</td>\n",
       "      <td>12:52:00</td>\n",
       "    </tr>\n",
       "    <tr>\n",
       "      <th>2017-08-29</th>\n",
       "      <td>2017-08-29</td>\n",
       "      <td>09:22:00</td>\n",
       "    </tr>\n",
       "    <tr>\n",
       "      <th>2017-08-28</th>\n",
       "      <td>2017-08-28</td>\n",
       "      <td>23:41:00</td>\n",
       "    </tr>\n",
       "  </tbody>\n",
       "</table>\n",
       "</div>"
      ],
      "text/plain": [
       "            DateOfStop TimeOfStop\n",
       "Date                             \n",
       "2013-09-24  2013-09-24   17:11:00\n",
       "2017-08-29  2017-08-29   10:19:00\n",
       "2014-12-01  2014-12-01   12:52:00\n",
       "2017-08-29  2017-08-29   09:22:00\n",
       "2017-08-28  2017-08-28   23:41:00"
      ]
     },
     "execution_count": 13,
     "metadata": {},
     "output_type": "execute_result"
    }
   ],
   "source": [
    "df = pd.DataFrame({'DateOfStop' : [],'TimeOfStop':[]})\n",
    "df['DateOfStop'] = [d.date() for d in data.index]\n",
    "df['TimeOfStop'] = [d.time() for d in data.index]\n",
    "df.set_index(pd.to_datetime(df['DateOfStop']),drop=False,inplace=True)\n",
    "df.index.name = 'Date'\n",
    "df.head()"
   ]
  },
  {
   "cell_type": "code",
   "execution_count": 14,
   "metadata": {},
   "outputs": [
    {
     "data": {
      "text/plain": [
       "2015-03-17    1281\n",
       "2018-04-10    1277\n",
       "2014-05-20    1222\n",
       "2018-04-18    1184\n",
       "2015-11-24    1169\n",
       "Name: DateOfStop, dtype: int64"
      ]
     },
     "execution_count": 14,
     "metadata": {},
     "output_type": "execute_result"
    }
   ],
   "source": [
    "df['DateOfStop'].value_counts().head()"
   ]
  },
  {
   "cell_type": "code",
   "execution_count": 15,
   "metadata": {},
   "outputs": [
    {
     "data": {
      "text/plain": [
       "<matplotlib.axes._subplots.AxesSubplot at 0x1a19d47d30>"
      ]
     },
     "execution_count": 15,
     "metadata": {},
     "output_type": "execute_result"
    },
    {
     "data": {
      "image/png": "[encoded data removed]",
      "text/plain": [
       "<Figure size 576x396 with 1 Axes>"
      ]
     },
     "metadata": {},
     "output_type": "display_data"
    }
   ],
   "source": [
    "plt.style.use('seaborn')\n",
    "df1 = df.groupby(['Date']).size()\n",
    "df1.resample('M').max().plot()"
   ]
  },
  {
   "cell_type": "markdown",
   "metadata": {},
   "source": [
    "<span style=\"color:darkblue\">This shows that March 17, 2017 was the date that the most stops occured. We hypothesized that maybe Thanksgiving or Christmas Eve would be the day with the most violations due to drinking from holliday parties and increase in traveling. This result does still meet our hypothesis in a way since this was the date of St.Patrick's Day in 2017."
   ]
  },
  {
   "cell_type": "code",
   "execution_count": 16,
   "metadata": {},
   "outputs": [
    {
     "data": {
      "text/plain": [
       "23:30:00    2126\n",
       "22:53:00    2115\n",
       "23:00:00    2106\n",
       "23:20:00    2091\n",
       "22:57:00    2087\n",
       "Name: TimeOfStop, dtype: int64"
      ]
     },
     "execution_count": 16,
     "metadata": {},
     "output_type": "execute_result"
    }
   ],
   "source": [
    "df['TimeOfStop'].value_counts().head()"
   ]
  },
  {
   "cell_type": "code",
   "execution_count": 17,
   "metadata": {},
   "outputs": [
    {
     "data": {
      "text/plain": [
       "[<matplotlib.lines.Line2D at 0x1a214f97f0>]"
      ]
     },
     "execution_count": 17,
     "metadata": {},
     "output_type": "execute_result"
    },
    {
     "data": {
      "image/png": "[encoded data removed]",
      "text/plain": [
       "<Figure size 576x396 with 1 Axes>"
      ]
     },
     "metadata": {},
     "output_type": "display_data"
    }
   ],
   "source": [
    "df.index.drop\n",
    "df.set_index(pd.to_datetime(df['TimeOfStop'],format='%H:%M:%S').dt.time,drop=False,inplace=True)\n",
    "df.index.name = 'Time'\n",
    "df['GroupbyTime'] = df['TimeOfStop'].value_counts()\n",
    "df.head()\n",
    "plt.style.use('seaborn')\n",
    "plt.plot_date(df['TimeOfStop'],df['GroupbyTime'])"
   ]
  },
  {
   "cell_type": "markdown",
   "metadata": {},
   "source": [
    "<span style=\"color:darkblue\">Our hypothesis that most violations might occur between the hours of 7 AM - 9 AM during people's morning work commutes, is not sup[ported by the data"
   ]
  },
  {
   "cell_type": "code",
   "execution_count": 18,
   "metadata": {},
   "outputs": [
    {
     "data": {
      "text/plain": [
       "4th district, Wheaton                              352681\n",
       "3rd district, Silver Spring                        281981\n",
       "2nd district, Bethesda                             221801\n",
       "6th district, Gaithersburg / Montgomery Village    183352\n",
       "1st district, Rockville                            169210\n",
       "5th district, Germantown                           162277\n",
       "Headquarters and Special Operations                 46911\n",
       "Name: SubAgency, dtype: int64"
      ]
     },
     "execution_count": 18,
     "metadata": {},
     "output_type": "execute_result"
    }
   ],
   "source": [
    "data['SubAgency'].value_counts()"
   ]
  },
  {
   "cell_type": "markdown",
   "metadata": {},
   "source": [
    "<span style=\"color:darkblue\">The **4th district, Wheaton** sub-agency was responsible for the  most stops in the Montgomery County during those years in study."
   ]
  },
  {
   "cell_type": "markdown",
   "metadata": {},
   "source": [
    "<span style=\"color:darkblue\">Use cartopy or ipyleaflet packages to draw the maps of the location. If these fail, use tableau to show the county map"
   ]
  },
  {
   "cell_type": "code",
   "execution_count": null,
   "metadata": {},
   "outputs": [],
   "source": []
  },
  {
   "cell_type": "markdown",
   "metadata": {},
   "source": [
    "<span style=\"color:darkblue\"> Lists the traffic violation outcomes, if citation or warning.\n",
    "The decision to give a warning or a citation is subjective and often at the discretion of the police officer - this couldlead us to analyze bias, but I'm not sure if we have all the data captured for doing this (we do have the gender and race breakdown)"
   ]
  },
  {
   "cell_type": "code",
   "execution_count": 19,
   "metadata": {},
   "outputs": [
    {
     "data": {
      "text/plain": [
       "Warning     694073\n",
       "Citation    653582\n",
       "ESERO        69669\n",
       "SERO           899\n",
       "Name: Violation Type, dtype: int64"
      ]
     },
     "execution_count": 19,
     "metadata": {},
     "output_type": "execute_result"
    }
   ],
   "source": [
    "data['Violation Type'].value_counts()"
   ]
  },
  {
   "cell_type": "code",
   "execution_count": 20,
   "metadata": {},
   "outputs": [
    {
     "data": {
      "text/plain": [
       "<matplotlib.axes._subplots.AxesSubplot at 0x1a21527da0>"
      ]
     },
     "execution_count": 20,
     "metadata": {},
     "output_type": "execute_result"
    },
    {
     "data": {
      "image/png": "[encoded data removed]",
      "text/plain": [
       "<Figure size 576x396 with 1 Axes>"
      ]
     },
     "metadata": {},
     "output_type": "display_data"
    }
   ],
   "source": [
    "data['Violation Type'].value_counts().plot.barh()"
   ]
  },
  {
   "cell_type": "markdown",
   "metadata": {},
   "source": [
    "<span style=\"color:darkblue\">More warnings than citations</br>    \n",
    "<font size=\"1\">SERO - Safety Equipment Repair Order ESERO - Electronic Safety Equipment Repair Order</font>"
   ]
  },
  {
   "cell_type": "code",
   "execution_count": 21,
   "metadata": {},
   "outputs": [
    {
     "data": {
      "text/plain": [
       "A - Marked Patrol                         1172765\n",
       "Q - Marked Laser                           131137\n",
       "B - Unmarked Patrol                         45282\n",
       "S - License Plate Recognition               13764\n",
       "O - Foot Patrol                             13457\n",
       "L - Motorcycle                              12280\n",
       "E - Marked Stationary Radar                  8718\n",
       "G - Marked Moving Radar (Stationary)         6933\n",
       "R - Unmarked Laser                           5831\n",
       "I - Marked Moving Radar (Moving)             2230\n",
       "M - Marked (Off-Duty)                        2162\n",
       "H - Unmarked Moving Radar (Stationary)        992\n",
       "F - Unmarked Stationary Radar                 833\n",
       "J - Unmarked Moving Radar (Moving)            513\n",
       "C - Marked VASCAR                             463\n",
       "P - Mounted Patrol                            332\n",
       "D - Unmarked VASCAR                           285\n",
       "N - Unmarked (Off-Duty)                       191\n",
       "K - Aircraft Assist                            55\n",
       "Name: Arrest Type, dtype: int64"
      ]
     },
     "execution_count": 21,
     "metadata": {},
     "output_type": "execute_result"
    }
   ],
   "source": [
    "data['Arrest Type'].value_counts()"
   ]
  },
  {
   "cell_type": "code",
   "execution_count": 22,
   "metadata": {},
   "outputs": [
    {
     "data": {
      "text/plain": [
       "<matplotlib.axes._subplots.AxesSubplot at 0x1a251b9470>"
      ]
     },
     "execution_count": 22,
     "metadata": {},
     "output_type": "execute_result"
    },
    {
     "data": {
      "image/png": "[encoded data removed]",
      "text/plain": [
       "<Figure size 576x396 with 1 Axes>"
      ]
     },
     "metadata": {},
     "output_type": "display_data"
    }
   ],
   "source": [
    "data['Arrest Type'].value_counts().plot.barh()"
   ]
  },
  {
   "cell_type": "markdown",
   "metadata": {},
   "source": [
    "<span style=\"color:darkblue\">Marked Patrol policing were the ones who caught almost all the violations"
   ]
  },
  {
   "cell_type": "code",
   "execution_count": 23,
   "metadata": {},
   "outputs": [
    {
     "data": {
      "text/plain": [
       "M    950447\n",
       "F    466096\n",
       "U      1680\n",
       "Name: Gender, dtype: int64"
      ]
     },
     "execution_count": 23,
     "metadata": {},
     "output_type": "execute_result"
    }
   ],
   "source": [
    "data['Gender'].value_counts()"
   ]
  },
  {
   "cell_type": "code",
   "execution_count": 24,
   "metadata": {},
   "outputs": [
    {
     "data": {
      "text/plain": [
       "<matplotlib.axes._subplots.AxesSubplot at 0x1a218c37b8>"
      ]
     },
     "execution_count": 24,
     "metadata": {},
     "output_type": "execute_result"
    },
    {
     "data": {
      "image/png": "[encoded data removed]",
      "text/plain": [
       "<Figure size 576x396 with 1 Axes>"
      ]
     },
     "metadata": {},
     "output_type": "display_data"
    }
   ],
   "source": [
    "data['Gender'].value_counts().plot.barh()"
   ]
  },
  {
   "cell_type": "markdown",
   "metadata": {},
   "source": [
    "<span style=\"color:darkblue\"> Men offenders were more than double the number of women offenders"
   ]
  },
  {
   "cell_type": "code",
   "execution_count": 25,
   "metadata": {},
   "outputs": [
    {
     "data": {
      "text/plain": [
       "WHITE              505611\n",
       "BLACK              448615\n",
       "HISPANIC           301413\n",
       "ASIAN               82957\n",
       "OTHER               76562\n",
       "NATIVE AMERICAN      3065\n",
       "Name: Race, dtype: int64"
      ]
     },
     "execution_count": 25,
     "metadata": {},
     "output_type": "execute_result"
    }
   ],
   "source": [
    "data['Race'].value_counts()"
   ]
  },
  {
   "cell_type": "code",
   "execution_count": 26,
   "metadata": {},
   "outputs": [
    {
     "data": {
      "text/plain": [
       "<matplotlib.axes._subplots.AxesSubplot at 0x1a21992908>"
      ]
     },
     "execution_count": 26,
     "metadata": {},
     "output_type": "execute_result"
    },
    {
     "data": {
      "image/png": "[encoded data removed]",
      "text/plain": [
       "<Figure size 576x396 with 1 Axes>"
      ]
     },
     "metadata": {},
     "output_type": "display_data"
    }
   ],
   "source": [
    "data['Race'].value_counts().plot.barh()"
   ]
  },
  {
   "cell_type": "code",
   "execution_count": 27,
   "metadata": {},
   "outputs": [
    {
     "data": {
      "text/plain": [
       "Gender  Race           \n",
       "F       ASIAN               32069\n",
       "        BLACK              151228\n",
       "        HISPANIC            69271\n",
       "        NATIVE AMERICAN       979\n",
       "        OTHER               24513\n",
       "        WHITE              188036\n",
       "M       ASIAN               50879\n",
       "        BLACK              297370\n",
       "        HISPANIC           232103\n",
       "        NATIVE AMERICAN      2083\n",
       "        OTHER               50472\n",
       "        WHITE              317540\n",
       "U       ASIAN                   9\n",
       "        BLACK                  17\n",
       "        HISPANIC               39\n",
       "        NATIVE AMERICAN         3\n",
       "        OTHER                1577\n",
       "        WHITE                  35\n",
       "dtype: int64"
      ]
     },
     "execution_count": 27,
     "metadata": {},
     "output_type": "execute_result"
    }
   ],
   "source": [
    "data.groupby(['Gender','Race']).size()"
   ]
  },
  {
   "cell_type": "code",
   "execution_count": 28,
   "metadata": {},
   "outputs": [
    {
     "data": {
      "text/plain": [
       "<matplotlib.axes._subplots.AxesSubplot at 0x1a219e7ef0>"
      ]
     },
     "execution_count": 28,
     "metadata": {},
     "output_type": "execute_result"
    },
    {
     "data": {
      "image/png": "[encoded data removed]",
      "text/plain": [
       "<Figure size 576x396 with 1 Axes>"
      ]
     },
     "metadata": {},
     "output_type": "display_data"
    }
   ],
   "source": [
    "data.groupby(['Gender','Race']).size().plot.barh()"
   ]
  },
  {
   "cell_type": "markdown",
   "metadata": {},
   "source": [
    "<span style=\"color:darkblue\">Caucasian males recorded the highest number of violations, followed closely by african american males"
   ]
  },
  {
   "cell_type": "code",
   "execution_count": 29,
   "metadata": {},
   "outputs": [
    {
     "data": {
      "text/plain": [
       "No     1417912\n",
       "Yes        311\n",
       "Name: Fatal, dtype: int64"
      ]
     },
     "execution_count": 29,
     "metadata": {},
     "output_type": "execute_result"
    }
   ],
   "source": [
    "data['Accident'].value_counts() #0\n",
    "data['Belts'].value_counts()#46394\n",
    "data['Alcohol'].value_counts() #2242\n",
    "data['HAZMAT'].value_counts()  #127\n",
    "data['Work Zone'].value_counts()#265\n",
    "data['Work Zone'].value_counts()#265\n",
    "data['Personal Injury'].value_counts()#16498\n",
    "data['Property Damage'].value_counts()#27269\n",
    "data['Fatal'].value_counts()#311"
   ]
  },
  {
   "cell_type": "markdown",
   "metadata": {},
   "source": [
    "<span style=\"color:darkblue\">We now define 'citations per warning', the ratio of citations to warnings. A higher number signifies a greater likelihood of getting a tictcket instead of getting lucky and just escaping with a warning!"
   ]
  },
  {
   "cell_type": "code",
   "execution_count": 30,
   "metadata": {},
   "outputs": [],
   "source": [
    "from ba500package.helper import citations_per_warning"
   ]
  },
  {
   "cell_type": "code",
   "execution_count": 31,
   "metadata": {},
   "outputs": [
    {
     "data": {
      "text/html": [
       "<div>\n",
       "<style scoped>\n",
       "    .dataframe tbody tr th:only-of-type {\n",
       "        vertical-align: middle;\n",
       "    }\n",
       "\n",
       "    .dataframe tbody tr th {\n",
       "        vertical-align: top;\n",
       "    }\n",
       "\n",
       "    .dataframe thead th {\n",
       "        text-align: right;\n",
       "    }\n",
       "</style>\n",
       "<table border=\"1\" class=\"dataframe\">\n",
       "  <thead>\n",
       "    <tr style=\"text-align: right;\">\n",
       "      <th></th>\n",
       "      <th>citations_per_warning</th>\n",
       "    </tr>\n",
       "    <tr>\n",
       "      <th>Gender</th>\n",
       "      <th></th>\n",
       "    </tr>\n",
       "  </thead>\n",
       "  <tbody>\n",
       "    <tr>\n",
       "      <th>F</th>\n",
       "      <td>0.756356</td>\n",
       "    </tr>\n",
       "    <tr>\n",
       "      <th>M</th>\n",
       "      <td>1.050878</td>\n",
       "    </tr>\n",
       "    <tr>\n",
       "      <th>U</th>\n",
       "      <td>0.156293</td>\n",
       "    </tr>\n",
       "  </tbody>\n",
       "</table>\n",
       "</div>"
      ],
      "text/plain": [
       "        citations_per_warning\n",
       "Gender                       \n",
       "F                    0.756356\n",
       "M                    1.050878\n",
       "U                    0.156293"
      ]
     },
     "execution_count": 31,
     "metadata": {},
     "output_type": "execute_result"
    }
   ],
   "source": [
    "data.groupby('Gender').apply(citations_per_warning)"
   ]
  },
  {
   "cell_type": "code",
   "execution_count": 32,
   "metadata": {},
   "outputs": [
    {
     "data": {
      "text/html": [
       "<div>\n",
       "<style scoped>\n",
       "    .dataframe tbody tr th:only-of-type {\n",
       "        vertical-align: middle;\n",
       "    }\n",
       "\n",
       "    .dataframe tbody tr th {\n",
       "        vertical-align: top;\n",
       "    }\n",
       "\n",
       "    .dataframe thead th {\n",
       "        text-align: right;\n",
       "    }\n",
       "</style>\n",
       "<table border=\"1\" class=\"dataframe\">\n",
       "  <thead>\n",
       "    <tr style=\"text-align: right;\">\n",
       "      <th></th>\n",
       "      <th>citations_per_warning</th>\n",
       "    </tr>\n",
       "    <tr>\n",
       "      <th>Race</th>\n",
       "      <th></th>\n",
       "    </tr>\n",
       "  </thead>\n",
       "  <tbody>\n",
       "    <tr>\n",
       "      <th>ASIAN</th>\n",
       "      <td>0.686425</td>\n",
       "    </tr>\n",
       "    <tr>\n",
       "      <th>BLACK</th>\n",
       "      <td>0.993116</td>\n",
       "    </tr>\n",
       "    <tr>\n",
       "      <th>HISPANIC</th>\n",
       "      <td>1.280144</td>\n",
       "    </tr>\n",
       "    <tr>\n",
       "      <th>NATIVE AMERICAN</th>\n",
       "      <td>0.814086</td>\n",
       "    </tr>\n",
       "    <tr>\n",
       "      <th>OTHER</th>\n",
       "      <td>0.718496</td>\n",
       "    </tr>\n",
       "    <tr>\n",
       "      <th>WHITE</th>\n",
       "      <td>0.823772</td>\n",
       "    </tr>\n",
       "  </tbody>\n",
       "</table>\n",
       "</div>"
      ],
      "text/plain": [
       "                 citations_per_warning\n",
       "Race                                  \n",
       "ASIAN                         0.686425\n",
       "BLACK                         0.993116\n",
       "HISPANIC                      1.280144\n",
       "NATIVE AMERICAN               0.814086\n",
       "OTHER                         0.718496\n",
       "WHITE                         0.823772"
      ]
     },
     "execution_count": 32,
     "metadata": {},
     "output_type": "execute_result"
    }
   ],
   "source": [
    "data.groupby('Race').apply(citations_per_warning)"
   ]
  },
  {
   "cell_type": "code",
   "execution_count": 33,
   "metadata": {},
   "outputs": [
    {
     "data": {
      "text/html": [
       "<div>\n",
       "<style scoped>\n",
       "    .dataframe tbody tr th:only-of-type {\n",
       "        vertical-align: middle;\n",
       "    }\n",
       "\n",
       "    .dataframe tbody tr th {\n",
       "        vertical-align: top;\n",
       "    }\n",
       "\n",
       "    .dataframe thead th {\n",
       "        text-align: right;\n",
       "    }\n",
       "</style>\n",
       "<table border=\"1\" class=\"dataframe\">\n",
       "  <thead>\n",
       "    <tr style=\"text-align: right;\">\n",
       "      <th></th>\n",
       "      <th></th>\n",
       "      <th>citations_per_warning</th>\n",
       "    </tr>\n",
       "    <tr>\n",
       "      <th>Gender</th>\n",
       "      <th>Race</th>\n",
       "      <th></th>\n",
       "    </tr>\n",
       "  </thead>\n",
       "  <tbody>\n",
       "    <tr>\n",
       "      <th rowspan=\"6\" valign=\"top\">F</th>\n",
       "      <th>ASIAN</th>\n",
       "      <td>0.599226</td>\n",
       "    </tr>\n",
       "    <tr>\n",
       "      <th>BLACK</th>\n",
       "      <td>0.823666</td>\n",
       "    </tr>\n",
       "    <tr>\n",
       "      <th>HISPANIC</th>\n",
       "      <td>0.888538</td>\n",
       "    </tr>\n",
       "    <tr>\n",
       "      <th>NATIVE AMERICAN</th>\n",
       "      <td>0.576592</td>\n",
       "    </tr>\n",
       "    <tr>\n",
       "      <th>OTHER</th>\n",
       "      <td>0.647204</td>\n",
       "    </tr>\n",
       "    <tr>\n",
       "      <th>WHITE</th>\n",
       "      <td>0.707282</td>\n",
       "    </tr>\n",
       "    <tr>\n",
       "      <th rowspan=\"6\" valign=\"top\">M</th>\n",
       "      <th>ASIAN</th>\n",
       "      <td>0.747067</td>\n",
       "    </tr>\n",
       "    <tr>\n",
       "      <th>BLACK</th>\n",
       "      <td>1.091476</td>\n",
       "    </tr>\n",
       "    <tr>\n",
       "      <th>HISPANIC</th>\n",
       "      <td>1.431702</td>\n",
       "    </tr>\n",
       "    <tr>\n",
       "      <th>NATIVE AMERICAN</th>\n",
       "      <td>0.952716</td>\n",
       "    </tr>\n",
       "    <tr>\n",
       "      <th>OTHER</th>\n",
       "      <td>0.787139</td>\n",
       "    </tr>\n",
       "    <tr>\n",
       "      <th>WHITE</th>\n",
       "      <td>0.901049</td>\n",
       "    </tr>\n",
       "    <tr>\n",
       "      <th rowspan=\"6\" valign=\"top\">U</th>\n",
       "      <th>ASIAN</th>\n",
       "      <td>1.666667</td>\n",
       "    </tr>\n",
       "    <tr>\n",
       "      <th>BLACK</th>\n",
       "      <td>2.400000</td>\n",
       "    </tr>\n",
       "    <tr>\n",
       "      <th>HISPANIC</th>\n",
       "      <td>1.466667</td>\n",
       "    </tr>\n",
       "    <tr>\n",
       "      <th>NATIVE AMERICAN</th>\n",
       "      <td>1.000000</td>\n",
       "    </tr>\n",
       "    <tr>\n",
       "      <th>OTHER</th>\n",
       "      <td>0.124375</td>\n",
       "    </tr>\n",
       "    <tr>\n",
       "      <th>WHITE</th>\n",
       "      <td>0.521739</td>\n",
       "    </tr>\n",
       "  </tbody>\n",
       "</table>\n",
       "</div>"
      ],
      "text/plain": [
       "                        citations_per_warning\n",
       "Gender Race                                  \n",
       "F      ASIAN                         0.599226\n",
       "       BLACK                         0.823666\n",
       "       HISPANIC                      0.888538\n",
       "       NATIVE AMERICAN               0.576592\n",
       "       OTHER                         0.647204\n",
       "       WHITE                         0.707282\n",
       "M      ASIAN                         0.747067\n",
       "       BLACK                         1.091476\n",
       "       HISPANIC                      1.431702\n",
       "       NATIVE AMERICAN               0.952716\n",
       "       OTHER                         0.787139\n",
       "       WHITE                         0.901049\n",
       "U      ASIAN                         1.666667\n",
       "       BLACK                         2.400000\n",
       "       HISPANIC                      1.466667\n",
       "       NATIVE AMERICAN               1.000000\n",
       "       OTHER                         0.124375\n",
       "       WHITE                         0.521739"
      ]
     },
     "execution_count": 33,
     "metadata": {},
     "output_type": "execute_result"
    }
   ],
   "source": [
    "data.groupby(['Gender','Race']).apply(citations_per_warning)"
   ]
  },
  {
   "cell_type": "code",
   "execution_count": 34,
   "metadata": {},
   "outputs": [
    {
     "ename": "ModuleNotFoundError",
     "evalue": "No module named 'ipyleaflet'",
     "output_type": "error",
     "traceback": [
      "\u001b[0;31m---------------------------------------------------------------------------\u001b[0m",
      "\u001b[0;31mModuleNotFoundError\u001b[0m                       Traceback (most recent call last)",
      "\u001b[0;32m<ipython-input-34-b5b4b742ffab>\u001b[0m in \u001b[0;36m<module>\u001b[0;34m()\u001b[0m\n\u001b[1;32m      1\u001b[0m \u001b[0;31m#from ipyleaflet import Marker\u001b[0m\u001b[0;34m\u001b[0m\u001b[0;34m\u001b[0m\u001b[0m\n\u001b[0;32m----> 2\u001b[0;31m \u001b[0;32mimport\u001b[0m \u001b[0mipyleaflet\u001b[0m\u001b[0;34m.\u001b[0m\u001b[0mmarker\u001b[0m \u001b[0;32mas\u001b[0m \u001b[0mmark\u001b[0m\u001b[0;34m\u001b[0m\u001b[0m\n\u001b[0m\u001b[1;32m      3\u001b[0m \u001b[0;34m\u001b[0m\u001b[0m\n\u001b[1;32m      4\u001b[0m \u001b[0mcenter\u001b[0m \u001b[0;34m=\u001b[0m \u001b[0;34m(\u001b[0m\u001b[0;36m52.204793\u001b[0m\u001b[0;34m,\u001b[0m \u001b[0;36m360.121558\u001b[0m\u001b[0;34m)\u001b[0m\u001b[0;34m\u001b[0m\u001b[0m\n\u001b[1;32m      5\u001b[0m \u001b[0;34m\u001b[0m\u001b[0m\n",
      "\u001b[0;31mModuleNotFoundError\u001b[0m: No module named 'ipyleaflet'"
     ]
    }
   ],
   "source": [
    "#from ipyleaflet import Marker\n",
    "import ipyleaflet.marker as mark\n",
    "\n",
    "center = (52.204793, 360.121558)\n",
    "\n",
    "m = Map(center=center, zoom=15)\n",
    "\n",
    "marker = mark(location=center, draggable=False)\n",
    "m.add_layer(mark);\n",
    "\n",
    "m"
   ]
  },
  {
   "cell_type": "markdown",
   "metadata": {},
   "source": [
    "#### References\n",
    "\n",
    "[1] http://strftime.org/\n",
    "\n",
    "[2] http://jakevdp.github.io/blog/2017/03/03/reproducible-data-analysis-in-jupyter/\n",
    "\n",
    "[3] https://www.kaggle.com/pmarcelino/comprehensive-data-exploration-with-python\n",
    "\n",
    "[4] https://www.kaggle.com/tejainece/seaborn-barplot-and-pandas-value-counts\n",
    "\n",
    "[5] https://scitools.org.uk/cartopy/docs/v0.15/matplotlib/intro.html"
   ]
  },
  {
   "cell_type": "code",
   "execution_count": null,
   "metadata": {},
   "outputs": [],
   "source": [
    "import cartopy.crs as ccrs\n",
    "import matplotlib.pyplot as plt\n",
    "\n",
    "ax = plt.axes(projection=ccrs.PlateCarree())\n",
    "ax.coastlines()\n",
    "\n",
    "plt.show()"
   ]
  },
  {
   "cell_type": "code",
   "execution_count": 35,
   "metadata": {},
   "outputs": [
    {
     "data": {
      "text/plain": [
       "Agency                                                                   MCP\n",
       "SubAgency                                        3rd district, Silver Spring\n",
       "Description                DRIVING VEHICLE ON HIGHWAY WITH SUSPENDED REGI...\n",
       "Location                                                     8804 FLOWER AVE\n",
       "Latitude                                                                 NaN\n",
       "Longitude                                                                NaN\n",
       "Accident                                                                  No\n",
       "Belts                                                                     No\n",
       "Personal Injury                                                           No\n",
       "Property Damage                                                           No\n",
       "Fatal                                                                     No\n",
       "Commercial License                                                        No\n",
       "HAZMAT                                                                    No\n",
       "Commercial Vehicle                                                        No\n",
       "Alcohol                                                                   No\n",
       "Work Zone                                                                 No\n",
       "State                                                                     MD\n",
       "VehicleType                                                  02 - Automobile\n",
       "Year                                                                    2008\n",
       "Make                                                                    FORD\n",
       "Model                                                                     4S\n",
       "Color                                                                  BLACK\n",
       "Violation Type                                                      Citation\n",
       "Charge                                                             13-401(h)\n",
       "Article                                               Transportation Article\n",
       "Contributed To Accident                                                   No\n",
       "Race                                                                   BLACK\n",
       "Gender                                                                     M\n",
       "Driver City                                                      TAKOMA PARK\n",
       "Driver State                                                              MD\n",
       "DL State                                                                  MD\n",
       "Arrest Type                                                A - Marked Patrol\n",
       "Geolocation                                                              NaN\n",
       "Name: 2013-09-24 17:11:00, dtype: object"
      ]
     },
     "execution_count": 35,
     "metadata": {},
     "output_type": "execute_result"
    }
   ],
   "source": [
    "data.iloc[0]"
   ]
  },
  {
   "cell_type": "code",
   "execution_count": 36,
   "metadata": {},
   "outputs": [
    {
     "data": {
      "text/html": [
       "<div>\n",
       "<style scoped>\n",
       "    .dataframe tbody tr th:only-of-type {\n",
       "        vertical-align: middle;\n",
       "    }\n",
       "\n",
       "    .dataframe tbody tr th {\n",
       "        vertical-align: top;\n",
       "    }\n",
       "\n",
       "    .dataframe thead th {\n",
       "        text-align: right;\n",
       "    }\n",
       "</style>\n",
       "<table border=\"1\" class=\"dataframe\">\n",
       "  <thead>\n",
       "    <tr style=\"text-align: right;\">\n",
       "      <th></th>\n",
       "      <th>Agency</th>\n",
       "      <th>SubAgency</th>\n",
       "      <th>Description</th>\n",
       "      <th>Location</th>\n",
       "      <th>Latitude</th>\n",
       "      <th>Longitude</th>\n",
       "      <th>Accident</th>\n",
       "      <th>Belts</th>\n",
       "      <th>Personal Injury</th>\n",
       "      <th>Property Damage</th>\n",
       "      <th>...</th>\n",
       "      <th>Charge</th>\n",
       "      <th>Article</th>\n",
       "      <th>Contributed To Accident</th>\n",
       "      <th>Race</th>\n",
       "      <th>Gender</th>\n",
       "      <th>Driver City</th>\n",
       "      <th>Driver State</th>\n",
       "      <th>DL State</th>\n",
       "      <th>Arrest Type</th>\n",
       "      <th>Geolocation</th>\n",
       "    </tr>\n",
       "    <tr>\n",
       "      <th>Date Of Stop_Time Of Stop</th>\n",
       "      <th></th>\n",
       "      <th></th>\n",
       "      <th></th>\n",
       "      <th></th>\n",
       "      <th></th>\n",
       "      <th></th>\n",
       "      <th></th>\n",
       "      <th></th>\n",
       "      <th></th>\n",
       "      <th></th>\n",
       "      <th></th>\n",
       "      <th></th>\n",
       "      <th></th>\n",
       "      <th></th>\n",
       "      <th></th>\n",
       "      <th></th>\n",
       "      <th></th>\n",
       "      <th></th>\n",
       "      <th></th>\n",
       "      <th></th>\n",
       "      <th></th>\n",
       "    </tr>\n",
       "  </thead>\n",
       "  <tbody>\n",
       "    <tr>\n",
       "      <th>2017-08-30 19:55:00</th>\n",
       "      <td>MCP</td>\n",
       "      <td>4th district, Wheaton</td>\n",
       "      <td>FAILURE OF INDIVIDUAL DRIVING ON HIGHWAY TO DI...</td>\n",
       "      <td>SB GEORGIA AVE @ HEWITT AVE</td>\n",
       "      <td>39.078595</td>\n",
       "      <td>-77.069165</td>\n",
       "      <td>No</td>\n",
       "      <td>No</td>\n",
       "      <td>No</td>\n",
       "      <td>No</td>\n",
       "      <td>...</td>\n",
       "      <td>16-112(c)</td>\n",
       "      <td>Transportation Article</td>\n",
       "      <td>No</td>\n",
       "      <td>HISPANIC</td>\n",
       "      <td>M</td>\n",
       "      <td>SILVER SPRING</td>\n",
       "      <td>MD</td>\n",
       "      <td>MD</td>\n",
       "      <td>A - Marked Patrol</td>\n",
       "      <td>(39.078595, -77.069165)</td>\n",
       "    </tr>\n",
       "    <tr>\n",
       "      <th>2017-08-30 19:55:00</th>\n",
       "      <td>MCP</td>\n",
       "      <td>4th district, Wheaton</td>\n",
       "      <td>DRIVING MOTOR VEHICLE ON HIGHWAY WITHOUT REQUI...</td>\n",
       "      <td>SB GEORGIA AVE @ HEWITT AVE</td>\n",
       "      <td>39.078595</td>\n",
       "      <td>-77.069165</td>\n",
       "      <td>No</td>\n",
       "      <td>No</td>\n",
       "      <td>No</td>\n",
       "      <td>No</td>\n",
       "      <td>...</td>\n",
       "      <td>16-101(a)</td>\n",
       "      <td>Transportation Article</td>\n",
       "      <td>No</td>\n",
       "      <td>HISPANIC</td>\n",
       "      <td>M</td>\n",
       "      <td>SILVER SPRING</td>\n",
       "      <td>MD</td>\n",
       "      <td>MD</td>\n",
       "      <td>A - Marked Patrol</td>\n",
       "      <td>(39.078595, -77.069165)</td>\n",
       "    </tr>\n",
       "    <tr>\n",
       "      <th>2017-08-30 19:55:00</th>\n",
       "      <td>MCP</td>\n",
       "      <td>4th district, Wheaton</td>\n",
       "      <td>PERSON DRIVING MOTOR VEHICLE ON HIGHWAY OR PUB...</td>\n",
       "      <td>SB GEORGIA AVE @ HEWITT AVE</td>\n",
       "      <td>39.078595</td>\n",
       "      <td>-77.069165</td>\n",
       "      <td>No</td>\n",
       "      <td>No</td>\n",
       "      <td>No</td>\n",
       "      <td>No</td>\n",
       "      <td>...</td>\n",
       "      <td>16-303(c)</td>\n",
       "      <td>Transportation Article</td>\n",
       "      <td>No</td>\n",
       "      <td>HISPANIC</td>\n",
       "      <td>M</td>\n",
       "      <td>SILVER SPRING</td>\n",
       "      <td>MD</td>\n",
       "      <td>MD</td>\n",
       "      <td>A - Marked Patrol</td>\n",
       "      <td>(39.078595, -77.069165)</td>\n",
       "    </tr>\n",
       "    <tr>\n",
       "      <th>2017-08-30 19:55:00</th>\n",
       "      <td>MCP</td>\n",
       "      <td>4th district, Wheaton</td>\n",
       "      <td>PERSON DRIVING MOTOR VEHICLE WHILE LICENSE SUS...</td>\n",
       "      <td>SB GEORGIA AVE @ HEWITT AVE</td>\n",
       "      <td>39.078595</td>\n",
       "      <td>-77.069165</td>\n",
       "      <td>No</td>\n",
       "      <td>No</td>\n",
       "      <td>No</td>\n",
       "      <td>No</td>\n",
       "      <td>...</td>\n",
       "      <td>16-303(h)</td>\n",
       "      <td>Transportation Article</td>\n",
       "      <td>No</td>\n",
       "      <td>HISPANIC</td>\n",
       "      <td>M</td>\n",
       "      <td>SILVER SPRING</td>\n",
       "      <td>MD</td>\n",
       "      <td>MD</td>\n",
       "      <td>A - Marked Patrol</td>\n",
       "      <td>(39.078595, -77.069165)</td>\n",
       "    </tr>\n",
       "    <tr>\n",
       "      <th>2017-08-30 19:55:00</th>\n",
       "      <td>MCP</td>\n",
       "      <td>4th district, Wheaton</td>\n",
       "      <td>PERSON DRIVING MOTOR VEHICLE ON HIGHWAY OR PUB...</td>\n",
       "      <td>SB GEORGIA AVE @ HEWITT AVE</td>\n",
       "      <td>39.078595</td>\n",
       "      <td>-77.069165</td>\n",
       "      <td>No</td>\n",
       "      <td>No</td>\n",
       "      <td>No</td>\n",
       "      <td>No</td>\n",
       "      <td>...</td>\n",
       "      <td>16-303(d)</td>\n",
       "      <td>Transportation Article</td>\n",
       "      <td>No</td>\n",
       "      <td>HISPANIC</td>\n",
       "      <td>M</td>\n",
       "      <td>SILVER SPRING</td>\n",
       "      <td>MD</td>\n",
       "      <td>MD</td>\n",
       "      <td>A - Marked Patrol</td>\n",
       "      <td>(39.078595, -77.069165)</td>\n",
       "    </tr>\n",
       "  </tbody>\n",
       "</table>\n",
       "<p>5 rows × 33 columns</p>\n",
       "</div>"
      ],
      "text/plain": [
       "                          Agency              SubAgency  \\\n",
       "Date Of Stop_Time Of Stop                                 \n",
       "2017-08-30 19:55:00          MCP  4th district, Wheaton   \n",
       "2017-08-30 19:55:00          MCP  4th district, Wheaton   \n",
       "2017-08-30 19:55:00          MCP  4th district, Wheaton   \n",
       "2017-08-30 19:55:00          MCP  4th district, Wheaton   \n",
       "2017-08-30 19:55:00          MCP  4th district, Wheaton   \n",
       "\n",
       "                                                                 Description  \\\n",
       "Date Of Stop_Time Of Stop                                                      \n",
       "2017-08-30 19:55:00        FAILURE OF INDIVIDUAL DRIVING ON HIGHWAY TO DI...   \n",
       "2017-08-30 19:55:00        DRIVING MOTOR VEHICLE ON HIGHWAY WITHOUT REQUI...   \n",
       "2017-08-30 19:55:00        PERSON DRIVING MOTOR VEHICLE ON HIGHWAY OR PUB...   \n",
       "2017-08-30 19:55:00        PERSON DRIVING MOTOR VEHICLE WHILE LICENSE SUS...   \n",
       "2017-08-30 19:55:00        PERSON DRIVING MOTOR VEHICLE ON HIGHWAY OR PUB...   \n",
       "\n",
       "                                              Location   Latitude  Longitude  \\\n",
       "Date Of Stop_Time Of Stop                                                      \n",
       "2017-08-30 19:55:00        SB GEORGIA AVE @ HEWITT AVE  39.078595 -77.069165   \n",
       "2017-08-30 19:55:00        SB GEORGIA AVE @ HEWITT AVE  39.078595 -77.069165   \n",
       "2017-08-30 19:55:00        SB GEORGIA AVE @ HEWITT AVE  39.078595 -77.069165   \n",
       "2017-08-30 19:55:00        SB GEORGIA AVE @ HEWITT AVE  39.078595 -77.069165   \n",
       "2017-08-30 19:55:00        SB GEORGIA AVE @ HEWITT AVE  39.078595 -77.069165   \n",
       "\n",
       "                          Accident Belts Personal Injury Property Damage  \\\n",
       "Date Of Stop_Time Of Stop                                                  \n",
       "2017-08-30 19:55:00             No    No              No              No   \n",
       "2017-08-30 19:55:00             No    No              No              No   \n",
       "2017-08-30 19:55:00             No    No              No              No   \n",
       "2017-08-30 19:55:00             No    No              No              No   \n",
       "2017-08-30 19:55:00             No    No              No              No   \n",
       "\n",
       "                                    ...                Charge  \\\n",
       "Date Of Stop_Time Of Stop           ...                         \n",
       "2017-08-30 19:55:00                 ...             16-112(c)   \n",
       "2017-08-30 19:55:00                 ...             16-101(a)   \n",
       "2017-08-30 19:55:00                 ...             16-303(c)   \n",
       "2017-08-30 19:55:00                 ...             16-303(h)   \n",
       "2017-08-30 19:55:00                 ...             16-303(d)   \n",
       "\n",
       "                                          Article Contributed To Accident  \\\n",
       "Date Of Stop_Time Of Stop                                                   \n",
       "2017-08-30 19:55:00        Transportation Article                      No   \n",
       "2017-08-30 19:55:00        Transportation Article                      No   \n",
       "2017-08-30 19:55:00        Transportation Article                      No   \n",
       "2017-08-30 19:55:00        Transportation Article                      No   \n",
       "2017-08-30 19:55:00        Transportation Article                      No   \n",
       "\n",
       "                               Race Gender    Driver City Driver State  \\\n",
       "Date Of Stop_Time Of Stop                                                \n",
       "2017-08-30 19:55:00        HISPANIC      M  SILVER SPRING           MD   \n",
       "2017-08-30 19:55:00        HISPANIC      M  SILVER SPRING           MD   \n",
       "2017-08-30 19:55:00        HISPANIC      M  SILVER SPRING           MD   \n",
       "2017-08-30 19:55:00        HISPANIC      M  SILVER SPRING           MD   \n",
       "2017-08-30 19:55:00        HISPANIC      M  SILVER SPRING           MD   \n",
       "\n",
       "                          DL State        Arrest Type              Geolocation  \n",
       "Date Of Stop_Time Of Stop                                                       \n",
       "2017-08-30 19:55:00             MD  A - Marked Patrol  (39.078595, -77.069165)  \n",
       "2017-08-30 19:55:00             MD  A - Marked Patrol  (39.078595, -77.069165)  \n",
       "2017-08-30 19:55:00             MD  A - Marked Patrol  (39.078595, -77.069165)  \n",
       "2017-08-30 19:55:00             MD  A - Marked Patrol  (39.078595, -77.069165)  \n",
       "2017-08-30 19:55:00             MD  A - Marked Patrol  (39.078595, -77.069165)  \n",
       "\n",
       "[5 rows x 33 columns]"
      ]
     },
     "execution_count": 36,
     "metadata": {},
     "output_type": "execute_result"
    }
   ],
   "source": [
    "data[data['Alcohol']=='Yes'].head()"
   ]
  },
  {
   "cell_type": "code",
   "execution_count": 37,
   "metadata": {},
   "outputs": [
    {
     "data": {
      "text/html": [
       "<div>\n",
       "<style scoped>\n",
       "    .dataframe tbody tr th:only-of-type {\n",
       "        vertical-align: middle;\n",
       "    }\n",
       "\n",
       "    .dataframe tbody tr th {\n",
       "        vertical-align: top;\n",
       "    }\n",
       "\n",
       "    .dataframe thead th {\n",
       "        text-align: right;\n",
       "    }\n",
       "</style>\n",
       "<table border=\"1\" class=\"dataframe\">\n",
       "  <thead>\n",
       "    <tr style=\"text-align: right;\">\n",
       "      <th></th>\n",
       "      <th>SubAgency</th>\n",
       "      <th>Description</th>\n",
       "      <th>Accident</th>\n",
       "      <th>Belts</th>\n",
       "      <th>Personal Injury</th>\n",
       "      <th>Property Damage</th>\n",
       "    </tr>\n",
       "    <tr>\n",
       "      <th>Date Of Stop_Time Of Stop</th>\n",
       "      <th></th>\n",
       "      <th></th>\n",
       "      <th></th>\n",
       "      <th></th>\n",
       "      <th></th>\n",
       "      <th></th>\n",
       "    </tr>\n",
       "  </thead>\n",
       "  <tbody>\n",
       "    <tr>\n",
       "      <th>2018-10-20 00:01:00</th>\n",
       "      <td>6th district, Gaithersburg / Montgomery Village</td>\n",
       "      <td>PERSON DRIVING MOTOR VEHICLE ON HIGHWAY OR PUB...</td>\n",
       "      <td>No</td>\n",
       "      <td>No</td>\n",
       "      <td>No</td>\n",
       "      <td>Yes</td>\n",
       "    </tr>\n",
       "    <tr>\n",
       "      <th>2018-10-20 00:01:00</th>\n",
       "      <td>6th district, Gaithersburg / Montgomery Village</td>\n",
       "      <td>DRIVING WHILE LIC. SUSP. UNDER 16-203, 16-206A...</td>\n",
       "      <td>No</td>\n",
       "      <td>No</td>\n",
       "      <td>No</td>\n",
       "      <td>Yes</td>\n",
       "    </tr>\n",
       "    <tr>\n",
       "      <th>2018-10-20 00:01:00</th>\n",
       "      <td>6th district, Gaithersburg / Montgomery Village</td>\n",
       "      <td>PERSON DRIVING MOTOR VEHICLE ON HIGHWAY OR PUB...</td>\n",
       "      <td>No</td>\n",
       "      <td>No</td>\n",
       "      <td>No</td>\n",
       "      <td>Yes</td>\n",
       "    </tr>\n",
       "    <tr>\n",
       "      <th>2018-10-20 00:01:00</th>\n",
       "      <td>6th district, Gaithersburg / Montgomery Village</td>\n",
       "      <td>FAILURE OF INDIVIDUAL DRIVING ON HIGHWAY TO DI...</td>\n",
       "      <td>No</td>\n",
       "      <td>No</td>\n",
       "      <td>No</td>\n",
       "      <td>Yes</td>\n",
       "    </tr>\n",
       "    <tr>\n",
       "      <th>2018-10-20 00:01:00</th>\n",
       "      <td>6th district, Gaithersburg / Montgomery Village</td>\n",
       "      <td>NEGLIGENT DRIVING VEHICLE IN CARELESS AND IMPR...</td>\n",
       "      <td>No</td>\n",
       "      <td>No</td>\n",
       "      <td>No</td>\n",
       "      <td>Yes</td>\n",
       "    </tr>\n",
       "    <tr>\n",
       "      <th>2018-10-20 00:01:00</th>\n",
       "      <td>6th district, Gaithersburg / Montgomery Village</td>\n",
       "      <td>RECKLESS DRIVING VEHICLE IN WANTON AND WILLFUL...</td>\n",
       "      <td>No</td>\n",
       "      <td>No</td>\n",
       "      <td>No</td>\n",
       "      <td>Yes</td>\n",
       "    </tr>\n",
       "    <tr>\n",
       "      <th>2018-10-20 00:01:00</th>\n",
       "      <td>6th district, Gaithersburg / Montgomery Village</td>\n",
       "      <td>DRIVING VEHICLE WHILE UNDER THE INFLUENCE OF A...</td>\n",
       "      <td>No</td>\n",
       "      <td>No</td>\n",
       "      <td>No</td>\n",
       "      <td>Yes</td>\n",
       "    </tr>\n",
       "    <tr>\n",
       "      <th>2018-10-20 00:01:00</th>\n",
       "      <td>6th district, Gaithersburg / Montgomery Village</td>\n",
       "      <td>DRIVING VEH. WHILE IMPAIRED BY ALCOHOL</td>\n",
       "      <td>No</td>\n",
       "      <td>No</td>\n",
       "      <td>No</td>\n",
       "      <td>Yes</td>\n",
       "    </tr>\n",
       "    <tr>\n",
       "      <th>2018-10-20 00:01:00</th>\n",
       "      <td>6th district, Gaithersburg / Montgomery Village</td>\n",
       "      <td>FAILURE OF VEH. DRIVER TO STOP AFTER UNATTENDE...</td>\n",
       "      <td>No</td>\n",
       "      <td>No</td>\n",
       "      <td>No</td>\n",
       "      <td>Yes</td>\n",
       "    </tr>\n",
       "    <tr>\n",
       "      <th>2018-10-20 00:01:00</th>\n",
       "      <td>6th district, Gaithersburg / Montgomery Village</td>\n",
       "      <td>FAILURE OF VEH. DRIVER IN ACCIDENT TO LOCATE A...</td>\n",
       "      <td>No</td>\n",
       "      <td>No</td>\n",
       "      <td>No</td>\n",
       "      <td>Yes</td>\n",
       "    </tr>\n",
       "    <tr>\n",
       "      <th>2018-10-20 00:01:00</th>\n",
       "      <td>6th district, Gaithersburg / Montgomery Village</td>\n",
       "      <td>FAILURE OF VEH. DRIVER TO FURNISH REQ'D WRITTE...</td>\n",
       "      <td>No</td>\n",
       "      <td>No</td>\n",
       "      <td>No</td>\n",
       "      <td>Yes</td>\n",
       "    </tr>\n",
       "    <tr>\n",
       "      <th>2018-10-20 00:01:00</th>\n",
       "      <td>6th district, Gaithersburg / Montgomery Village</td>\n",
       "      <td>ATTEMPT BY DRIVER TO ELUDE UNIFORMED POLICE BY...</td>\n",
       "      <td>No</td>\n",
       "      <td>No</td>\n",
       "      <td>No</td>\n",
       "      <td>Yes</td>\n",
       "    </tr>\n",
       "    <tr>\n",
       "      <th>2018-10-20 00:01:00</th>\n",
       "      <td>6th district, Gaithersburg / Montgomery Village</td>\n",
       "      <td>DRIVING MOTOR VEHICLE ON HIGHWAY WITHOUT REQUI...</td>\n",
       "      <td>No</td>\n",
       "      <td>No</td>\n",
       "      <td>No</td>\n",
       "      <td>Yes</td>\n",
       "    </tr>\n",
       "  </tbody>\n",
       "</table>\n",
       "</div>"
      ],
      "text/plain": [
       "                                                                 SubAgency  \\\n",
       "Date Of Stop_Time Of Stop                                                    \n",
       "2018-10-20 00:01:00        6th district, Gaithersburg / Montgomery Village   \n",
       "2018-10-20 00:01:00        6th district, Gaithersburg / Montgomery Village   \n",
       "2018-10-20 00:01:00        6th district, Gaithersburg / Montgomery Village   \n",
       "2018-10-20 00:01:00        6th district, Gaithersburg / Montgomery Village   \n",
       "2018-10-20 00:01:00        6th district, Gaithersburg / Montgomery Village   \n",
       "2018-10-20 00:01:00        6th district, Gaithersburg / Montgomery Village   \n",
       "2018-10-20 00:01:00        6th district, Gaithersburg / Montgomery Village   \n",
       "2018-10-20 00:01:00        6th district, Gaithersburg / Montgomery Village   \n",
       "2018-10-20 00:01:00        6th district, Gaithersburg / Montgomery Village   \n",
       "2018-10-20 00:01:00        6th district, Gaithersburg / Montgomery Village   \n",
       "2018-10-20 00:01:00        6th district, Gaithersburg / Montgomery Village   \n",
       "2018-10-20 00:01:00        6th district, Gaithersburg / Montgomery Village   \n",
       "2018-10-20 00:01:00        6th district, Gaithersburg / Montgomery Village   \n",
       "\n",
       "                                                                 Description  \\\n",
       "Date Of Stop_Time Of Stop                                                      \n",
       "2018-10-20 00:01:00        PERSON DRIVING MOTOR VEHICLE ON HIGHWAY OR PUB...   \n",
       "2018-10-20 00:01:00        DRIVING WHILE LIC. SUSP. UNDER 16-203, 16-206A...   \n",
       "2018-10-20 00:01:00        PERSON DRIVING MOTOR VEHICLE ON HIGHWAY OR PUB...   \n",
       "2018-10-20 00:01:00        FAILURE OF INDIVIDUAL DRIVING ON HIGHWAY TO DI...   \n",
       "2018-10-20 00:01:00        NEGLIGENT DRIVING VEHICLE IN CARELESS AND IMPR...   \n",
       "2018-10-20 00:01:00        RECKLESS DRIVING VEHICLE IN WANTON AND WILLFUL...   \n",
       "2018-10-20 00:01:00        DRIVING VEHICLE WHILE UNDER THE INFLUENCE OF A...   \n",
       "2018-10-20 00:01:00                   DRIVING VEH. WHILE IMPAIRED BY ALCOHOL   \n",
       "2018-10-20 00:01:00        FAILURE OF VEH. DRIVER TO STOP AFTER UNATTENDE...   \n",
       "2018-10-20 00:01:00        FAILURE OF VEH. DRIVER IN ACCIDENT TO LOCATE A...   \n",
       "2018-10-20 00:01:00        FAILURE OF VEH. DRIVER TO FURNISH REQ'D WRITTE...   \n",
       "2018-10-20 00:01:00        ATTEMPT BY DRIVER TO ELUDE UNIFORMED POLICE BY...   \n",
       "2018-10-20 00:01:00        DRIVING MOTOR VEHICLE ON HIGHWAY WITHOUT REQUI...   \n",
       "\n",
       "                          Accident Belts Personal Injury Property Damage  \n",
       "Date Of Stop_Time Of Stop                                                 \n",
       "2018-10-20 00:01:00             No    No              No             Yes  \n",
       "2018-10-20 00:01:00             No    No              No             Yes  \n",
       "2018-10-20 00:01:00             No    No              No             Yes  \n",
       "2018-10-20 00:01:00             No    No              No             Yes  \n",
       "2018-10-20 00:01:00             No    No              No             Yes  \n",
       "2018-10-20 00:01:00             No    No              No             Yes  \n",
       "2018-10-20 00:01:00             No    No              No             Yes  \n",
       "2018-10-20 00:01:00             No    No              No             Yes  \n",
       "2018-10-20 00:01:00             No    No              No             Yes  \n",
       "2018-10-20 00:01:00             No    No              No             Yes  \n",
       "2018-10-20 00:01:00             No    No              No             Yes  \n",
       "2018-10-20 00:01:00             No    No              No             Yes  \n",
       "2018-10-20 00:01:00             No    No              No             Yes  "
      ]
     },
     "execution_count": 37,
     "metadata": {},
     "output_type": "execute_result"
    }
   ],
   "source": [
    "#data[data['Alcohol']=='Yes'].index\n",
    "data.loc['2018-10-20 00:01:00',['SubAgency','Description','Accident','Belts','Personal Injury','Property Damage']]"
   ]
  },
  {
   "cell_type": "markdown",
   "metadata": {},
   "source": [
    "<span style=\"color:darkblue\">I now want to look at a few fun stats about the cars and what cars are more likely to be pulled over or have a violation. I would like to see if the name \"Arrest me red\" holds up."
   ]
  },
  {
   "cell_type": "code",
   "execution_count": 70,
   "metadata": {},
   "outputs": [
    {
     "name": "stdout",
     "output_type": "stream",
     "text": [
      "Color\n",
      "BEIGE           16262\n",
      "BLACK          286652\n",
      "BLUE           103710\n",
      "BLUE, DARK      29842\n",
      "BLUE, LIGHT     18635\n",
      "BRONZE           3287\n",
      "BROWN            6455\n",
      "CAMOUFLAGE         28\n",
      "CHROME             38\n",
      "COPPER            447\n",
      "CREAM             880\n",
      "GOLD            44468\n",
      "GRAY           157430\n",
      "GREEN           52522\n",
      "GREEN, DK       15331\n",
      "GREEN, LGT       7901\n",
      "MAROON          24189\n",
      "MULTICOLOR       1085\n",
      "ORANGE           5006\n",
      "PINK              193\n",
      "PURPLE           2741\n",
      "RED            111143\n",
      "SILVER         259739\n",
      "TAN             28883\n",
      "WHITE          218952\n",
      "YELLOW           5339\n",
      "dtype: int64\n"
     ]
    }
   ],
   "source": [
    "#Trying to see which color car had the most violations\n",
    "data_color = data.groupby(['Color']).size()\n",
    "print(data_color)"
   ]
  },
  {
   "cell_type": "code",
   "execution_count": 69,
   "metadata": {},
   "outputs": [
    {
     "data": {
      "text/plain": [
       "<matplotlib.axes._subplots.AxesSubplot at 0x1a24231550>"
      ]
     },
     "execution_count": 69,
     "metadata": {},
     "output_type": "execute_result"
    },
    {
     "data": {
      "image/png": "[encoded data removed]",
      "text/plain": [
       "<Figure size 576x396 with 1 Axes>"
      ]
     },
     "metadata": {},
     "output_type": "display_data"
    }
   ],
   "source": [
    "#make a graph showing which color cars are more likely to be pulled over/have an incident\n",
    "#change all the colors on the graph to match the color car they are representing\n",
    "data['Color'].value_counts().plot.barh(color=['black', 'silver', 'white', 'gray', 'red', 'blue', 'green', 'gold', 'darkblue', 'tan', 'maroon', 'lightblue', 'beige', 'darkgreen', 'lightgreen', 'brown', 'yellow', 'orange', 'peru', 'purple', 'salmon', 'bisque', 'firebrick', 'pink', 'lightgrey', 'olive'])"
   ]
  },
  {
   "cell_type": "markdown",
   "metadata": {},
   "source": [
    "<span style=\"color:darkblue\">As we can see Red comes in 5th, however I believe this is becuase the majority of cars on the road are Black, Silver, White or Grey. Red does have the higehst arrest rate out of any of the brighter colors, closely following is blue."
   ]
  },
  {
   "cell_type": "markdown",
   "metadata": {},
   "source": [
    "<span style=\"color:darkblue\">Next I want to look at the makes of the cars. I would expect Toyota to be the top becuase they are the most driven vehicle in the country. However, I would expect sports cars could get pulled over more often since they have the ability to drive faster. "
   ]
  },
  {
   "cell_type": "code",
   "execution_count": 107,
   "metadata": {},
   "outputs": [
    {
     "data": {
      "text/plain": [
       "TOYOTA    161399\n",
       "HONDA     152799\n",
       "FORD      132534\n",
       "TOYT       79348\n",
       "NISSAN     75714\n",
       "HOND       53610\n",
       "CHEV       42893\n",
       "BMW        39004\n",
       "DODGE      37724\n",
       "CHEVY      32360\n",
       "Name: Make, dtype: int64"
      ]
     },
     "execution_count": 107,
     "metadata": {},
     "output_type": "execute_result"
    }
   ],
   "source": [
    "#Find the top 10 makes that had the most violations\n",
    "data['Make'].value_counts().head(10)"
   ]
  },
  {
   "cell_type": "code",
   "execution_count": 108,
   "metadata": {},
   "outputs": [
    {
     "data": {
      "text/plain": [
       "<matplotlib.axes._subplots.AxesSubplot at 0x1a24655e48>"
      ]
     },
     "execution_count": 108,
     "metadata": {},
     "output_type": "execute_result"
    },
    {
     "data": {
      "image/png": "[encoded data removed]",
      "text/plain": [
       "<Figure size 576x396 with 1 Axes>"
      ]
     },
     "metadata": {},
     "output_type": "display_data"
    }
   ],
   "source": [
    "#plot it to show\n",
    "data['Make'].value_counts().head(10).plot.barh()"
   ]
  },
  {
   "cell_type": "markdown",
   "metadata": {},
   "source": [
    "<span style=\"color:darkblue\">Toyota has the highest amount of violations which was expected. The only real sports car make in the top 10 is BMW, however Nissan, Chevy and Dodge also make some sports cars. "
   ]
  },
  {
   "cell_type": "code",
   "execution_count": 135,
   "metadata": {},
   "outputs": [
    {
     "name": "stdout",
     "output_type": "stream",
     "text": [
      "    Driver State\n",
      "MD       1280558\n",
      "DC         45424\n",
      "VA         44043\n",
      "PA          7387\n",
      "FL          5048\n",
      "NY          4376\n",
      "NC          3446\n",
      "WV          3032\n",
      "CA          2727\n",
      "NJ          2297\n",
      "TX          2040\n",
      "GA          1993\n",
      "MA          1483\n",
      "DE          1294\n",
      "OH          1270\n",
      "IL           950\n",
      "XX           923\n",
      "SC           914\n",
      "CT           734\n",
      "MI           718\n",
      "WA           699\n",
      "TN           599\n",
      "CO           537\n",
      "AZ           489\n",
      "IN           436\n",
      "AL           388\n",
      "MO           368\n",
      "LA           299\n",
      "MS           241\n",
      "KY           236\n",
      "NM           229\n",
      "NV           223\n",
      "MN           217\n",
      "OK           206\n",
      "WI           206\n",
      "RI           183\n",
      "UT           181\n",
      "ME           175\n",
      "NH           168\n",
      "OR           159\n",
      "ON           157\n",
      "KS           141\n",
      "HI           117\n",
      "AR           105\n",
      "ND           102\n",
      "IA            97\n",
      "VT            92\n",
      "AK            79\n",
      "NE            76\n",
      "MT            67\n"
     ]
    }
   ],
   "source": [
    "driver_state = pd.DataFrame(data['Driver State'].value_counts().head(50))\n",
    "state_names = pd.Series(['Maryland', 'DC', 'Virginia', 'Pennsylvaina', 'Florida', 'New York', 'North Carolina', 'West Virginia', 'California', 'New Jersey', 'Texas', 'Georgia', 'Massachusetts', 'Delaware', 'Ohio', 'Illinois', 'Canada', 'South Carolina', 'Connecticut', 'Michigan', 'Washington', 'Tennessee', 'Colorado', 'Arizona', 'Indiana', 'Alabama', 'Missouri', 'Louisiana', 'Mississippi', 'Kentucky', 'New Mexico', 'Nevada', 'Minnesota', 'Oklahoma', 'Wisconsin', 'Rhode Island', 'Utah', 'Maine', 'New Hampshire', 'Oregon', 'Ontario', 'Kansas', 'Hawaii', 'Arkansas', 'North Dakota', 'Iowa', 'Vermont', 'Alaska', 'Nebraska', 'Montana'])\n",
    "print(driver_state)"
   ]
  },
  {
   "cell_type": "code",
   "execution_count": 127,
   "metadata": {},
   "outputs": [],
   "source": [
    "import os"
   ]
  },
  {
   "cell_type": "code",
   "execution_count": 137,
   "metadata": {},
   "outputs": [
    {
     "data": {
      "text/html": [
       "<div style=\"width:100%;\"><div style=\"position:relative;width:100%;height:0;padding-bottom:60%;\"><iframe src=\"data:text/html;charset=utf-8;base64,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\" style=\"position:absolute;width:100%;height:100%;left:0;top:0;border:none !important;\" allowfullscreen webkitallowfullscreen mozallowfullscreen></iframe></div></div>"
      ],
      "text/plain": [
       "<folium.folium.Map at 0x1a26749908>"
      ]
     },
     "execution_count": 137,
     "metadata": {},
     "output_type": "execute_result"
    }
   ],
   "source": [
    "import folium\n",
    "m = folium.Map(location=[48, -102], zoom_start=3)\n",
    "state_geo = os.path.join('/Desktop/IS505/folium/examples/data', 'us-states.json') \n",
    "\n",
    "m = folium.Map(location=[48, -102], zoom_start=3)\n",
    "m"
   ]
  },
  {
   "cell_type": "code",
   "execution_count": 136,
   "metadata": {},
   "outputs": [
    {
     "ename": "IndexError",
     "evalue": "list index out of range",
     "output_type": "error",
     "traceback": [
      "\u001b[0;31m---------------------------------------------------------------------------\u001b[0m",
      "\u001b[0;31mIndexError\u001b[0m                                Traceback (most recent call last)",
      "\u001b[0;32m<ipython-input-136-5094f209f9f6>\u001b[0m in \u001b[0;36m<module>\u001b[0;34m()\u001b[0m\n\u001b[1;32m     15\u001b[0m     \u001b[0mfill_opacity\u001b[0m\u001b[0;34m=\u001b[0m\u001b[0;36m0.7\u001b[0m\u001b[0;34m,\u001b[0m\u001b[0;34m\u001b[0m\u001b[0m\n\u001b[1;32m     16\u001b[0m     \u001b[0mline_opacity\u001b[0m\u001b[0;34m=\u001b[0m\u001b[0;36m0.2\u001b[0m\u001b[0;34m,\u001b[0m\u001b[0;34m\u001b[0m\u001b[0m\n\u001b[0;32m---> 17\u001b[0;31m     \u001b[0mlegend_name\u001b[0m\u001b[0;34m=\u001b[0m\u001b[0;34m'Number of Drivers from that state'\u001b[0m\u001b[0;34m\u001b[0m\u001b[0m\n\u001b[0m\u001b[1;32m     18\u001b[0m ).add_to(m)\n\u001b[1;32m     19\u001b[0m \u001b[0;34m\u001b[0m\u001b[0m\n",
      "\u001b[0;32m/anaconda3/lib/python3.6/site-packages/folium/features.py\u001b[0m in \u001b[0;36m__init__\u001b[0;34m(self, geo_data, data, columns, key_on, bins, fill_color, nan_fill_color, fill_opacity, nan_fill_opacity, line_color, line_weight, line_opacity, name, legend_name, overlay, control, show, topojson, smooth_factor, highlight, **kwargs)\u001b[0m\n\u001b[1;32m    866\u001b[0m         \u001b[0;32mif\u001b[0m \u001b[0mhasattr\u001b[0m\u001b[0;34m(\u001b[0m\u001b[0mdata\u001b[0m\u001b[0;34m,\u001b[0m \u001b[0;34m'set_index'\u001b[0m\u001b[0;34m)\u001b[0m\u001b[0;34m:\u001b[0m\u001b[0;34m\u001b[0m\u001b[0m\n\u001b[1;32m    867\u001b[0m             \u001b[0;31m# This is a pd.DataFrame\u001b[0m\u001b[0;34m\u001b[0m\u001b[0;34m\u001b[0m\u001b[0m\n\u001b[0;32m--> 868\u001b[0;31m             \u001b[0mcolor_data\u001b[0m \u001b[0;34m=\u001b[0m \u001b[0mdata\u001b[0m\u001b[0;34m.\u001b[0m\u001b[0mset_index\u001b[0m\u001b[0;34m(\u001b[0m\u001b[0mcolumns\u001b[0m\u001b[0;34m[\u001b[0m\u001b[0;36m0\u001b[0m\u001b[0;34m]\u001b[0m\u001b[0;34m)\u001b[0m\u001b[0;34m[\u001b[0m\u001b[0mcolumns\u001b[0m\u001b[0;34m[\u001b[0m\u001b[0;36m1\u001b[0m\u001b[0;34m]\u001b[0m\u001b[0;34m]\u001b[0m\u001b[0;34m.\u001b[0m\u001b[0mto_dict\u001b[0m\u001b[0;34m(\u001b[0m\u001b[0;34m)\u001b[0m\u001b[0;34m\u001b[0m\u001b[0m\n\u001b[0m\u001b[1;32m    869\u001b[0m         \u001b[0;32melif\u001b[0m \u001b[0mhasattr\u001b[0m\u001b[0;34m(\u001b[0m\u001b[0mdata\u001b[0m\u001b[0;34m,\u001b[0m \u001b[0;34m'to_dict'\u001b[0m\u001b[0;34m)\u001b[0m\u001b[0;34m:\u001b[0m\u001b[0;34m\u001b[0m\u001b[0m\n\u001b[1;32m    870\u001b[0m             \u001b[0;31m# This is a pd.Series\u001b[0m\u001b[0;34m\u001b[0m\u001b[0;34m\u001b[0m\u001b[0m\n",
      "\u001b[0;31mIndexError\u001b[0m: list index out of range"
     ]
    }
   ],
   "source": [
    "# Import folium\n",
    "import folium\n",
    "m = folium.Map(location=[48, -102], zoom_start=3)\n",
    "state_geo = os.path.join('/Desktop/IS505/folium/examples/data', 'us-states.json') \n",
    "\n",
    "m = folium.Map(location=[48, -102], zoom_start=3)\n",
    "\n",
    "def style_function(feature):\n",
    "    \n",
    "    return {\n",
    "        'fillOpacity': 0.5,\n",
    "        'weight': 0,\n",
    "        'fillColor': '#black' if employed is None else colorscale(employed)\n",
    "    }\n",
    "\n",
    "folium.Choropleth(\n",
    "    geo_data=state_geo,\n",
    "    name='choropleth',\n",
    "    data=driver_state,\n",
    "    columns=['Driver State'],\n",
    "    key_on='feature.id',\n",
    "    fill_color='YlGn',\n",
    "    fill_opacity=0.7,\n",
    "    line_opacity=0.2,\n",
    "    legend_name='Number of Drivers from that state'\n",
    ").add_to(m)\n",
    "\n",
    "folium.LayerControl().add_to(m)\n",
    "\n",
    "m"
   ]
  },
  {
   "cell_type": "code",
   "execution_count": null,
   "metadata": {},
   "outputs": [],
   "source": []
  },
  {
   "cell_type": "code",
   "execution_count": null,
   "metadata": {},
   "outputs": [],
   "source": []
  }
 ],
 "metadata": {
  "kernelspec": {
   "display_name": "Python 3",
   "language": "python",
   "name": "python3"
  },
  "language_info": {
   "codemirror_mode": {
    "name": "ipython",
    "version": 3
   },
   "file_extension": ".py",
   "mimetype": "text/x-python",
   "name": "python",
   "nbconvert_exporter": "python",
   "pygments_lexer": "ipython3",
   "version": "3.6.5"
  }
 },
 "nbformat": 4,
 "nbformat_minor": 2
}
